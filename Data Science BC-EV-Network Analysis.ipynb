{
 "cells": [
  {
   "cell_type": "markdown",
   "id": "450f9836-d9bd-43a7-9176-5676a1805319",
   "metadata": {},
   "source": [
    "# Data Scientist (RO 27) Assignment - Clean Transportation Branch - March 2023\n",
    "\n",
    "### Submitted by: Matthew Buttler Ives\n",
    "\n",
    "### Due Date: 6:00 PM, March 22nd, 2023"
   ]
  },
  {
   "cell_type": "markdown",
   "id": "0305edfa-7557-47c2-af15-2d588e309aec",
   "metadata": {},
   "source": [
    "### Overview and Summary of Dataset:\n",
    "\n",
    "### The dataset is provided in tabular format with 1779 rows and 70 columns. Removing completely null columns, the dataset is reduced to 38, which appears to be due to columns meant to contain fossil fuel related data variables. The dataset's timeframe is from March 2011 and ends on March 2023. The data outlines variables associated to the BC EV Charging Network and a normal amount of missing data variables is present. \n",
    "\n",
    "### The dataset provided by the federal government is useful in allowing us to gauge overall growth, location, type and pricing of the EV charging station network in British Columbia (BC). Based on the data, the BC EV charging network is posed to see its largest growth in 2023, as 2022 set a record year for the number of EV charging stations available to consumers. The EV network is primiarly situated in BC's largest cities with Vancouver making up 15% of the total available EV charging stations, followed by Victoria at 6.35%. The average number of EV charging stations a city has in BC is 8 but many cities outside of the greater Vancouver area only have one charging station. Of BC's EV charging stations, 77% of them soley have EVSE level 2 support while an additional 20% offer a hybird model of offering level 2 and fast charger support. The pricing of this EV network is hard to determine as the vast majority of responses are not present within the data. What is available allows us to determine that 63% of BC EV's charging network is free while the remaining have either free with parking fees required or require payment per minute of use."
   ]
  },
  {
   "cell_type": "code",
   "execution_count": 109,
   "id": "45736002-f7d6-45fd-a9f0-647c0d9dde09",
   "metadata": {},
   "outputs": [],
   "source": [
    "# Importing necessary python packages\n",
    "import numpy as np\n",
    "import pandas as pd\n",
    "\n",
    "# Importing plotly python packages for visuals\n",
    "from plotly.subplots import make_subplots\n",
    "import plotly.graph_objects as go\n",
    "import plotly.express as px\n",
    "%config InlineBackend.figure_format ='retina'\n",
    "import matplotlib.pyplot as plt\n",
    "%matplotlib inline\n",
    "import seaborn as sns\n",
    "\n",
    "# Math and statistic packages\n",
    "from pylab import rcParams\n",
    "import statsmodels.api as sm\n",
    "\n",
    "# Linear Forecast Packages\n",
    "import statsmodels.formula.api as smf\n",
    "\n",
    "# Importing the data collected from the Government Path using the filepath name on my local computer\n",
    "df = pd.read_csv('/Users/matthewbuttlerives/Downloads/alt_fuel_stations (Mar 19 2023).csv')"
   ]
  },
  {
   "cell_type": "code",
   "execution_count": 110,
   "id": "29c8cb91-a639-474e-a73d-fc6d369ade96",
   "metadata": {},
   "outputs": [
    {
     "data": {
      "text/html": [
       "<div>\n",
       "<style scoped>\n",
       "    .dataframe tbody tr th:only-of-type {\n",
       "        vertical-align: middle;\n",
       "    }\n",
       "\n",
       "    .dataframe tbody tr th {\n",
       "        vertical-align: top;\n",
       "    }\n",
       "\n",
       "    .dataframe thead th {\n",
       "        text-align: right;\n",
       "    }\n",
       "</style>\n",
       "<table border=\"1\" class=\"dataframe\">\n",
       "  <thead>\n",
       "    <tr style=\"text-align: right;\">\n",
       "      <th></th>\n",
       "      <th>Fuel Type Code</th>\n",
       "      <th>Station Name</th>\n",
       "      <th>Street Address</th>\n",
       "      <th>Intersection Directions</th>\n",
       "      <th>City</th>\n",
       "      <th>State</th>\n",
       "      <th>ZIP</th>\n",
       "      <th>Plus4</th>\n",
       "      <th>Station Phone</th>\n",
       "      <th>Status Code</th>\n",
       "      <th>Expected Date</th>\n",
       "      <th>Groups With Access Code</th>\n",
       "      <th>Access Days Time</th>\n",
       "      <th>Cards Accepted</th>\n",
       "      <th>BD Blends</th>\n",
       "      <th>NG Fill Type Code</th>\n",
       "      <th>NG PSI</th>\n",
       "      <th>EV Level1 EVSE Num</th>\n",
       "      <th>EV Level2 EVSE Num</th>\n",
       "      <th>EV DC Fast Count</th>\n",
       "      <th>EV Other Info</th>\n",
       "      <th>EV Network</th>\n",
       "      <th>EV Network Web</th>\n",
       "      <th>Geocode Status</th>\n",
       "      <th>Latitude</th>\n",
       "      <th>Longitude</th>\n",
       "      <th>Date Last Confirmed</th>\n",
       "      <th>ID</th>\n",
       "      <th>Updated At</th>\n",
       "      <th>Owner Type Code</th>\n",
       "      <th>Federal Agency ID</th>\n",
       "      <th>Federal Agency Name</th>\n",
       "      <th>Open Date</th>\n",
       "      <th>Hydrogen Status Link</th>\n",
       "      <th>NG Vehicle Class</th>\n",
       "      <th>LPG Primary</th>\n",
       "      <th>E85 Blender Pump</th>\n",
       "      <th>EV Connector Types</th>\n",
       "      <th>Country</th>\n",
       "      <th>Intersection Directions (French)</th>\n",
       "      <th>Access Days Time (French)</th>\n",
       "      <th>BD Blends (French)</th>\n",
       "      <th>Groups With Access Code (French)</th>\n",
       "      <th>Hydrogen Is Retail</th>\n",
       "      <th>Access Code</th>\n",
       "      <th>Access Detail Code</th>\n",
       "      <th>Federal Agency Code</th>\n",
       "      <th>Facility Type</th>\n",
       "      <th>CNG Dispenser Num</th>\n",
       "      <th>CNG On-Site Renewable Source</th>\n",
       "      <th>CNG Total Compression Capacity</th>\n",
       "      <th>CNG Storage Capacity</th>\n",
       "      <th>LNG On-Site Renewable Source</th>\n",
       "      <th>E85 Other Ethanol Blends</th>\n",
       "      <th>EV Pricing</th>\n",
       "      <th>EV Pricing (French)</th>\n",
       "      <th>LPG Nozzle Types</th>\n",
       "      <th>Hydrogen Pressures</th>\n",
       "      <th>Hydrogen Standards</th>\n",
       "      <th>CNG Fill Type Code</th>\n",
       "      <th>CNG PSI</th>\n",
       "      <th>CNG Vehicle Class</th>\n",
       "      <th>LNG Vehicle Class</th>\n",
       "      <th>EV On-Site Renewable Source</th>\n",
       "      <th>Restricted Access</th>\n",
       "      <th>RD Blends</th>\n",
       "      <th>RD Blends (French)</th>\n",
       "      <th>RD Blended with Biodiesel</th>\n",
       "      <th>RD Maximum Biodiesel Level</th>\n",
       "      <th>NPS Unit Name</th>\n",
       "    </tr>\n",
       "  </thead>\n",
       "  <tbody>\n",
       "    <tr>\n",
       "      <th>0</th>\n",
       "      <td>ELEC</td>\n",
       "      <td>City of Nanaimo - Underground Parking Lot</td>\n",
       "      <td>101 Gordon St</td>\n",
       "      <td>NaN</td>\n",
       "      <td>Nanaimo</td>\n",
       "      <td>BC</td>\n",
       "      <td>V9R 5J6</td>\n",
       "      <td>NaN</td>\n",
       "      <td>250-754-4251</td>\n",
       "      <td>E</td>\n",
       "      <td>NaN</td>\n",
       "      <td>Public</td>\n",
       "      <td>24 hours daily</td>\n",
       "      <td>NaN</td>\n",
       "      <td>NaN</td>\n",
       "      <td>NaN</td>\n",
       "      <td>NaN</td>\n",
       "      <td>NaN</td>\n",
       "      <td>2.0</td>\n",
       "      <td>NaN</td>\n",
       "      <td>NaN</td>\n",
       "      <td>Non-Networked</td>\n",
       "      <td>NaN</td>\n",
       "      <td>200-9</td>\n",
       "      <td>49.164770</td>\n",
       "      <td>-123.936147</td>\n",
       "      <td>2020-03-05</td>\n",
       "      <td>83426</td>\n",
       "      <td>2021-06-07 17:08:43 UTC</td>\n",
       "      <td>P</td>\n",
       "      <td>NaN</td>\n",
       "      <td>NaN</td>\n",
       "      <td>2017-02-15</td>\n",
       "      <td>NaN</td>\n",
       "      <td>NaN</td>\n",
       "      <td>NaN</td>\n",
       "      <td>NaN</td>\n",
       "      <td>J1772</td>\n",
       "      <td>CA</td>\n",
       "      <td>NaN</td>\n",
       "      <td>Accessible 24 heures par jour</td>\n",
       "      <td>NaN</td>\n",
       "      <td>Public</td>\n",
       "      <td>NaN</td>\n",
       "      <td>public</td>\n",
       "      <td>NaN</td>\n",
       "      <td>NaN</td>\n",
       "      <td>MUNI_GOV</td>\n",
       "      <td>NaN</td>\n",
       "      <td>NaN</td>\n",
       "      <td>NaN</td>\n",
       "      <td>NaN</td>\n",
       "      <td>NaN</td>\n",
       "      <td>NaN</td>\n",
       "      <td>Free</td>\n",
       "      <td>Gratuit</td>\n",
       "      <td>NaN</td>\n",
       "      <td>NaN</td>\n",
       "      <td>NaN</td>\n",
       "      <td>NaN</td>\n",
       "      <td>NaN</td>\n",
       "      <td>NaN</td>\n",
       "      <td>NaN</td>\n",
       "      <td>NaN</td>\n",
       "      <td>False</td>\n",
       "      <td>NaN</td>\n",
       "      <td>NaN</td>\n",
       "      <td>NaN</td>\n",
       "      <td>NaN</td>\n",
       "      <td>NaN</td>\n",
       "    </tr>\n",
       "    <tr>\n",
       "      <th>1</th>\n",
       "      <td>ELEC</td>\n",
       "      <td>Fulford Community Hall</td>\n",
       "      <td>2591 Fulford-Ganges Rd</td>\n",
       "      <td>NaN</td>\n",
       "      <td>Salt Spring Island</td>\n",
       "      <td>BC</td>\n",
       "      <td>V8K 1Z4</td>\n",
       "      <td>NaN</td>\n",
       "      <td>NaN</td>\n",
       "      <td>E</td>\n",
       "      <td>NaN</td>\n",
       "      <td>Public</td>\n",
       "      <td>24 hours daily</td>\n",
       "      <td>NaN</td>\n",
       "      <td>NaN</td>\n",
       "      <td>NaN</td>\n",
       "      <td>NaN</td>\n",
       "      <td>NaN</td>\n",
       "      <td>1.0</td>\n",
       "      <td>NaN</td>\n",
       "      <td>NaN</td>\n",
       "      <td>Non-Networked</td>\n",
       "      <td>NaN</td>\n",
       "      <td>GPS</td>\n",
       "      <td>48.772431</td>\n",
       "      <td>-123.465926</td>\n",
       "      <td>2022-08-09</td>\n",
       "      <td>83491</td>\n",
       "      <td>2022-08-09 21:18:29 UTC</td>\n",
       "      <td>P</td>\n",
       "      <td>NaN</td>\n",
       "      <td>NaN</td>\n",
       "      <td>2020-08-21</td>\n",
       "      <td>NaN</td>\n",
       "      <td>NaN</td>\n",
       "      <td>NaN</td>\n",
       "      <td>NaN</td>\n",
       "      <td>J1772</td>\n",
       "      <td>CA</td>\n",
       "      <td>NaN</td>\n",
       "      <td>24 heures par jour</td>\n",
       "      <td>NaN</td>\n",
       "      <td>Public</td>\n",
       "      <td>NaN</td>\n",
       "      <td>public</td>\n",
       "      <td>NaN</td>\n",
       "      <td>NaN</td>\n",
       "      <td>MUNI_GOV</td>\n",
       "      <td>NaN</td>\n",
       "      <td>NaN</td>\n",
       "      <td>NaN</td>\n",
       "      <td>NaN</td>\n",
       "      <td>NaN</td>\n",
       "      <td>NaN</td>\n",
       "      <td>Free; donations accepted</td>\n",
       "      <td>Gratuit; dons acceptés</td>\n",
       "      <td>NaN</td>\n",
       "      <td>NaN</td>\n",
       "      <td>NaN</td>\n",
       "      <td>NaN</td>\n",
       "      <td>NaN</td>\n",
       "      <td>NaN</td>\n",
       "      <td>NaN</td>\n",
       "      <td>NaN</td>\n",
       "      <td>False</td>\n",
       "      <td>NaN</td>\n",
       "      <td>NaN</td>\n",
       "      <td>NaN</td>\n",
       "      <td>NaN</td>\n",
       "      <td>NaN</td>\n",
       "    </tr>\n",
       "    <tr>\n",
       "      <th>2</th>\n",
       "      <td>ELEC</td>\n",
       "      <td>Poets Cove Resort and Spa</td>\n",
       "      <td>9801 Spalding Rd</td>\n",
       "      <td>NaN</td>\n",
       "      <td>Pender Island</td>\n",
       "      <td>BC</td>\n",
       "      <td>V0N 2M3</td>\n",
       "      <td>NaN</td>\n",
       "      <td>250-629-2100</td>\n",
       "      <td>E</td>\n",
       "      <td>NaN</td>\n",
       "      <td>Public</td>\n",
       "      <td>24 hours daily</td>\n",
       "      <td>NaN</td>\n",
       "      <td>NaN</td>\n",
       "      <td>NaN</td>\n",
       "      <td>NaN</td>\n",
       "      <td>NaN</td>\n",
       "      <td>1.0</td>\n",
       "      <td>NaN</td>\n",
       "      <td>NaN</td>\n",
       "      <td>Non-Networked</td>\n",
       "      <td>NaN</td>\n",
       "      <td>200-9</td>\n",
       "      <td>48.748128</td>\n",
       "      <td>-123.227170</td>\n",
       "      <td>2022-08-09</td>\n",
       "      <td>83492</td>\n",
       "      <td>2022-08-09 21:18:29 UTC</td>\n",
       "      <td>P</td>\n",
       "      <td>NaN</td>\n",
       "      <td>NaN</td>\n",
       "      <td>2017-05-17</td>\n",
       "      <td>NaN</td>\n",
       "      <td>NaN</td>\n",
       "      <td>NaN</td>\n",
       "      <td>NaN</td>\n",
       "      <td>J1772</td>\n",
       "      <td>CA</td>\n",
       "      <td>NaN</td>\n",
       "      <td>Accessible 24 heures par jour</td>\n",
       "      <td>NaN</td>\n",
       "      <td>Public</td>\n",
       "      <td>NaN</td>\n",
       "      <td>public</td>\n",
       "      <td>NaN</td>\n",
       "      <td>NaN</td>\n",
       "      <td>HOTEL</td>\n",
       "      <td>NaN</td>\n",
       "      <td>NaN</td>\n",
       "      <td>NaN</td>\n",
       "      <td>NaN</td>\n",
       "      <td>NaN</td>\n",
       "      <td>NaN</td>\n",
       "      <td>Free</td>\n",
       "      <td>Gratuit</td>\n",
       "      <td>NaN</td>\n",
       "      <td>NaN</td>\n",
       "      <td>NaN</td>\n",
       "      <td>NaN</td>\n",
       "      <td>NaN</td>\n",
       "      <td>NaN</td>\n",
       "      <td>NaN</td>\n",
       "      <td>NaN</td>\n",
       "      <td>False</td>\n",
       "      <td>NaN</td>\n",
       "      <td>NaN</td>\n",
       "      <td>NaN</td>\n",
       "      <td>NaN</td>\n",
       "      <td>NaN</td>\n",
       "    </tr>\n",
       "    <tr>\n",
       "      <th>3</th>\n",
       "      <td>ELEC</td>\n",
       "      <td>City of Merritt - City Hall</td>\n",
       "      <td>2185 Voght St</td>\n",
       "      <td>Located on the front posts of the building</td>\n",
       "      <td>Merritt</td>\n",
       "      <td>BC</td>\n",
       "      <td>V1K 1R6</td>\n",
       "      <td>NaN</td>\n",
       "      <td>250-378-4224</td>\n",
       "      <td>E</td>\n",
       "      <td>NaN</td>\n",
       "      <td>Public</td>\n",
       "      <td>24 hours daily</td>\n",
       "      <td>NaN</td>\n",
       "      <td>NaN</td>\n",
       "      <td>NaN</td>\n",
       "      <td>NaN</td>\n",
       "      <td>NaN</td>\n",
       "      <td>2.0</td>\n",
       "      <td>NaN</td>\n",
       "      <td>NaN</td>\n",
       "      <td>Non-Networked</td>\n",
       "      <td>NaN</td>\n",
       "      <td>200-9</td>\n",
       "      <td>50.112488</td>\n",
       "      <td>-120.788241</td>\n",
       "      <td>2022-07-08</td>\n",
       "      <td>83527</td>\n",
       "      <td>2022-07-08 16:02:07 UTC</td>\n",
       "      <td>P</td>\n",
       "      <td>NaN</td>\n",
       "      <td>NaN</td>\n",
       "      <td>2014-06-15</td>\n",
       "      <td>NaN</td>\n",
       "      <td>NaN</td>\n",
       "      <td>NaN</td>\n",
       "      <td>NaN</td>\n",
       "      <td>J1772</td>\n",
       "      <td>CA</td>\n",
       "      <td>Située sur les poteaux avant du btiment</td>\n",
       "      <td>Accessible 24 heures par jour</td>\n",
       "      <td>NaN</td>\n",
       "      <td>Public</td>\n",
       "      <td>NaN</td>\n",
       "      <td>public</td>\n",
       "      <td>NaN</td>\n",
       "      <td>NaN</td>\n",
       "      <td>MUNI_GOV</td>\n",
       "      <td>NaN</td>\n",
       "      <td>NaN</td>\n",
       "      <td>NaN</td>\n",
       "      <td>NaN</td>\n",
       "      <td>NaN</td>\n",
       "      <td>NaN</td>\n",
       "      <td>Free</td>\n",
       "      <td>Gratuit</td>\n",
       "      <td>NaN</td>\n",
       "      <td>NaN</td>\n",
       "      <td>NaN</td>\n",
       "      <td>NaN</td>\n",
       "      <td>NaN</td>\n",
       "      <td>NaN</td>\n",
       "      <td>NaN</td>\n",
       "      <td>NaN</td>\n",
       "      <td>False</td>\n",
       "      <td>NaN</td>\n",
       "      <td>NaN</td>\n",
       "      <td>NaN</td>\n",
       "      <td>NaN</td>\n",
       "      <td>NaN</td>\n",
       "    </tr>\n",
       "    <tr>\n",
       "      <th>4</th>\n",
       "      <td>ELEC</td>\n",
       "      <td>North Shore Kia</td>\n",
       "      <td>855 W 1st St</td>\n",
       "      <td>NaN</td>\n",
       "      <td>North Vancouver</td>\n",
       "      <td>BC</td>\n",
       "      <td>V7P 1A4</td>\n",
       "      <td>NaN</td>\n",
       "      <td>NaN</td>\n",
       "      <td>E</td>\n",
       "      <td>NaN</td>\n",
       "      <td>Public - Call ahead</td>\n",
       "      <td>Dealership business hours</td>\n",
       "      <td>NaN</td>\n",
       "      <td>NaN</td>\n",
       "      <td>NaN</td>\n",
       "      <td>NaN</td>\n",
       "      <td>NaN</td>\n",
       "      <td>1.0</td>\n",
       "      <td>NaN</td>\n",
       "      <td>NaN</td>\n",
       "      <td>Non-Networked</td>\n",
       "      <td>NaN</td>\n",
       "      <td>GPS</td>\n",
       "      <td>49.317660</td>\n",
       "      <td>-123.096703</td>\n",
       "      <td>2022-04-13</td>\n",
       "      <td>83550</td>\n",
       "      <td>2022-04-26 16:04:15 UTC</td>\n",
       "      <td>P</td>\n",
       "      <td>NaN</td>\n",
       "      <td>NaN</td>\n",
       "      <td>2021-02-09</td>\n",
       "      <td>NaN</td>\n",
       "      <td>NaN</td>\n",
       "      <td>NaN</td>\n",
       "      <td>NaN</td>\n",
       "      <td>J1772</td>\n",
       "      <td>CA</td>\n",
       "      <td>NaN</td>\n",
       "      <td>Heures d’ouverture du concessionnaire</td>\n",
       "      <td>NaN</td>\n",
       "      <td>Public - Appeler à l'avance</td>\n",
       "      <td>NaN</td>\n",
       "      <td>public</td>\n",
       "      <td>CALL</td>\n",
       "      <td>NaN</td>\n",
       "      <td>CAR_DEALER</td>\n",
       "      <td>NaN</td>\n",
       "      <td>NaN</td>\n",
       "      <td>NaN</td>\n",
       "      <td>NaN</td>\n",
       "      <td>NaN</td>\n",
       "      <td>NaN</td>\n",
       "      <td>Free</td>\n",
       "      <td>Gratuit</td>\n",
       "      <td>NaN</td>\n",
       "      <td>NaN</td>\n",
       "      <td>NaN</td>\n",
       "      <td>NaN</td>\n",
       "      <td>NaN</td>\n",
       "      <td>NaN</td>\n",
       "      <td>NaN</td>\n",
       "      <td>NaN</td>\n",
       "      <td>False</td>\n",
       "      <td>NaN</td>\n",
       "      <td>NaN</td>\n",
       "      <td>NaN</td>\n",
       "      <td>NaN</td>\n",
       "      <td>NaN</td>\n",
       "    </tr>\n",
       "  </tbody>\n",
       "</table>\n",
       "</div>"
      ],
      "text/plain": [
       "  Fuel Type Code                               Station Name  \\\n",
       "0           ELEC  City of Nanaimo - Underground Parking Lot   \n",
       "1           ELEC                     Fulford Community Hall   \n",
       "2           ELEC                  Poets Cove Resort and Spa   \n",
       "3           ELEC                City of Merritt - City Hall   \n",
       "4           ELEC                            North Shore Kia   \n",
       "\n",
       "           Street Address                     Intersection Directions  \\\n",
       "0           101 Gordon St                                         NaN   \n",
       "1  2591 Fulford-Ganges Rd                                         NaN   \n",
       "2        9801 Spalding Rd                                         NaN   \n",
       "3           2185 Voght St  Located on the front posts of the building   \n",
       "4            855 W 1st St                                         NaN   \n",
       "\n",
       "                 City State      ZIP  Plus4 Station Phone Status Code  \\\n",
       "0             Nanaimo    BC  V9R 5J6    NaN  250-754-4251           E   \n",
       "1  Salt Spring Island    BC  V8K 1Z4    NaN           NaN           E   \n",
       "2       Pender Island    BC  V0N 2M3    NaN  250-629-2100           E   \n",
       "3             Merritt    BC  V1K 1R6    NaN  250-378-4224           E   \n",
       "4     North Vancouver    BC  V7P 1A4    NaN           NaN           E   \n",
       "\n",
       "  Expected Date Groups With Access Code           Access Days Time  \\\n",
       "0           NaN                  Public             24 hours daily   \n",
       "1           NaN                  Public             24 hours daily   \n",
       "2           NaN                  Public             24 hours daily   \n",
       "3           NaN                  Public             24 hours daily   \n",
       "4           NaN     Public - Call ahead  Dealership business hours   \n",
       "\n",
       "  Cards Accepted  BD Blends  NG Fill Type Code  NG PSI  EV Level1 EVSE Num  \\\n",
       "0            NaN        NaN                NaN     NaN                 NaN   \n",
       "1            NaN        NaN                NaN     NaN                 NaN   \n",
       "2            NaN        NaN                NaN     NaN                 NaN   \n",
       "3            NaN        NaN                NaN     NaN                 NaN   \n",
       "4            NaN        NaN                NaN     NaN                 NaN   \n",
       "\n",
       "   EV Level2 EVSE Num  EV DC Fast Count  EV Other Info     EV Network  \\\n",
       "0                 2.0               NaN            NaN  Non-Networked   \n",
       "1                 1.0               NaN            NaN  Non-Networked   \n",
       "2                 1.0               NaN            NaN  Non-Networked   \n",
       "3                 2.0               NaN            NaN  Non-Networked   \n",
       "4                 1.0               NaN            NaN  Non-Networked   \n",
       "\n",
       "  EV Network Web Geocode Status   Latitude   Longitude Date Last Confirmed  \\\n",
       "0            NaN          200-9  49.164770 -123.936147          2020-03-05   \n",
       "1            NaN            GPS  48.772431 -123.465926          2022-08-09   \n",
       "2            NaN          200-9  48.748128 -123.227170          2022-08-09   \n",
       "3            NaN          200-9  50.112488 -120.788241          2022-07-08   \n",
       "4            NaN            GPS  49.317660 -123.096703          2022-04-13   \n",
       "\n",
       "      ID               Updated At Owner Type Code  Federal Agency ID  \\\n",
       "0  83426  2021-06-07 17:08:43 UTC               P                NaN   \n",
       "1  83491  2022-08-09 21:18:29 UTC               P                NaN   \n",
       "2  83492  2022-08-09 21:18:29 UTC               P                NaN   \n",
       "3  83527  2022-07-08 16:02:07 UTC               P                NaN   \n",
       "4  83550  2022-04-26 16:04:15 UTC               P                NaN   \n",
       "\n",
       "   Federal Agency Name   Open Date  Hydrogen Status Link  NG Vehicle Class  \\\n",
       "0                  NaN  2017-02-15                   NaN               NaN   \n",
       "1                  NaN  2020-08-21                   NaN               NaN   \n",
       "2                  NaN  2017-05-17                   NaN               NaN   \n",
       "3                  NaN  2014-06-15                   NaN               NaN   \n",
       "4                  NaN  2021-02-09                   NaN               NaN   \n",
       "\n",
       "   LPG Primary  E85 Blender Pump EV Connector Types Country  \\\n",
       "0          NaN               NaN              J1772      CA   \n",
       "1          NaN               NaN              J1772      CA   \n",
       "2          NaN               NaN              J1772      CA   \n",
       "3          NaN               NaN              J1772      CA   \n",
       "4          NaN               NaN              J1772      CA   \n",
       "\n",
       "          Intersection Directions (French)  \\\n",
       "0                                      NaN   \n",
       "1                                      NaN   \n",
       "2                                      NaN   \n",
       "3  Située sur les poteaux avant du btiment   \n",
       "4                                      NaN   \n",
       "\n",
       "               Access Days Time (French)  BD Blends (French)  \\\n",
       "0          Accessible 24 heures par jour                 NaN   \n",
       "1                     24 heures par jour                 NaN   \n",
       "2          Accessible 24 heures par jour                 NaN   \n",
       "3          Accessible 24 heures par jour                 NaN   \n",
       "4  Heures d’ouverture du concessionnaire                 NaN   \n",
       "\n",
       "  Groups With Access Code (French)  Hydrogen Is Retail Access Code  \\\n",
       "0                           Public                 NaN      public   \n",
       "1                           Public                 NaN      public   \n",
       "2                           Public                 NaN      public   \n",
       "3                           Public                 NaN      public   \n",
       "4      Public - Appeler à l'avance                 NaN      public   \n",
       "\n",
       "  Access Detail Code  Federal Agency Code Facility Type  CNG Dispenser Num  \\\n",
       "0                NaN                  NaN      MUNI_GOV                NaN   \n",
       "1                NaN                  NaN      MUNI_GOV                NaN   \n",
       "2                NaN                  NaN         HOTEL                NaN   \n",
       "3                NaN                  NaN      MUNI_GOV                NaN   \n",
       "4               CALL                  NaN    CAR_DEALER                NaN   \n",
       "\n",
       "   CNG On-Site Renewable Source  CNG Total Compression Capacity  \\\n",
       "0                           NaN                             NaN   \n",
       "1                           NaN                             NaN   \n",
       "2                           NaN                             NaN   \n",
       "3                           NaN                             NaN   \n",
       "4                           NaN                             NaN   \n",
       "\n",
       "   CNG Storage Capacity  LNG On-Site Renewable Source  \\\n",
       "0                   NaN                           NaN   \n",
       "1                   NaN                           NaN   \n",
       "2                   NaN                           NaN   \n",
       "3                   NaN                           NaN   \n",
       "4                   NaN                           NaN   \n",
       "\n",
       "   E85 Other Ethanol Blends                EV Pricing     EV Pricing (French)  \\\n",
       "0                       NaN                      Free                 Gratuit   \n",
       "1                       NaN  Free; donations accepted  Gratuit; dons acceptés   \n",
       "2                       NaN                      Free                 Gratuit   \n",
       "3                       NaN                      Free                 Gratuit   \n",
       "4                       NaN                      Free                 Gratuit   \n",
       "\n",
       "   LPG Nozzle Types  Hydrogen Pressures  Hydrogen Standards  \\\n",
       "0               NaN                 NaN                 NaN   \n",
       "1               NaN                 NaN                 NaN   \n",
       "2               NaN                 NaN                 NaN   \n",
       "3               NaN                 NaN                 NaN   \n",
       "4               NaN                 NaN                 NaN   \n",
       "\n",
       "   CNG Fill Type Code  CNG PSI  CNG Vehicle Class  LNG Vehicle Class  \\\n",
       "0                 NaN      NaN                NaN                NaN   \n",
       "1                 NaN      NaN                NaN                NaN   \n",
       "2                 NaN      NaN                NaN                NaN   \n",
       "3                 NaN      NaN                NaN                NaN   \n",
       "4                 NaN      NaN                NaN                NaN   \n",
       "\n",
       "  EV On-Site Renewable Source Restricted Access  RD Blends  \\\n",
       "0                         NaN             False        NaN   \n",
       "1                         NaN             False        NaN   \n",
       "2                         NaN             False        NaN   \n",
       "3                         NaN             False        NaN   \n",
       "4                         NaN             False        NaN   \n",
       "\n",
       "   RD Blends (French)  RD Blended with Biodiesel  RD Maximum Biodiesel Level  \\\n",
       "0                 NaN                        NaN                         NaN   \n",
       "1                 NaN                        NaN                         NaN   \n",
       "2                 NaN                        NaN                         NaN   \n",
       "3                 NaN                        NaN                         NaN   \n",
       "4                 NaN                        NaN                         NaN   \n",
       "\n",
       "   NPS Unit Name  \n",
       "0            NaN  \n",
       "1            NaN  \n",
       "2            NaN  \n",
       "3            NaN  \n",
       "4            NaN  "
      ]
     },
     "execution_count": 110,
     "metadata": {},
     "output_type": "execute_result"
    }
   ],
   "source": [
    "# Quick Look of dataset\n",
    "pd.set_option('display.max_columns', None)\n",
    "df.head()"
   ]
  },
  {
   "cell_type": "code",
   "execution_count": 111,
   "id": "290750d1-8f12-46d3-ac32-3008b9b03269",
   "metadata": {},
   "outputs": [
    {
     "data": {
      "text/plain": [
       "(1779, 70)"
      ]
     },
     "execution_count": 111,
     "metadata": {},
     "output_type": "execute_result"
    }
   ],
   "source": [
    "# Datasets Shape\n",
    "df.shape"
   ]
  },
  {
   "cell_type": "code",
   "execution_count": 112,
   "id": "ea94414d-ef69-40f5-84b5-c51d57d9167f",
   "metadata": {},
   "outputs": [
    {
     "name": "stdout",
     "output_type": "stream",
     "text": [
      "<class 'pandas.core.frame.DataFrame'>\n",
      "RangeIndex: 1779 entries, 0 to 1778\n",
      "Data columns (total 70 columns):\n",
      " #   Column                            Non-Null Count  Dtype  \n",
      "---  ------                            --------------  -----  \n",
      " 0   Fuel Type Code                    1779 non-null   object \n",
      " 1   Station Name                      1779 non-null   object \n",
      " 2   Street Address                    1779 non-null   object \n",
      " 3   Intersection Directions           21 non-null     object \n",
      " 4   City                              1779 non-null   object \n",
      " 5   State                             1779 non-null   object \n",
      " 6   ZIP                               1779 non-null   object \n",
      " 7   Plus4                             0 non-null      float64\n",
      " 8   Station Phone                     1582 non-null   object \n",
      " 9   Status Code                       1779 non-null   object \n",
      " 10  Expected Date                     199 non-null    object \n",
      " 11  Groups With Access Code           1779 non-null   object \n",
      " 12  Access Days Time                  1437 non-null   object \n",
      " 13  Cards Accepted                    123 non-null    object \n",
      " 14  BD Blends                         0 non-null      float64\n",
      " 15  NG Fill Type Code                 0 non-null      float64\n",
      " 16  NG PSI                            0 non-null      float64\n",
      " 17  EV Level1 EVSE Num                2 non-null      float64\n",
      " 18  EV Level2 EVSE Num                1413 non-null   float64\n",
      " 19  EV DC Fast Count                  403 non-null    float64\n",
      " 20  EV Other Info                     0 non-null      float64\n",
      " 21  EV Network                        1779 non-null   object \n",
      " 22  EV Network Web                    1452 non-null   object \n",
      " 23  Geocode Status                    1777 non-null   object \n",
      " 24  Latitude                          1779 non-null   float64\n",
      " 25  Longitude                         1779 non-null   float64\n",
      " 26  Date Last Confirmed               1775 non-null   object \n",
      " 27  ID                                1779 non-null   int64  \n",
      " 28  Updated At                        1779 non-null   object \n",
      " 29  Owner Type Code                   664 non-null    object \n",
      " 30  Federal Agency ID                 0 non-null      float64\n",
      " 31  Federal Agency Name               0 non-null      float64\n",
      " 32  Open Date                         1581 non-null   object \n",
      " 33  Hydrogen Status Link              0 non-null      float64\n",
      " 34  NG Vehicle Class                  0 non-null      float64\n",
      " 35  LPG Primary                       0 non-null      float64\n",
      " 36  E85 Blender Pump                  0 non-null      float64\n",
      " 37  EV Connector Types                1755 non-null   object \n",
      " 38  Country                           1779 non-null   object \n",
      " 39  Intersection Directions (French)  16 non-null     object \n",
      " 40  Access Days Time (French)         729 non-null    object \n",
      " 41  BD Blends (French)                0 non-null      float64\n",
      " 42  Groups With Access Code (French)  1779 non-null   object \n",
      " 43  Hydrogen Is Retail                0 non-null      float64\n",
      " 44  Access Code                       1779 non-null   object \n",
      " 45  Access Detail Code                120 non-null    object \n",
      " 46  Federal Agency Code               0 non-null      float64\n",
      " 47  Facility Type                     476 non-null    object \n",
      " 48  CNG Dispenser Num                 0 non-null      float64\n",
      " 49  CNG On-Site Renewable Source      0 non-null      float64\n",
      " 50  CNG Total Compression Capacity    0 non-null      float64\n",
      " 51  CNG Storage Capacity              0 non-null      float64\n",
      " 52  LNG On-Site Renewable Source      0 non-null      float64\n",
      " 53  E85 Other Ethanol Blends          0 non-null      float64\n",
      " 54  EV Pricing                        394 non-null    object \n",
      " 55  EV Pricing (French)               383 non-null    object \n",
      " 56  LPG Nozzle Types                  0 non-null      float64\n",
      " 57  Hydrogen Pressures                0 non-null      float64\n",
      " 58  Hydrogen Standards                0 non-null      float64\n",
      " 59  CNG Fill Type Code                0 non-null      float64\n",
      " 60  CNG PSI                           0 non-null      float64\n",
      " 61  CNG Vehicle Class                 0 non-null      float64\n",
      " 62  LNG Vehicle Class                 0 non-null      float64\n",
      " 63  EV On-Site Renewable Source       4 non-null      object \n",
      " 64  Restricted Access                 514 non-null    object \n",
      " 65  RD Blends                         0 non-null      float64\n",
      " 66  RD Blends (French)                0 non-null      float64\n",
      " 67  RD Blended with Biodiesel         0 non-null      float64\n",
      " 68  RD Maximum Biodiesel Level        0 non-null      float64\n",
      " 69  NPS Unit Name                     0 non-null      float64\n",
      "dtypes: float64(37), int64(1), object(32)\n",
      "memory usage: 973.0+ KB\n"
     ]
    }
   ],
   "source": [
    "# Dataset info regarding column name, null/non-null count, and column type.\n",
    "df.info()"
   ]
  },
  {
   "cell_type": "code",
   "execution_count": 113,
   "id": "332b90e2-e48b-4bb6-9a8e-1a0948532e42",
   "metadata": {},
   "outputs": [
    {
     "data": {
      "text/plain": [
       "(1779, 38)"
      ]
     },
     "execution_count": 113,
     "metadata": {},
     "output_type": "execute_result"
    }
   ],
   "source": [
    "# Removing all columns that have no non-null values.\n",
    "df = df.dropna(axis=1, how='all')\n",
    "df.shape"
   ]
  },
  {
   "cell_type": "code",
   "execution_count": 114,
   "id": "dc4c05e6-409a-44e1-aafd-7ae4e3fd541f",
   "metadata": {},
   "outputs": [
    {
     "name": "stdout",
     "output_type": "stream",
     "text": [
      "\u001b[1mColumns Entirely Unary\u001b[0m\n",
      "Fuel Type Code : \u001b[1mELEC\u001b[0m\n",
      "State : \u001b[1mBC\u001b[0m\n",
      "Country : \u001b[1mCA\u001b[0m\n",
      "Access Code : \u001b[1mpublic\u001b[0m\n"
     ]
    }
   ],
   "source": [
    "### Examining Rows entirely unary values\n",
    "def unary_features(x):\n",
    "    x_column_names = list(x.columns)\n",
    "    count = 0\n",
    "    print('\\033[1m' +'Columns Entirely Unary'+'\\033[0m')\n",
    "    for i in x_column_names:\n",
    "        if x[i].nunique(dropna=True) == 1:\n",
    "            print(i,':','\\033[1m'+str(x[i][0])+'\\033[0m')\n",
    "            count += 1\n",
    "        else:\n",
    "            pass\n",
    "    if count == 0:\n",
    "        print('\\033[1m' +'No Entirely Unary Columns'+'\\033[0m')\n",
    "    return x\n",
    "unary_features(df)\n",
    "\n",
    "# What this basic fuction examines is which columns have only unary variables. This information is helpful as it confirms\n",
    "# that the dataset is focused only on Electric Fuel types, within the province of British Columbia and are of public access.\n",
    "# These columns can now be removed as they only contain one unique value for the entire dataset and can be removed without\n",
    "# effecting the analysis of the overall dataset as they don't provide any more additional information/context.\n",
    "\n",
    "df = df.drop(columns = ['Fuel Type Code','State','Country','Access Code'])"
   ]
  },
  {
   "cell_type": "code",
   "execution_count": 115,
   "id": "b0863c03-50b1-4dbb-9f48-85796e72e548",
   "metadata": {},
   "outputs": [],
   "source": [
    "# There are also additional columns that relay the same information but are presented in French. In order to focus on the\n",
    "# core description of the dataset and that it does not appear that any stakeholders must be presented to in French, I \n",
    "# will remove these additional columns that are in French.\n",
    "\n",
    "df = df[df.columns.drop(list(df.filter(regex='French')))]"
   ]
  },
  {
   "cell_type": "markdown",
   "id": "9aaacb5e-9c9b-426b-92a6-f669a45f3b35",
   "metadata": {},
   "source": [
    "## City Analysis"
   ]
  },
  {
   "cell_type": "code",
   "execution_count": 116,
   "id": "e8ad3497-7bb6-4d7e-84ba-ff37b6be225c",
   "metadata": {},
   "outputs": [
    {
     "data": {
      "text/plain": [
       "Vancouver            281\n",
       "Victoria             109\n",
       "Richmond             104\n",
       "Burnaby               96\n",
       "Surrey                90\n",
       "                    ... \n",
       "Thompson-Nicola I      1\n",
       "Fanny Bay              1\n",
       "Cariboo K              1\n",
       "Gabriola Island        1\n",
       "Lumby                  1\n",
       "Name: City, Length: 237, dtype: int64"
      ]
     },
     "execution_count": 116,
     "metadata": {},
     "output_type": "execute_result"
    }
   ],
   "source": [
    "# First I am curious to examine the distribution of electric charging stations across BC by City. From previous info query, there\n",
    "# are no null values within this column.\n",
    "\n",
    "df['City'].value_counts()"
   ]
  },
  {
   "cell_type": "code",
   "execution_count": 117,
   "id": "56196f26-d141-4b38-a851-4e8940e29dbd",
   "metadata": {},
   "outputs": [
    {
     "data": {
      "text/html": [
       "<div>\n",
       "<style scoped>\n",
       "    .dataframe tbody tr th:only-of-type {\n",
       "        vertical-align: middle;\n",
       "    }\n",
       "\n",
       "    .dataframe tbody tr th {\n",
       "        vertical-align: top;\n",
       "    }\n",
       "\n",
       "    .dataframe thead th {\n",
       "        text-align: right;\n",
       "    }\n",
       "</style>\n",
       "<table border=\"1\" class=\"dataframe\">\n",
       "  <thead>\n",
       "    <tr style=\"text-align: right;\">\n",
       "      <th></th>\n",
       "      <th>City</th>\n",
       "      <th>Count</th>\n",
       "    </tr>\n",
       "  </thead>\n",
       "  <tbody>\n",
       "    <tr>\n",
       "      <th>0</th>\n",
       "      <td>Vancouver</td>\n",
       "      <td>281</td>\n",
       "    </tr>\n",
       "    <tr>\n",
       "      <th>1</th>\n",
       "      <td>Victoria</td>\n",
       "      <td>109</td>\n",
       "    </tr>\n",
       "    <tr>\n",
       "      <th>2</th>\n",
       "      <td>Richmond</td>\n",
       "      <td>104</td>\n",
       "    </tr>\n",
       "    <tr>\n",
       "      <th>3</th>\n",
       "      <td>Burnaby</td>\n",
       "      <td>96</td>\n",
       "    </tr>\n",
       "    <tr>\n",
       "      <th>4</th>\n",
       "      <td>Surrey</td>\n",
       "      <td>90</td>\n",
       "    </tr>\n",
       "    <tr>\n",
       "      <th>5</th>\n",
       "      <td>North Vancouver</td>\n",
       "      <td>51</td>\n",
       "    </tr>\n",
       "    <tr>\n",
       "      <th>6</th>\n",
       "      <td>Abbotsford</td>\n",
       "      <td>46</td>\n",
       "    </tr>\n",
       "    <tr>\n",
       "      <th>7</th>\n",
       "      <td>Delta</td>\n",
       "      <td>44</td>\n",
       "    </tr>\n",
       "    <tr>\n",
       "      <th>8</th>\n",
       "      <td>Kelowna</td>\n",
       "      <td>37</td>\n",
       "    </tr>\n",
       "    <tr>\n",
       "      <th>9</th>\n",
       "      <td>Whistler</td>\n",
       "      <td>34</td>\n",
       "    </tr>\n",
       "  </tbody>\n",
       "</table>\n",
       "</div>"
      ],
      "text/plain": [
       "              City  Count\n",
       "0        Vancouver    281\n",
       "1         Victoria    109\n",
       "2         Richmond    104\n",
       "3          Burnaby     96\n",
       "4           Surrey     90\n",
       "5  North Vancouver     51\n",
       "6       Abbotsford     46\n",
       "7            Delta     44\n",
       "8          Kelowna     37\n",
       "9         Whistler     34"
      ]
     },
     "execution_count": 117,
     "metadata": {},
     "output_type": "execute_result"
    }
   ],
   "source": [
    "# If we convert these value counts to a dataframe, we can create quick visualizations to understand EV charging stations\n",
    "# across BC by City. Then lets show that dataframe with the top ten cities whom have charging stations by count.\n",
    "bar_chart = df.City.value_counts().rename_axis('City').reset_index(name='Count').sort_values(by=['Count'],ascending=False)\n",
    "bar_chart.head(10)"
   ]
  },
  {
   "cell_type": "markdown",
   "id": "46a1d61a-a28f-44bb-b45f-48ff58eae489",
   "metadata": {
    "tags": []
   },
   "source": [
    "### From further examining the City column, it appears there are duplicates, in that some cities have been entered in all capital letters while others have been entered with only the first letter capitalized. An example is shown below."
   ]
  },
  {
   "cell_type": "code",
   "execution_count": 118,
   "id": "011275c8-444e-4609-8dda-4d409b106ef4",
   "metadata": {},
   "outputs": [
    {
     "data": {
      "text/html": [
       "<div>\n",
       "<style scoped>\n",
       "    .dataframe tbody tr th:only-of-type {\n",
       "        vertical-align: middle;\n",
       "    }\n",
       "\n",
       "    .dataframe tbody tr th {\n",
       "        vertical-align: top;\n",
       "    }\n",
       "\n",
       "    .dataframe thead th {\n",
       "        text-align: right;\n",
       "    }\n",
       "</style>\n",
       "<table border=\"1\" class=\"dataframe\">\n",
       "  <thead>\n",
       "    <tr style=\"text-align: right;\">\n",
       "      <th></th>\n",
       "      <th>City</th>\n",
       "      <th>Count</th>\n",
       "    </tr>\n",
       "  </thead>\n",
       "  <tbody>\n",
       "    <tr>\n",
       "      <th>162</th>\n",
       "      <td>BURNABY</td>\n",
       "      <td>1</td>\n",
       "    </tr>\n",
       "    <tr>\n",
       "      <th>161</th>\n",
       "      <td>DELTA</td>\n",
       "      <td>1</td>\n",
       "    </tr>\n",
       "    <tr>\n",
       "      <th>160</th>\n",
       "      <td>MAPLE RIDGE</td>\n",
       "      <td>1</td>\n",
       "    </tr>\n",
       "    <tr>\n",
       "      <th>159</th>\n",
       "      <td>OLIVER</td>\n",
       "      <td>1</td>\n",
       "    </tr>\n",
       "    <tr>\n",
       "      <th>236</th>\n",
       "      <td>Lumby</td>\n",
       "      <td>1</td>\n",
       "    </tr>\n",
       "  </tbody>\n",
       "</table>\n",
       "</div>"
      ],
      "text/plain": [
       "            City  Count\n",
       "162      BURNABY      1\n",
       "161        DELTA      1\n",
       "160  MAPLE RIDGE      1\n",
       "159       OLIVER      1\n",
       "236        Lumby      1"
      ]
     },
     "execution_count": 118,
     "metadata": {},
     "output_type": "execute_result"
    }
   ],
   "source": [
    "bar_chart.tail(5)\n",
    "# Burnaby has been entered in all capital letters for one row. This does not align with most insistences with only the first \n",
    "# letter capitalized. I am curious to see if these cities have any unique signifigance in the dataset."
   ]
  },
  {
   "cell_type": "code",
   "execution_count": 119,
   "id": "8ecb8b49-82a6-445a-bc0d-83da80d867ae",
   "metadata": {},
   "outputs": [
    {
     "data": {
      "text/html": [
       "<div>\n",
       "<style scoped>\n",
       "    .dataframe tbody tr th:only-of-type {\n",
       "        vertical-align: middle;\n",
       "    }\n",
       "\n",
       "    .dataframe tbody tr th {\n",
       "        vertical-align: top;\n",
       "    }\n",
       "\n",
       "    .dataframe thead th {\n",
       "        text-align: right;\n",
       "    }\n",
       "</style>\n",
       "<table border=\"1\" class=\"dataframe\">\n",
       "  <thead>\n",
       "    <tr style=\"text-align: right;\">\n",
       "      <th></th>\n",
       "      <th>Station Name</th>\n",
       "      <th>Street Address</th>\n",
       "      <th>Intersection Directions</th>\n",
       "      <th>City</th>\n",
       "      <th>ZIP</th>\n",
       "      <th>Station Phone</th>\n",
       "      <th>Status Code</th>\n",
       "      <th>Expected Date</th>\n",
       "      <th>Groups With Access Code</th>\n",
       "      <th>Access Days Time</th>\n",
       "      <th>Cards Accepted</th>\n",
       "      <th>EV Level1 EVSE Num</th>\n",
       "      <th>EV Level2 EVSE Num</th>\n",
       "      <th>EV DC Fast Count</th>\n",
       "      <th>EV Network</th>\n",
       "      <th>EV Network Web</th>\n",
       "      <th>Geocode Status</th>\n",
       "      <th>Latitude</th>\n",
       "      <th>Longitude</th>\n",
       "      <th>Date Last Confirmed</th>\n",
       "      <th>ID</th>\n",
       "      <th>Updated At</th>\n",
       "      <th>Owner Type Code</th>\n",
       "      <th>Open Date</th>\n",
       "      <th>EV Connector Types</th>\n",
       "      <th>Access Detail Code</th>\n",
       "      <th>Facility Type</th>\n",
       "      <th>EV Pricing</th>\n",
       "      <th>EV On-Site Renewable Source</th>\n",
       "      <th>Restricted Access</th>\n",
       "    </tr>\n",
       "  </thead>\n",
       "  <tbody>\n",
       "    <tr>\n",
       "      <th>500</th>\n",
       "      <td>Hwy 3A  Kootenay Bay Rest Area</td>\n",
       "      <td>BC-3A</td>\n",
       "      <td>NaN</td>\n",
       "      <td>KOOTENAY BAY FERRY LANDING</td>\n",
       "      <td>V0B 2B0</td>\n",
       "      <td>888-356-8911</td>\n",
       "      <td>E</td>\n",
       "      <td>NaN</td>\n",
       "      <td>Public</td>\n",
       "      <td>24 hours daily</td>\n",
       "      <td>NaN</td>\n",
       "      <td>NaN</td>\n",
       "      <td>2.0</td>\n",
       "      <td>NaN</td>\n",
       "      <td>FLO</td>\n",
       "      <td>https://flo.ca/</td>\n",
       "      <td>GPS</td>\n",
       "      <td>49.675305</td>\n",
       "      <td>-116.872428</td>\n",
       "      <td>2023-03-19</td>\n",
       "      <td>153841</td>\n",
       "      <td>2023-03-19 00:52:26 UTC</td>\n",
       "      <td>NaN</td>\n",
       "      <td>2020-02-20</td>\n",
       "      <td>J1772</td>\n",
       "      <td>NaN</td>\n",
       "      <td>NaN</td>\n",
       "      <td>NaN</td>\n",
       "      <td>NaN</td>\n",
       "      <td>NaN</td>\n",
       "    </tr>\n",
       "    <tr>\n",
       "      <th>856</th>\n",
       "      <td>Hampton Park (Public)</td>\n",
       "      <td>258 HAMPTON ROAD</td>\n",
       "      <td>NaN</td>\n",
       "      <td>VICTORIA</td>\n",
       "      <td>V8Z 1H1</td>\n",
       "      <td>888-356-8911</td>\n",
       "      <td>E</td>\n",
       "      <td>NaN</td>\n",
       "      <td>Public</td>\n",
       "      <td>24 hours daily</td>\n",
       "      <td>NaN</td>\n",
       "      <td>NaN</td>\n",
       "      <td>1.0</td>\n",
       "      <td>NaN</td>\n",
       "      <td>FLO</td>\n",
       "      <td>https://flo.ca/</td>\n",
       "      <td>GPS</td>\n",
       "      <td>48.454594</td>\n",
       "      <td>-123.390982</td>\n",
       "      <td>2023-03-19</td>\n",
       "      <td>187911</td>\n",
       "      <td>2023-03-19 00:52:26 UTC</td>\n",
       "      <td>NaN</td>\n",
       "      <td>2021-04-23</td>\n",
       "      <td>J1772</td>\n",
       "      <td>NaN</td>\n",
       "      <td>NaN</td>\n",
       "      <td>NaN</td>\n",
       "      <td>NaN</td>\n",
       "      <td>NaN</td>\n",
       "    </tr>\n",
       "    <tr>\n",
       "      <th>857</th>\n",
       "      <td>Hampton Park (Public)</td>\n",
       "      <td>533 Avenue de la Montagne</td>\n",
       "      <td>NaN</td>\n",
       "      <td>VICTORIA</td>\n",
       "      <td>V8Z 1H1</td>\n",
       "      <td>888-356-8911</td>\n",
       "      <td>E</td>\n",
       "      <td>NaN</td>\n",
       "      <td>Public</td>\n",
       "      <td>24 hours daily</td>\n",
       "      <td>NaN</td>\n",
       "      <td>NaN</td>\n",
       "      <td>1.0</td>\n",
       "      <td>NaN</td>\n",
       "      <td>FLO</td>\n",
       "      <td>https://flo.ca/</td>\n",
       "      <td>GPS</td>\n",
       "      <td>48.454594</td>\n",
       "      <td>-123.390982</td>\n",
       "      <td>2023-03-19</td>\n",
       "      <td>187912</td>\n",
       "      <td>2023-03-19 00:52:26 UTC</td>\n",
       "      <td>NaN</td>\n",
       "      <td>2021-04-23</td>\n",
       "      <td>J1772</td>\n",
       "      <td>NaN</td>\n",
       "      <td>NaN</td>\n",
       "      <td>NaN</td>\n",
       "      <td>NaN</td>\n",
       "      <td>NaN</td>\n",
       "    </tr>\n",
       "    <tr>\n",
       "      <th>858</th>\n",
       "      <td>Cadboro Gyro Park (Public)</td>\n",
       "      <td>2600 SINCLAIR ROAD</td>\n",
       "      <td>NaN</td>\n",
       "      <td>VICTORIA</td>\n",
       "      <td>V8P 5N8</td>\n",
       "      <td>888-356-8911</td>\n",
       "      <td>E</td>\n",
       "      <td>NaN</td>\n",
       "      <td>Public</td>\n",
       "      <td>24 hours daily</td>\n",
       "      <td>NaN</td>\n",
       "      <td>NaN</td>\n",
       "      <td>2.0</td>\n",
       "      <td>NaN</td>\n",
       "      <td>FLO</td>\n",
       "      <td>https://flo.ca/</td>\n",
       "      <td>GPS</td>\n",
       "      <td>48.459187</td>\n",
       "      <td>-123.294872</td>\n",
       "      <td>2023-03-19</td>\n",
       "      <td>187913</td>\n",
       "      <td>2023-03-19 00:52:26 UTC</td>\n",
       "      <td>NaN</td>\n",
       "      <td>2021-04-23</td>\n",
       "      <td>J1772</td>\n",
       "      <td>NaN</td>\n",
       "      <td>NaN</td>\n",
       "      <td>NaN</td>\n",
       "      <td>NaN</td>\n",
       "      <td>NaN</td>\n",
       "    </tr>\n",
       "    <tr>\n",
       "      <th>1128</th>\n",
       "      <td>Waterwheel Park</td>\n",
       "      <td>9799 WATERWHEEL CRESCENT</td>\n",
       "      <td>NaN</td>\n",
       "      <td>CHEMAINUS</td>\n",
       "      <td>V0R 1K0</td>\n",
       "      <td>888-356-8911</td>\n",
       "      <td>E</td>\n",
       "      <td>NaN</td>\n",
       "      <td>Public</td>\n",
       "      <td>24 hours daily</td>\n",
       "      <td>NaN</td>\n",
       "      <td>NaN</td>\n",
       "      <td>2.0</td>\n",
       "      <td>NaN</td>\n",
       "      <td>FLO</td>\n",
       "      <td>https://flo.ca/</td>\n",
       "      <td>GPS</td>\n",
       "      <td>48.923421</td>\n",
       "      <td>-123.717301</td>\n",
       "      <td>2023-03-19</td>\n",
       "      <td>216416</td>\n",
       "      <td>2023-03-19 00:52:26 UTC</td>\n",
       "      <td>NaN</td>\n",
       "      <td>2022-04-29</td>\n",
       "      <td>J1772</td>\n",
       "      <td>NaN</td>\n",
       "      <td>NaN</td>\n",
       "      <td>NaN</td>\n",
       "      <td>NaN</td>\n",
       "      <td>NaN</td>\n",
       "    </tr>\n",
       "  </tbody>\n",
       "</table>\n",
       "</div>"
      ],
      "text/plain": [
       "                        Station Name             Street Address  \\\n",
       "500   Hwy 3A  Kootenay Bay Rest Area                      BC-3A   \n",
       "856            Hampton Park (Public)           258 HAMPTON ROAD   \n",
       "857            Hampton Park (Public)  533 Avenue de la Montagne   \n",
       "858       Cadboro Gyro Park (Public)         2600 SINCLAIR ROAD   \n",
       "1128                 Waterwheel Park   9799 WATERWHEEL CRESCENT   \n",
       "\n",
       "     Intersection Directions                        City      ZIP  \\\n",
       "500                      NaN  KOOTENAY BAY FERRY LANDING  V0B 2B0   \n",
       "856                      NaN                    VICTORIA  V8Z 1H1   \n",
       "857                      NaN                    VICTORIA  V8Z 1H1   \n",
       "858                      NaN                    VICTORIA  V8P 5N8   \n",
       "1128                     NaN                   CHEMAINUS  V0R 1K0   \n",
       "\n",
       "     Station Phone Status Code Expected Date Groups With Access Code  \\\n",
       "500   888-356-8911           E           NaN                  Public   \n",
       "856   888-356-8911           E           NaN                  Public   \n",
       "857   888-356-8911           E           NaN                  Public   \n",
       "858   888-356-8911           E           NaN                  Public   \n",
       "1128  888-356-8911           E           NaN                  Public   \n",
       "\n",
       "     Access Days Time Cards Accepted  EV Level1 EVSE Num  EV Level2 EVSE Num  \\\n",
       "500    24 hours daily            NaN                 NaN                 2.0   \n",
       "856    24 hours daily            NaN                 NaN                 1.0   \n",
       "857    24 hours daily            NaN                 NaN                 1.0   \n",
       "858    24 hours daily            NaN                 NaN                 2.0   \n",
       "1128   24 hours daily            NaN                 NaN                 2.0   \n",
       "\n",
       "      EV DC Fast Count EV Network   EV Network Web Geocode Status   Latitude  \\\n",
       "500                NaN        FLO  https://flo.ca/            GPS  49.675305   \n",
       "856                NaN        FLO  https://flo.ca/            GPS  48.454594   \n",
       "857                NaN        FLO  https://flo.ca/            GPS  48.454594   \n",
       "858                NaN        FLO  https://flo.ca/            GPS  48.459187   \n",
       "1128               NaN        FLO  https://flo.ca/            GPS  48.923421   \n",
       "\n",
       "       Longitude Date Last Confirmed      ID               Updated At  \\\n",
       "500  -116.872428          2023-03-19  153841  2023-03-19 00:52:26 UTC   \n",
       "856  -123.390982          2023-03-19  187911  2023-03-19 00:52:26 UTC   \n",
       "857  -123.390982          2023-03-19  187912  2023-03-19 00:52:26 UTC   \n",
       "858  -123.294872          2023-03-19  187913  2023-03-19 00:52:26 UTC   \n",
       "1128 -123.717301          2023-03-19  216416  2023-03-19 00:52:26 UTC   \n",
       "\n",
       "     Owner Type Code   Open Date EV Connector Types Access Detail Code  \\\n",
       "500              NaN  2020-02-20              J1772                NaN   \n",
       "856              NaN  2021-04-23              J1772                NaN   \n",
       "857              NaN  2021-04-23              J1772                NaN   \n",
       "858              NaN  2021-04-23              J1772                NaN   \n",
       "1128             NaN  2022-04-29              J1772                NaN   \n",
       "\n",
       "     Facility Type EV Pricing EV On-Site Renewable Source Restricted Access  \n",
       "500            NaN        NaN                         NaN               NaN  \n",
       "856            NaN        NaN                         NaN               NaN  \n",
       "857            NaN        NaN                         NaN               NaN  \n",
       "858            NaN        NaN                         NaN               NaN  \n",
       "1128           NaN        NaN                         NaN               NaN  "
      ]
     },
     "execution_count": 119,
     "metadata": {},
     "output_type": "execute_result"
    }
   ],
   "source": [
    "# Only rows with all capital letters for cities.\n",
    "df.loc[df[\"City\"].str.isupper(), :].head(5)\n",
    "\n",
    "# From examination there does not appear to be any difference and I'm inclined to believe it is a data entry issue."
   ]
  },
  {
   "cell_type": "code",
   "execution_count": 124,
   "id": "1d742261-4ac6-4c64-98b3-e322fc41d077",
   "metadata": {},
   "outputs": [
    {
     "data": {
      "text/html": [
       "<div>\n",
       "<style scoped>\n",
       "    .dataframe tbody tr th:only-of-type {\n",
       "        vertical-align: middle;\n",
       "    }\n",
       "\n",
       "    .dataframe tbody tr th {\n",
       "        vertical-align: top;\n",
       "    }\n",
       "\n",
       "    .dataframe thead th {\n",
       "        text-align: right;\n",
       "    }\n",
       "</style>\n",
       "<table border=\"1\" class=\"dataframe\">\n",
       "  <thead>\n",
       "    <tr style=\"text-align: right;\">\n",
       "      <th></th>\n",
       "      <th>City</th>\n",
       "      <th>Count</th>\n",
       "    </tr>\n",
       "  </thead>\n",
       "  <tbody>\n",
       "    <tr>\n",
       "      <th>0</th>\n",
       "      <td>Vancouver</td>\n",
       "      <td>0.159078</td>\n",
       "    </tr>\n",
       "    <tr>\n",
       "      <th>1</th>\n",
       "      <td>Victoria</td>\n",
       "      <td>0.063519</td>\n",
       "    </tr>\n",
       "    <tr>\n",
       "      <th>2</th>\n",
       "      <td>Richmond</td>\n",
       "      <td>0.058460</td>\n",
       "    </tr>\n",
       "    <tr>\n",
       "      <th>3</th>\n",
       "      <td>Burnaby</td>\n",
       "      <td>0.054525</td>\n",
       "    </tr>\n",
       "    <tr>\n",
       "      <th>4</th>\n",
       "      <td>Surrey</td>\n",
       "      <td>0.052277</td>\n",
       "    </tr>\n",
       "    <tr>\n",
       "      <th>5</th>\n",
       "      <td>North Vancouver</td>\n",
       "      <td>0.028668</td>\n",
       "    </tr>\n",
       "    <tr>\n",
       "      <th>6</th>\n",
       "      <td>Abbotsford</td>\n",
       "      <td>0.025857</td>\n",
       "    </tr>\n",
       "    <tr>\n",
       "      <th>7</th>\n",
       "      <td>Delta</td>\n",
       "      <td>0.025295</td>\n",
       "    </tr>\n",
       "    <tr>\n",
       "      <th>8</th>\n",
       "      <td>Kelowna</td>\n",
       "      <td>0.021922</td>\n",
       "    </tr>\n",
       "    <tr>\n",
       "      <th>9</th>\n",
       "      <td>Whistler</td>\n",
       "      <td>0.019112</td>\n",
       "    </tr>\n",
       "  </tbody>\n",
       "</table>\n",
       "</div>"
      ],
      "text/plain": [
       "              City     Count\n",
       "0        Vancouver  0.159078\n",
       "1         Victoria  0.063519\n",
       "2         Richmond  0.058460\n",
       "3          Burnaby  0.054525\n",
       "4           Surrey  0.052277\n",
       "5  North Vancouver  0.028668\n",
       "6       Abbotsford  0.025857\n",
       "7            Delta  0.025295\n",
       "8          Kelowna  0.021922\n",
       "9         Whistler  0.019112"
      ]
     },
     "execution_count": 124,
     "metadata": {},
     "output_type": "execute_result"
    }
   ],
   "source": [
    "# This issue can be resolved with some quick python code.\n",
    "df.City = df.City.str.title()\n",
    "# Double Check and re-enter above code\n",
    "bar_chart = df.City.value_counts(normalize=True).rename_axis('City').reset_index(name='Count').sort_values(by=['Count'],ascending=False)\n",
    "bar_chart.head(10)"
   ]
  },
  {
   "cell_type": "markdown",
   "id": "55fb33f5-3d23-495e-b9b0-e57134b8d13f",
   "metadata": {},
   "source": [
    "### Here we can quickly see the distribution of EV charging stations across BC. Vancouver has the highest concentration of EV charging stations accounting for 16% of BC's total EV charging station count, followed by Victoria at 6.35%, Richmond at 5.84% and Burnaby at 5.45%."
   ]
  },
  {
   "cell_type": "code",
   "execution_count": 126,
   "id": "5c509827-3e48-4793-9a82-c3f663c9ccca",
   "metadata": {},
   "outputs": [
    {
     "data": {
      "text/html": [
       "<div>\n",
       "<style scoped>\n",
       "    .dataframe tbody tr th:only-of-type {\n",
       "        vertical-align: middle;\n",
       "    }\n",
       "\n",
       "    .dataframe tbody tr th {\n",
       "        vertical-align: top;\n",
       "    }\n",
       "\n",
       "    .dataframe thead th {\n",
       "        text-align: right;\n",
       "    }\n",
       "</style>\n",
       "<table border=\"1\" class=\"dataframe\">\n",
       "  <thead>\n",
       "    <tr style=\"text-align: right;\">\n",
       "      <th></th>\n",
       "      <th>City</th>\n",
       "      <th>Count</th>\n",
       "    </tr>\n",
       "  </thead>\n",
       "  <tbody>\n",
       "    <tr>\n",
       "      <th>161</th>\n",
       "      <td>Egmont</td>\n",
       "      <td>1</td>\n",
       "    </tr>\n",
       "    <tr>\n",
       "      <th>160</th>\n",
       "      <td>Hudson'S Hope</td>\n",
       "      <td>1</td>\n",
       "    </tr>\n",
       "    <tr>\n",
       "      <th>159</th>\n",
       "      <td>Tsawwassen</td>\n",
       "      <td>1</td>\n",
       "    </tr>\n",
       "    <tr>\n",
       "      <th>158</th>\n",
       "      <td>Sun Peaks</td>\n",
       "      <td>1</td>\n",
       "    </tr>\n",
       "    <tr>\n",
       "      <th>157</th>\n",
       "      <td>Comox Valley</td>\n",
       "      <td>1</td>\n",
       "    </tr>\n",
       "    <tr>\n",
       "      <th>156</th>\n",
       "      <td>Logan Lake</td>\n",
       "      <td>1</td>\n",
       "    </tr>\n",
       "    <tr>\n",
       "      <th>155</th>\n",
       "      <td>North Saanich</td>\n",
       "      <td>1</td>\n",
       "    </tr>\n",
       "    <tr>\n",
       "      <th>154</th>\n",
       "      <td>Central Okanagan</td>\n",
       "      <td>1</td>\n",
       "    </tr>\n",
       "    <tr>\n",
       "      <th>153</th>\n",
       "      <td>Tsleil-Waututh</td>\n",
       "      <td>1</td>\n",
       "    </tr>\n",
       "    <tr>\n",
       "      <th>223</th>\n",
       "      <td>Slocan</td>\n",
       "      <td>1</td>\n",
       "    </tr>\n",
       "  </tbody>\n",
       "</table>\n",
       "</div>"
      ],
      "text/plain": [
       "                 City  Count\n",
       "161            Egmont      1\n",
       "160     Hudson'S Hope      1\n",
       "159        Tsawwassen      1\n",
       "158         Sun Peaks      1\n",
       "157      Comox Valley      1\n",
       "156        Logan Lake      1\n",
       "155     North Saanich      1\n",
       "154  Central Okanagan      1\n",
       "153    Tsleil-Waututh      1\n",
       "223            Slocan      1"
      ]
     },
     "execution_count": 126,
     "metadata": {},
     "output_type": "execute_result"
    }
   ],
   "source": [
    "bar_chart = df.City.value_counts(normalize=False).rename_axis('City').reset_index(name='Count').sort_values(by=['Count'],ascending=False)\n",
    "bar_chart.tail(10)"
   ]
  },
  {
   "cell_type": "markdown",
   "id": "7f16d2dd-bbc6-4c1e-86cf-1141554a973f",
   "metadata": {},
   "source": [
    "### And from here, we see that cities outside the greater Vancouver area, BC municipalities have far fewer EV charging stations, with some only having one EV charging station."
   ]
  },
  {
   "cell_type": "code",
   "execution_count": 128,
   "id": "d6f38b67-f1f6-4614-b197-2ca846dd2346",
   "metadata": {},
   "outputs": [
    {
     "name": "stderr",
     "output_type": "stream",
     "text": [
      "/opt/anaconda3/lib/python3.8/site-packages/seaborn/distributions.py:2619: FutureWarning:\n",
      "\n",
      "`distplot` is a deprecated function and will be removed in a future version. Please adapt your code to use either `displot` (a figure-level function with similar flexibility) or `histplot` (an axes-level function for histograms).\n",
      "\n"
     ]
    },
    {
     "data": {
      "image/png": "[encoded data removed]",
      "text/plain": [
       "<Figure size 720x288 with 1 Axes>"
      ]
     },
     "metadata": {
      "image/png": {
       "height": 263,
       "width": 310
      },
      "needs_background": "light"
     },
     "output_type": "display_data"
    },
    {
     "name": "stdout",
     "output_type": "stream",
     "text": [
      "Average Number of EV Charging Stations by City : \u001b[1m7.94\u001b[0m\n"
     ]
    }
   ],
   "source": [
    "# Quick distribution of EV charging stations by Count\n",
    "plt.figure(figsize=(10,4))\n",
    "plt.subplot(1,2,1)\n",
    "sns.distplot(bar_chart['Count'],bins = 100)\n",
    "plt.show()\n",
    "\n",
    "print('Average Number of EV Charging Stations by City : '+'\\033[1m' + str(round(bar_chart.Count.mean(),2)) +'\\033[0m')"
   ]
  },
  {
   "cell_type": "markdown",
   "id": "0c35d3c1-c3ec-4774-a203-f202a5ae7637",
   "metadata": {
    "tags": []
   },
   "source": [
    "### This distribution plot alongside the above value counts table shows us that the vast majority of cities have only 1 or more EV charging stations with the average number of charging stations a BC city has is 8 (rounding up as we can't have 0.9 of a charging station)."
   ]
  },
  {
   "cell_type": "markdown",
   "id": "0a64d613-c9f3-43be-ad1d-d705783c4bb4",
   "metadata": {},
   "source": [
    "## EV Network Development Trends"
   ]
  },
  {
   "cell_type": "code",
   "execution_count": 129,
   "id": "14defe5c-ca31-49f3-8f23-1f69d4f7068e",
   "metadata": {},
   "outputs": [],
   "source": [
    "# I want to examine the Open Date of these EV charging stations to examine trend lines. To do this, I will create a time series\n",
    "# trend line chart taking each year, by month and the number of EV's opened to explore the trends of new EV's being opened."
   ]
  },
  {
   "cell_type": "code",
   "execution_count": 130,
   "id": "0f9d6fa6-f307-4f58-a89e-305449ea4b86",
   "metadata": {},
   "outputs": [
    {
     "data": {
      "text/html": [
       "<div>\n",
       "<style scoped>\n",
       "    .dataframe tbody tr th:only-of-type {\n",
       "        vertical-align: middle;\n",
       "    }\n",
       "\n",
       "    .dataframe tbody tr th {\n",
       "        vertical-align: top;\n",
       "    }\n",
       "\n",
       "    .dataframe thead th {\n",
       "        text-align: right;\n",
       "    }\n",
       "</style>\n",
       "<table border=\"1\" class=\"dataframe\">\n",
       "  <thead>\n",
       "    <tr style=\"text-align: right;\">\n",
       "      <th></th>\n",
       "      <th>Station Name</th>\n",
       "      <th>Street Address</th>\n",
       "      <th>Intersection Directions</th>\n",
       "      <th>City</th>\n",
       "      <th>ZIP</th>\n",
       "      <th>Station Phone</th>\n",
       "      <th>Status Code</th>\n",
       "      <th>Expected Date</th>\n",
       "      <th>Groups With Access Code</th>\n",
       "      <th>Access Days Time</th>\n",
       "      <th>Cards Accepted</th>\n",
       "      <th>EV Level1 EVSE Num</th>\n",
       "      <th>EV Level2 EVSE Num</th>\n",
       "      <th>EV DC Fast Count</th>\n",
       "      <th>EV Network</th>\n",
       "      <th>EV Network Web</th>\n",
       "      <th>Geocode Status</th>\n",
       "      <th>Latitude</th>\n",
       "      <th>Longitude</th>\n",
       "      <th>Date Last Confirmed</th>\n",
       "      <th>ID</th>\n",
       "      <th>Updated At</th>\n",
       "      <th>Owner Type Code</th>\n",
       "      <th>Open Date</th>\n",
       "      <th>EV Connector Types</th>\n",
       "      <th>Access Detail Code</th>\n",
       "      <th>Facility Type</th>\n",
       "      <th>EV Pricing</th>\n",
       "      <th>EV On-Site Renewable Source</th>\n",
       "      <th>Restricted Access</th>\n",
       "      <th>Year</th>\n",
       "      <th>Month</th>\n",
       "      <th>Day</th>\n",
       "      <th>Open-Date</th>\n",
       "    </tr>\n",
       "  </thead>\n",
       "  <tbody>\n",
       "    <tr>\n",
       "      <th>0</th>\n",
       "      <td>City of Nanaimo - Underground Parking Lot</td>\n",
       "      <td>101 Gordon St</td>\n",
       "      <td>NaN</td>\n",
       "      <td>Nanaimo</td>\n",
       "      <td>V9R 5J6</td>\n",
       "      <td>250-754-4251</td>\n",
       "      <td>E</td>\n",
       "      <td>NaN</td>\n",
       "      <td>Public</td>\n",
       "      <td>24 hours daily</td>\n",
       "      <td>NaN</td>\n",
       "      <td>NaN</td>\n",
       "      <td>2.0</td>\n",
       "      <td>NaN</td>\n",
       "      <td>Non-Networked</td>\n",
       "      <td>NaN</td>\n",
       "      <td>200-9</td>\n",
       "      <td>49.164770</td>\n",
       "      <td>-123.936147</td>\n",
       "      <td>2020-03-05</td>\n",
       "      <td>83426</td>\n",
       "      <td>2021-06-07 17:08:43 UTC</td>\n",
       "      <td>P</td>\n",
       "      <td>2017-02-15</td>\n",
       "      <td>J1772</td>\n",
       "      <td>NaN</td>\n",
       "      <td>MUNI_GOV</td>\n",
       "      <td>Free</td>\n",
       "      <td>NaN</td>\n",
       "      <td>False</td>\n",
       "      <td>2017</td>\n",
       "      <td>02</td>\n",
       "      <td>15</td>\n",
       "      <td>2017-02</td>\n",
       "    </tr>\n",
       "    <tr>\n",
       "      <th>1</th>\n",
       "      <td>Fulford Community Hall</td>\n",
       "      <td>2591 Fulford-Ganges Rd</td>\n",
       "      <td>NaN</td>\n",
       "      <td>Salt Spring Island</td>\n",
       "      <td>V8K 1Z4</td>\n",
       "      <td>NaN</td>\n",
       "      <td>E</td>\n",
       "      <td>NaN</td>\n",
       "      <td>Public</td>\n",
       "      <td>24 hours daily</td>\n",
       "      <td>NaN</td>\n",
       "      <td>NaN</td>\n",
       "      <td>1.0</td>\n",
       "      <td>NaN</td>\n",
       "      <td>Non-Networked</td>\n",
       "      <td>NaN</td>\n",
       "      <td>GPS</td>\n",
       "      <td>48.772431</td>\n",
       "      <td>-123.465926</td>\n",
       "      <td>2022-08-09</td>\n",
       "      <td>83491</td>\n",
       "      <td>2022-08-09 21:18:29 UTC</td>\n",
       "      <td>P</td>\n",
       "      <td>2020-08-21</td>\n",
       "      <td>J1772</td>\n",
       "      <td>NaN</td>\n",
       "      <td>MUNI_GOV</td>\n",
       "      <td>Free; donations accepted</td>\n",
       "      <td>NaN</td>\n",
       "      <td>False</td>\n",
       "      <td>2020</td>\n",
       "      <td>08</td>\n",
       "      <td>21</td>\n",
       "      <td>2020-08</td>\n",
       "    </tr>\n",
       "    <tr>\n",
       "      <th>2</th>\n",
       "      <td>Poets Cove Resort and Spa</td>\n",
       "      <td>9801 Spalding Rd</td>\n",
       "      <td>NaN</td>\n",
       "      <td>Pender Island</td>\n",
       "      <td>V0N 2M3</td>\n",
       "      <td>250-629-2100</td>\n",
       "      <td>E</td>\n",
       "      <td>NaN</td>\n",
       "      <td>Public</td>\n",
       "      <td>24 hours daily</td>\n",
       "      <td>NaN</td>\n",
       "      <td>NaN</td>\n",
       "      <td>1.0</td>\n",
       "      <td>NaN</td>\n",
       "      <td>Non-Networked</td>\n",
       "      <td>NaN</td>\n",
       "      <td>200-9</td>\n",
       "      <td>48.748128</td>\n",
       "      <td>-123.227170</td>\n",
       "      <td>2022-08-09</td>\n",
       "      <td>83492</td>\n",
       "      <td>2022-08-09 21:18:29 UTC</td>\n",
       "      <td>P</td>\n",
       "      <td>2017-05-17</td>\n",
       "      <td>J1772</td>\n",
       "      <td>NaN</td>\n",
       "      <td>HOTEL</td>\n",
       "      <td>Free</td>\n",
       "      <td>NaN</td>\n",
       "      <td>False</td>\n",
       "      <td>2017</td>\n",
       "      <td>05</td>\n",
       "      <td>17</td>\n",
       "      <td>2017-05</td>\n",
       "    </tr>\n",
       "    <tr>\n",
       "      <th>3</th>\n",
       "      <td>City of Merritt - City Hall</td>\n",
       "      <td>2185 Voght St</td>\n",
       "      <td>Located on the front posts of the building</td>\n",
       "      <td>Merritt</td>\n",
       "      <td>V1K 1R6</td>\n",
       "      <td>250-378-4224</td>\n",
       "      <td>E</td>\n",
       "      <td>NaN</td>\n",
       "      <td>Public</td>\n",
       "      <td>24 hours daily</td>\n",
       "      <td>NaN</td>\n",
       "      <td>NaN</td>\n",
       "      <td>2.0</td>\n",
       "      <td>NaN</td>\n",
       "      <td>Non-Networked</td>\n",
       "      <td>NaN</td>\n",
       "      <td>200-9</td>\n",
       "      <td>50.112488</td>\n",
       "      <td>-120.788241</td>\n",
       "      <td>2022-07-08</td>\n",
       "      <td>83527</td>\n",
       "      <td>2022-07-08 16:02:07 UTC</td>\n",
       "      <td>P</td>\n",
       "      <td>2014-06-15</td>\n",
       "      <td>J1772</td>\n",
       "      <td>NaN</td>\n",
       "      <td>MUNI_GOV</td>\n",
       "      <td>Free</td>\n",
       "      <td>NaN</td>\n",
       "      <td>False</td>\n",
       "      <td>2014</td>\n",
       "      <td>06</td>\n",
       "      <td>15</td>\n",
       "      <td>2014-06</td>\n",
       "    </tr>\n",
       "    <tr>\n",
       "      <th>4</th>\n",
       "      <td>North Shore Kia</td>\n",
       "      <td>855 W 1st St</td>\n",
       "      <td>NaN</td>\n",
       "      <td>North Vancouver</td>\n",
       "      <td>V7P 1A4</td>\n",
       "      <td>NaN</td>\n",
       "      <td>E</td>\n",
       "      <td>NaN</td>\n",
       "      <td>Public - Call ahead</td>\n",
       "      <td>Dealership business hours</td>\n",
       "      <td>NaN</td>\n",
       "      <td>NaN</td>\n",
       "      <td>1.0</td>\n",
       "      <td>NaN</td>\n",
       "      <td>Non-Networked</td>\n",
       "      <td>NaN</td>\n",
       "      <td>GPS</td>\n",
       "      <td>49.317660</td>\n",
       "      <td>-123.096703</td>\n",
       "      <td>2022-04-13</td>\n",
       "      <td>83550</td>\n",
       "      <td>2022-04-26 16:04:15 UTC</td>\n",
       "      <td>P</td>\n",
       "      <td>2021-02-09</td>\n",
       "      <td>J1772</td>\n",
       "      <td>CALL</td>\n",
       "      <td>CAR_DEALER</td>\n",
       "      <td>Free</td>\n",
       "      <td>NaN</td>\n",
       "      <td>False</td>\n",
       "      <td>2021</td>\n",
       "      <td>02</td>\n",
       "      <td>09</td>\n",
       "      <td>2021-02</td>\n",
       "    </tr>\n",
       "    <tr>\n",
       "      <th>...</th>\n",
       "      <td>...</td>\n",
       "      <td>...</td>\n",
       "      <td>...</td>\n",
       "      <td>...</td>\n",
       "      <td>...</td>\n",
       "      <td>...</td>\n",
       "      <td>...</td>\n",
       "      <td>...</td>\n",
       "      <td>...</td>\n",
       "      <td>...</td>\n",
       "      <td>...</td>\n",
       "      <td>...</td>\n",
       "      <td>...</td>\n",
       "      <td>...</td>\n",
       "      <td>...</td>\n",
       "      <td>...</td>\n",
       "      <td>...</td>\n",
       "      <td>...</td>\n",
       "      <td>...</td>\n",
       "      <td>...</td>\n",
       "      <td>...</td>\n",
       "      <td>...</td>\n",
       "      <td>...</td>\n",
       "      <td>...</td>\n",
       "      <td>...</td>\n",
       "      <td>...</td>\n",
       "      <td>...</td>\n",
       "      <td>...</td>\n",
       "      <td>...</td>\n",
       "      <td>...</td>\n",
       "      <td>...</td>\n",
       "      <td>...</td>\n",
       "      <td>...</td>\n",
       "      <td>...</td>\n",
       "    </tr>\n",
       "    <tr>\n",
       "      <th>1774</th>\n",
       "      <td>Tesla - 12802 - Fernie BC</td>\n",
       "      <td>2001 BC-3</td>\n",
       "      <td>NaN</td>\n",
       "      <td>Fernie</td>\n",
       "      <td>V0B 1M1</td>\n",
       "      <td>888-356-8911</td>\n",
       "      <td>E</td>\n",
       "      <td>NaN</td>\n",
       "      <td>Public</td>\n",
       "      <td>24 hours daily</td>\n",
       "      <td>NaN</td>\n",
       "      <td>NaN</td>\n",
       "      <td>NaN</td>\n",
       "      <td>2.0</td>\n",
       "      <td>FLO</td>\n",
       "      <td>https://flo.ca/</td>\n",
       "      <td>GPS</td>\n",
       "      <td>49.498195</td>\n",
       "      <td>-115.080541</td>\n",
       "      <td>2023-03-19</td>\n",
       "      <td>256487</td>\n",
       "      <td>2023-03-19 00:52:26 UTC</td>\n",
       "      <td>NaN</td>\n",
       "      <td>2023-03-17</td>\n",
       "      <td>CHADEMO J1772COMBO</td>\n",
       "      <td>NaN</td>\n",
       "      <td>NaN</td>\n",
       "      <td>NaN</td>\n",
       "      <td>NaN</td>\n",
       "      <td>NaN</td>\n",
       "      <td>2023</td>\n",
       "      <td>03</td>\n",
       "      <td>17</td>\n",
       "      <td>2023-03</td>\n",
       "    </tr>\n",
       "    <tr>\n",
       "      <th>1775</th>\n",
       "      <td>Tesla - 13584 - Prince George BC</td>\n",
       "      <td>3036 Replace Dr.</td>\n",
       "      <td>NaN</td>\n",
       "      <td>Prince George</td>\n",
       "      <td>V2N 0G2</td>\n",
       "      <td>888-356-8911</td>\n",
       "      <td>E</td>\n",
       "      <td>NaN</td>\n",
       "      <td>Public</td>\n",
       "      <td>24 hours daily</td>\n",
       "      <td>NaN</td>\n",
       "      <td>NaN</td>\n",
       "      <td>NaN</td>\n",
       "      <td>1.0</td>\n",
       "      <td>FLO</td>\n",
       "      <td>https://flo.ca/</td>\n",
       "      <td>GPS</td>\n",
       "      <td>53.890624</td>\n",
       "      <td>-122.767879</td>\n",
       "      <td>2023-03-19</td>\n",
       "      <td>256488</td>\n",
       "      <td>2023-03-19 00:52:26 UTC</td>\n",
       "      <td>NaN</td>\n",
       "      <td>2023-03-17</td>\n",
       "      <td>CHADEMO J1772COMBO</td>\n",
       "      <td>NaN</td>\n",
       "      <td>NaN</td>\n",
       "      <td>NaN</td>\n",
       "      <td>NaN</td>\n",
       "      <td>NaN</td>\n",
       "      <td>2023</td>\n",
       "      <td>03</td>\n",
       "      <td>17</td>\n",
       "      <td>2023-03</td>\n",
       "    </tr>\n",
       "    <tr>\n",
       "      <th>1776</th>\n",
       "      <td>Tesla - 8447 - Cranbrook BC</td>\n",
       "      <td>1500 Cranbrook St</td>\n",
       "      <td>NaN</td>\n",
       "      <td>Cranbrook</td>\n",
       "      <td>V1C 3S8</td>\n",
       "      <td>888-356-8911</td>\n",
       "      <td>E</td>\n",
       "      <td>NaN</td>\n",
       "      <td>Public</td>\n",
       "      <td>24 hours daily</td>\n",
       "      <td>NaN</td>\n",
       "      <td>NaN</td>\n",
       "      <td>NaN</td>\n",
       "      <td>2.0</td>\n",
       "      <td>FLO</td>\n",
       "      <td>https://flo.ca/</td>\n",
       "      <td>GPS</td>\n",
       "      <td>49.525024</td>\n",
       "      <td>-115.752557</td>\n",
       "      <td>2023-03-19</td>\n",
       "      <td>256495</td>\n",
       "      <td>2023-03-19 00:52:26 UTC</td>\n",
       "      <td>NaN</td>\n",
       "      <td>2023-03-17</td>\n",
       "      <td>CHADEMO J1772COMBO</td>\n",
       "      <td>NaN</td>\n",
       "      <td>NaN</td>\n",
       "      <td>NaN</td>\n",
       "      <td>NaN</td>\n",
       "      <td>NaN</td>\n",
       "      <td>2023</td>\n",
       "      <td>03</td>\n",
       "      <td>17</td>\n",
       "      <td>2023-03</td>\n",
       "    </tr>\n",
       "    <tr>\n",
       "      <th>1777</th>\n",
       "      <td>Vic West DCFC</td>\n",
       "      <td>95 Bay St</td>\n",
       "      <td>NaN</td>\n",
       "      <td>Victoria</td>\n",
       "      <td>V9A 6X9</td>\n",
       "      <td>888-356-8911</td>\n",
       "      <td>E</td>\n",
       "      <td>NaN</td>\n",
       "      <td>Public</td>\n",
       "      <td>24 hours daily</td>\n",
       "      <td>NaN</td>\n",
       "      <td>NaN</td>\n",
       "      <td>NaN</td>\n",
       "      <td>2.0</td>\n",
       "      <td>FLO</td>\n",
       "      <td>https://flo.ca/</td>\n",
       "      <td>GPS</td>\n",
       "      <td>48.431767</td>\n",
       "      <td>-123.383453</td>\n",
       "      <td>2023-03-19</td>\n",
       "      <td>256496</td>\n",
       "      <td>2023-03-19 00:52:26 UTC</td>\n",
       "      <td>NaN</td>\n",
       "      <td>2023-03-17</td>\n",
       "      <td>CHADEMO J1772COMBO</td>\n",
       "      <td>NaN</td>\n",
       "      <td>NaN</td>\n",
       "      <td>NaN</td>\n",
       "      <td>NaN</td>\n",
       "      <td>NaN</td>\n",
       "      <td>2023</td>\n",
       "      <td>03</td>\n",
       "      <td>17</td>\n",
       "      <td>2023-03</td>\n",
       "    </tr>\n",
       "    <tr>\n",
       "      <th>1778</th>\n",
       "      <td>COMOX VALLEY SEAL BAY 1</td>\n",
       "      <td>2201 Hardy Rd</td>\n",
       "      <td>NaN</td>\n",
       "      <td>Courtenay</td>\n",
       "      <td>V9J 1T2</td>\n",
       "      <td>888-758-4389</td>\n",
       "      <td>E</td>\n",
       "      <td>NaN</td>\n",
       "      <td>Public</td>\n",
       "      <td>24 hours daily</td>\n",
       "      <td>NaN</td>\n",
       "      <td>NaN</td>\n",
       "      <td>2.0</td>\n",
       "      <td>NaN</td>\n",
       "      <td>ChargePoint Network</td>\n",
       "      <td>http://www.chargepoint.com/</td>\n",
       "      <td>GPS</td>\n",
       "      <td>49.761729</td>\n",
       "      <td>-124.996916</td>\n",
       "      <td>2023-03-19</td>\n",
       "      <td>256708</td>\n",
       "      <td>2023-03-19 00:45:42 UTC</td>\n",
       "      <td>NaN</td>\n",
       "      <td>2023-03-18</td>\n",
       "      <td>J1772</td>\n",
       "      <td>NaN</td>\n",
       "      <td>NaN</td>\n",
       "      <td>NaN</td>\n",
       "      <td>NaN</td>\n",
       "      <td>NaN</td>\n",
       "      <td>2023</td>\n",
       "      <td>03</td>\n",
       "      <td>18</td>\n",
       "      <td>2023-03</td>\n",
       "    </tr>\n",
       "  </tbody>\n",
       "</table>\n",
       "<p>1779 rows × 34 columns</p>\n",
       "</div>"
      ],
      "text/plain": [
       "                                   Station Name          Street Address  \\\n",
       "0     City of Nanaimo - Underground Parking Lot           101 Gordon St   \n",
       "1                        Fulford Community Hall  2591 Fulford-Ganges Rd   \n",
       "2                     Poets Cove Resort and Spa        9801 Spalding Rd   \n",
       "3                   City of Merritt - City Hall           2185 Voght St   \n",
       "4                               North Shore Kia            855 W 1st St   \n",
       "...                                         ...                     ...   \n",
       "1774                  Tesla - 12802 - Fernie BC               2001 BC-3   \n",
       "1775           Tesla - 13584 - Prince George BC        3036 Replace Dr.   \n",
       "1776                Tesla - 8447 - Cranbrook BC       1500 Cranbrook St   \n",
       "1777                              Vic West DCFC               95 Bay St   \n",
       "1778                    COMOX VALLEY SEAL BAY 1           2201 Hardy Rd   \n",
       "\n",
       "                         Intersection Directions                City      ZIP  \\\n",
       "0                                            NaN             Nanaimo  V9R 5J6   \n",
       "1                                            NaN  Salt Spring Island  V8K 1Z4   \n",
       "2                                            NaN       Pender Island  V0N 2M3   \n",
       "3     Located on the front posts of the building             Merritt  V1K 1R6   \n",
       "4                                            NaN     North Vancouver  V7P 1A4   \n",
       "...                                          ...                 ...      ...   \n",
       "1774                                         NaN              Fernie  V0B 1M1   \n",
       "1775                                         NaN       Prince George  V2N 0G2   \n",
       "1776                                         NaN           Cranbrook  V1C 3S8   \n",
       "1777                                         NaN            Victoria  V9A 6X9   \n",
       "1778                                         NaN           Courtenay  V9J 1T2   \n",
       "\n",
       "     Station Phone Status Code Expected Date Groups With Access Code  \\\n",
       "0     250-754-4251           E           NaN                  Public   \n",
       "1              NaN           E           NaN                  Public   \n",
       "2     250-629-2100           E           NaN                  Public   \n",
       "3     250-378-4224           E           NaN                  Public   \n",
       "4              NaN           E           NaN     Public - Call ahead   \n",
       "...            ...         ...           ...                     ...   \n",
       "1774  888-356-8911           E           NaN                  Public   \n",
       "1775  888-356-8911           E           NaN                  Public   \n",
       "1776  888-356-8911           E           NaN                  Public   \n",
       "1777  888-356-8911           E           NaN                  Public   \n",
       "1778  888-758-4389           E           NaN                  Public   \n",
       "\n",
       "               Access Days Time Cards Accepted  EV Level1 EVSE Num  \\\n",
       "0                24 hours daily            NaN                 NaN   \n",
       "1                24 hours daily            NaN                 NaN   \n",
       "2                24 hours daily            NaN                 NaN   \n",
       "3                24 hours daily            NaN                 NaN   \n",
       "4     Dealership business hours            NaN                 NaN   \n",
       "...                         ...            ...                 ...   \n",
       "1774             24 hours daily            NaN                 NaN   \n",
       "1775             24 hours daily            NaN                 NaN   \n",
       "1776             24 hours daily            NaN                 NaN   \n",
       "1777             24 hours daily            NaN                 NaN   \n",
       "1778             24 hours daily            NaN                 NaN   \n",
       "\n",
       "      EV Level2 EVSE Num  EV DC Fast Count           EV Network  \\\n",
       "0                    2.0               NaN        Non-Networked   \n",
       "1                    1.0               NaN        Non-Networked   \n",
       "2                    1.0               NaN        Non-Networked   \n",
       "3                    2.0               NaN        Non-Networked   \n",
       "4                    1.0               NaN        Non-Networked   \n",
       "...                  ...               ...                  ...   \n",
       "1774                 NaN               2.0                  FLO   \n",
       "1775                 NaN               1.0                  FLO   \n",
       "1776                 NaN               2.0                  FLO   \n",
       "1777                 NaN               2.0                  FLO   \n",
       "1778                 2.0               NaN  ChargePoint Network   \n",
       "\n",
       "                   EV Network Web Geocode Status   Latitude   Longitude  \\\n",
       "0                             NaN          200-9  49.164770 -123.936147   \n",
       "1                             NaN            GPS  48.772431 -123.465926   \n",
       "2                             NaN          200-9  48.748128 -123.227170   \n",
       "3                             NaN          200-9  50.112488 -120.788241   \n",
       "4                             NaN            GPS  49.317660 -123.096703   \n",
       "...                           ...            ...        ...         ...   \n",
       "1774              https://flo.ca/            GPS  49.498195 -115.080541   \n",
       "1775              https://flo.ca/            GPS  53.890624 -122.767879   \n",
       "1776              https://flo.ca/            GPS  49.525024 -115.752557   \n",
       "1777              https://flo.ca/            GPS  48.431767 -123.383453   \n",
       "1778  http://www.chargepoint.com/            GPS  49.761729 -124.996916   \n",
       "\n",
       "     Date Last Confirmed      ID               Updated At Owner Type Code  \\\n",
       "0             2020-03-05   83426  2021-06-07 17:08:43 UTC               P   \n",
       "1             2022-08-09   83491  2022-08-09 21:18:29 UTC               P   \n",
       "2             2022-08-09   83492  2022-08-09 21:18:29 UTC               P   \n",
       "3             2022-07-08   83527  2022-07-08 16:02:07 UTC               P   \n",
       "4             2022-04-13   83550  2022-04-26 16:04:15 UTC               P   \n",
       "...                  ...     ...                      ...             ...   \n",
       "1774          2023-03-19  256487  2023-03-19 00:52:26 UTC             NaN   \n",
       "1775          2023-03-19  256488  2023-03-19 00:52:26 UTC             NaN   \n",
       "1776          2023-03-19  256495  2023-03-19 00:52:26 UTC             NaN   \n",
       "1777          2023-03-19  256496  2023-03-19 00:52:26 UTC             NaN   \n",
       "1778          2023-03-19  256708  2023-03-19 00:45:42 UTC             NaN   \n",
       "\n",
       "       Open Date  EV Connector Types Access Detail Code Facility Type  \\\n",
       "0     2017-02-15               J1772                NaN      MUNI_GOV   \n",
       "1     2020-08-21               J1772                NaN      MUNI_GOV   \n",
       "2     2017-05-17               J1772                NaN         HOTEL   \n",
       "3     2014-06-15               J1772                NaN      MUNI_GOV   \n",
       "4     2021-02-09               J1772               CALL    CAR_DEALER   \n",
       "...          ...                 ...                ...           ...   \n",
       "1774  2023-03-17  CHADEMO J1772COMBO                NaN           NaN   \n",
       "1775  2023-03-17  CHADEMO J1772COMBO                NaN           NaN   \n",
       "1776  2023-03-17  CHADEMO J1772COMBO                NaN           NaN   \n",
       "1777  2023-03-17  CHADEMO J1772COMBO                NaN           NaN   \n",
       "1778  2023-03-18               J1772                NaN           NaN   \n",
       "\n",
       "                    EV Pricing EV On-Site Renewable Source Restricted Access  \\\n",
       "0                         Free                         NaN             False   \n",
       "1     Free; donations accepted                         NaN             False   \n",
       "2                         Free                         NaN             False   \n",
       "3                         Free                         NaN             False   \n",
       "4                         Free                         NaN             False   \n",
       "...                        ...                         ...               ...   \n",
       "1774                       NaN                         NaN               NaN   \n",
       "1775                       NaN                         NaN               NaN   \n",
       "1776                       NaN                         NaN               NaN   \n",
       "1777                       NaN                         NaN               NaN   \n",
       "1778                       NaN                         NaN               NaN   \n",
       "\n",
       "      Year Month Day Open-Date  \n",
       "0     2017    02  15   2017-02  \n",
       "1     2020    08  21   2020-08  \n",
       "2     2017    05  17   2017-05  \n",
       "3     2014    06  15   2014-06  \n",
       "4     2021    02  09   2021-02  \n",
       "...    ...   ...  ..       ...  \n",
       "1774  2023    03  17   2023-03  \n",
       "1775  2023    03  17   2023-03  \n",
       "1776  2023    03  17   2023-03  \n",
       "1777  2023    03  17   2023-03  \n",
       "1778  2023    03  18   2023-03  \n",
       "\n",
       "[1779 rows x 34 columns]"
      ]
     },
     "execution_count": 130,
     "metadata": {},
     "output_type": "execute_result"
    }
   ],
   "source": [
    "df[['Year','Month','Day']] = df['Open Date'].str.split('-', expand=True)\n",
    "df[\"Open-Date\"] = df['Year'].astype(str) +\"-\"+ df[\"Month\"]\n",
    "df"
   ]
  },
  {
   "cell_type": "code",
   "execution_count": 131,
   "id": "e13ff724-80ef-4d3a-93f8-1ee0ce0af98e",
   "metadata": {},
   "outputs": [
    {
     "data": {
      "application/vnd.plotly.v1+json": {
       "config": {
        "plotlyServerURL": "https://plot.ly"
       },
       "data": [
        {
         "hovertemplate": "Date=%{x}<br>Count=%{y}<extra></extra>",
         "legendgroup": "",
         "marker": {
          "color": "#636efa",
          "symbol": "circle"
         },
         "mode": "markers",
         "name": "",
         "orientation": "v",
         "showlegend": false,
         "type": "scatter",
         "x": [
          "2011-03-01T00:00:00",
          "2011-06-01T00:00:00",
          "2012-03-01T00:00:00",
          "2013-01-01T00:00:00",
          "2013-03-01T00:00:00",
          "2013-04-01T00:00:00",
          "2013-05-01T00:00:00",
          "2013-06-01T00:00:00",
          "2013-07-01T00:00:00",
          "2013-09-01T00:00:00",
          "2013-11-01T00:00:00",
          "2013-12-01T00:00:00",
          "2014-03-01T00:00:00",
          "2014-04-01T00:00:00",
          "2014-05-01T00:00:00",
          "2014-06-01T00:00:00",
          "2014-07-01T00:00:00",
          "2014-08-01T00:00:00",
          "2014-11-01T00:00:00",
          "2014-12-01T00:00:00",
          "2015-01-01T00:00:00",
          "2015-02-01T00:00:00",
          "2015-03-01T00:00:00",
          "2015-04-01T00:00:00",
          "2015-05-01T00:00:00",
          "2015-06-01T00:00:00",
          "2015-07-01T00:00:00",
          "2015-08-01T00:00:00",
          "2015-09-01T00:00:00",
          "2015-10-01T00:00:00",
          "2015-11-01T00:00:00",
          "2015-12-01T00:00:00",
          "2016-01-01T00:00:00",
          "2016-02-01T00:00:00",
          "2016-03-01T00:00:00",
          "2016-04-01T00:00:00",
          "2016-05-01T00:00:00",
          "2016-06-01T00:00:00",
          "2016-07-01T00:00:00",
          "2016-08-01T00:00:00",
          "2016-09-01T00:00:00",
          "2016-10-01T00:00:00",
          "2016-11-01T00:00:00",
          "2017-01-01T00:00:00",
          "2017-02-01T00:00:00",
          "2017-03-01T00:00:00",
          "2017-04-01T00:00:00",
          "2017-05-01T00:00:00",
          "2017-06-01T00:00:00",
          "2017-07-01T00:00:00",
          "2017-08-01T00:00:00",
          "2017-10-01T00:00:00",
          "2017-11-01T00:00:00",
          "2017-12-01T00:00:00",
          "2018-01-01T00:00:00",
          "2018-02-01T00:00:00",
          "2018-03-01T00:00:00",
          "2018-04-01T00:00:00",
          "2018-05-01T00:00:00",
          "2018-06-01T00:00:00",
          "2018-07-01T00:00:00",
          "2018-08-01T00:00:00",
          "2018-09-01T00:00:00",
          "2018-10-01T00:00:00",
          "2018-11-01T00:00:00",
          "2018-12-01T00:00:00",
          "2019-01-01T00:00:00",
          "2019-02-01T00:00:00",
          "2019-03-01T00:00:00",
          "2019-04-01T00:00:00",
          "2019-05-01T00:00:00",
          "2019-06-01T00:00:00",
          "2019-07-01T00:00:00",
          "2019-08-01T00:00:00",
          "2019-09-01T00:00:00",
          "2019-10-01T00:00:00",
          "2019-11-01T00:00:00",
          "2019-12-01T00:00:00",
          "2020-01-01T00:00:00",
          "2020-02-01T00:00:00",
          "2020-03-01T00:00:00",
          "2020-04-01T00:00:00",
          "2020-05-01T00:00:00",
          "2020-06-01T00:00:00",
          "2020-07-01T00:00:00",
          "2020-08-01T00:00:00",
          "2020-09-01T00:00:00",
          "2020-10-01T00:00:00",
          "2020-11-01T00:00:00",
          "2020-12-01T00:00:00",
          "2021-01-01T00:00:00",
          "2021-02-01T00:00:00",
          "2021-03-01T00:00:00",
          "2021-04-01T00:00:00",
          "2021-05-01T00:00:00",
          "2021-06-01T00:00:00",
          "2021-07-01T00:00:00",
          "2021-08-01T00:00:00",
          "2021-09-01T00:00:00",
          "2021-10-01T00:00:00",
          "2021-11-01T00:00:00",
          "2021-12-01T00:00:00",
          "2022-01-01T00:00:00",
          "2022-02-01T00:00:00",
          "2022-03-01T00:00:00",
          "2022-04-01T00:00:00",
          "2022-05-01T00:00:00",
          "2022-06-01T00:00:00",
          "2022-07-01T00:00:00",
          "2022-08-01T00:00:00",
          "2022-09-01T00:00:00",
          "2022-10-01T00:00:00",
          "2022-11-01T00:00:00",
          "2022-12-01T00:00:00",
          "2023-01-01T00:00:00",
          "2023-02-01T00:00:00",
          "2023-03-01T00:00:00"
         ],
         "xaxis": "x",
         "y": [
          3,
          1,
          4,
          3,
          10,
          1,
          1,
          1,
          1,
          2,
          1,
          2,
          6,
          1,
          3,
          4,
          2,
          2,
          1,
          2,
          3,
          6,
          14,
          4,
          17,
          5,
          5,
          9,
          17,
          6,
          1,
          4,
          4,
          1,
          4,
          3,
          2,
          1,
          2,
          2,
          2,
          3,
          4,
          4,
          6,
          11,
          3,
          2,
          1,
          6,
          4,
          2,
          4,
          7,
          12,
          1,
          6,
          11,
          10,
          8,
          2,
          5,
          2,
          6,
          3,
          5,
          11,
          6,
          15,
          9,
          6,
          8,
          123,
          6,
          13,
          9,
          8,
          15,
          9,
          5,
          20,
          6,
          13,
          66,
          4,
          8,
          3,
          4,
          13,
          10,
          77,
          17,
          13,
          22,
          11,
          25,
          20,
          9,
          10,
          40,
          50,
          14,
          9,
          10,
          21,
          17,
          24,
          23,
          18,
          9,
          11,
          280,
          36,
          37,
          34,
          39,
          24
         ],
         "yaxis": "y"
        },
        {
         "hovertemplate": "<b>OLS trendline</b><br>Count = 1.11064e-07 * Date + -155.329<br>R<sup>2</sup>=0.130477<br><br>Date=%{x}<br>Count=%{y} <b>(trend)</b><extra></extra>",
         "legendgroup": "",
         "marker": {
          "color": "#636efa",
          "symbol": "circle"
         },
         "mode": "lines",
         "name": "",
         "showlegend": false,
         "type": "scatter",
         "x": [
          "2011-03-01T00:00:00",
          "2011-06-01T00:00:00",
          "2012-03-01T00:00:00",
          "2013-01-01T00:00:00",
          "2013-03-01T00:00:00",
          "2013-04-01T00:00:00",
          "2013-05-01T00:00:00",
          "2013-06-01T00:00:00",
          "2013-07-01T00:00:00",
          "2013-09-01T00:00:00",
          "2013-11-01T00:00:00",
          "2013-12-01T00:00:00",
          "2014-03-01T00:00:00",
          "2014-04-01T00:00:00",
          "2014-05-01T00:00:00",
          "2014-06-01T00:00:00",
          "2014-07-01T00:00:00",
          "2014-08-01T00:00:00",
          "2014-11-01T00:00:00",
          "2014-12-01T00:00:00",
          "2015-01-01T00:00:00",
          "2015-02-01T00:00:00",
          "2015-03-01T00:00:00",
          "2015-04-01T00:00:00",
          "2015-05-01T00:00:00",
          "2015-06-01T00:00:00",
          "2015-07-01T00:00:00",
          "2015-08-01T00:00:00",
          "2015-09-01T00:00:00",
          "2015-10-01T00:00:00",
          "2015-11-01T00:00:00",
          "2015-12-01T00:00:00",
          "2016-01-01T00:00:00",
          "2016-02-01T00:00:00",
          "2016-03-01T00:00:00",
          "2016-04-01T00:00:00",
          "2016-05-01T00:00:00",
          "2016-06-01T00:00:00",
          "2016-07-01T00:00:00",
          "2016-08-01T00:00:00",
          "2016-09-01T00:00:00",
          "2016-10-01T00:00:00",
          "2016-11-01T00:00:00",
          "2017-01-01T00:00:00",
          "2017-02-01T00:00:00",
          "2017-03-01T00:00:00",
          "2017-04-01T00:00:00",
          "2017-05-01T00:00:00",
          "2017-06-01T00:00:00",
          "2017-07-01T00:00:00",
          "2017-08-01T00:00:00",
          "2017-10-01T00:00:00",
          "2017-11-01T00:00:00",
          "2017-12-01T00:00:00",
          "2018-01-01T00:00:00",
          "2018-02-01T00:00:00",
          "2018-03-01T00:00:00",
          "2018-04-01T00:00:00",
          "2018-05-01T00:00:00",
          "2018-06-01T00:00:00",
          "2018-07-01T00:00:00",
          "2018-08-01T00:00:00",
          "2018-09-01T00:00:00",
          "2018-10-01T00:00:00",
          "2018-11-01T00:00:00",
          "2018-12-01T00:00:00",
          "2019-01-01T00:00:00",
          "2019-02-01T00:00:00",
          "2019-03-01T00:00:00",
          "2019-04-01T00:00:00",
          "2019-05-01T00:00:00",
          "2019-06-01T00:00:00",
          "2019-07-01T00:00:00",
          "2019-08-01T00:00:00",
          "2019-09-01T00:00:00",
          "2019-10-01T00:00:00",
          "2019-11-01T00:00:00",
          "2019-12-01T00:00:00",
          "2020-01-01T00:00:00",
          "2020-02-01T00:00:00",
          "2020-03-01T00:00:00",
          "2020-04-01T00:00:00",
          "2020-05-01T00:00:00",
          "2020-06-01T00:00:00",
          "2020-07-01T00:00:00",
          "2020-08-01T00:00:00",
          "2020-09-01T00:00:00",
          "2020-10-01T00:00:00",
          "2020-11-01T00:00:00",
          "2020-12-01T00:00:00",
          "2021-01-01T00:00:00",
          "2021-02-01T00:00:00",
          "2021-03-01T00:00:00",
          "2021-04-01T00:00:00",
          "2021-05-01T00:00:00",
          "2021-06-01T00:00:00",
          "2021-07-01T00:00:00",
          "2021-08-01T00:00:00",
          "2021-09-01T00:00:00",
          "2021-10-01T00:00:00",
          "2021-11-01T00:00:00",
          "2021-12-01T00:00:00",
          "2022-01-01T00:00:00",
          "2022-02-01T00:00:00",
          "2022-03-01T00:00:00",
          "2022-04-01T00:00:00",
          "2022-05-01T00:00:00",
          "2022-06-01T00:00:00",
          "2022-07-01T00:00:00",
          "2022-08-01T00:00:00",
          "2022-09-01T00:00:00",
          "2022-10-01T00:00:00",
          "2022-11-01T00:00:00",
          "2022-12-01T00:00:00",
          "2023-01-01T00:00:00",
          "2023-02-01T00:00:00",
          "2023-03-01T00:00:00"
         ],
         "xaxis": "x",
         "y": [
          -11.063593527160748,
          -10.180764767282227,
          -7.551470417209259,
          -4.6151051941350545,
          -4.0489432720390255,
          -3.7514683638191,
          -3.4635894203804583,
          -3.166114512160533,
          -2.8782355687218626,
          -2.283285752282012,
          -1.6979319006234164,
          -1.4100529571847744,
          -0.5464161268688201,
          -0.24894121864889485,
          0.03893772478974711,
          0.3364126330097008,
          0.6242915764483428,
          0.921766484668268,
          1.804595244546789,
          2.0924741879854594,
          2.3899490962053846,
          2.68742400442531,
          2.9561110183013852,
          3.2535859265213105,
          3.541464869959981,
          3.838939778179906,
          4.126818721618548,
          4.424293629838502,
          4.721768538058427,
          5.009647481497069,
          5.307122389717023,
          5.595001333155665,
          5.89247624137559,
          6.189951149595544,
          6.468234128252902,
          6.765709036472828,
          7.05358797991147,
          7.351062888131423,
          7.638941831570065,
          7.9364167397899905,
          8.233891648009916,
          8.521770591448586,
          8.819245499668511,
          9.404599351327107,
          9.702074259547032,
          9.970761273423108,
          10.268236181643033,
          10.556115125081675,
          10.853590033301629,
          11.14146897674027,
          11.438943884960196,
          12.024297736618792,
          12.321772644838717,
          12.609651588277387,
          12.907126496497312,
          13.204601404717238,
          13.473288418593313,
          13.770763326813267,
          14.058642270251909,
          14.356117178471834,
          14.643996121910476,
          14.94147103013043,
          15.238945938350355,
          15.526824881788997,
          15.82429979000895,
          16.112178733447593,
          16.409653641667518,
          16.70712854988747,
          16.97581556376352,
          17.273290471983472,
          17.561169415422114,
          17.85864432364204,
          18.14652326708071,
          18.443998175300635,
          18.74147308352056,
          19.02935202695923,
          19.326826935179156,
          19.614705878617798,
          19.912180786837723,
          20.209655695057677,
          20.487938673715036,
          20.78541358193496,
          21.073292525373603,
          21.370767433593556,
          21.6586463770322,
          21.956121285252124,
          22.253596193472077,
          22.54147513691072,
          22.838950045130645,
          23.126828988569315,
          23.42430389678924,
          23.721778805009166,
          23.99046581888524,
          24.287940727105195,
          24.575819670543837,
          24.873294578763762,
          25.161173522202404,
          25.458648430422357,
          25.756123338642283,
          26.044002282080925,
          26.34147719030088,
          26.62935613373952,
          26.926831041959446,
          27.2243059501794,
          27.492992964055446,
          27.7904678722754,
          28.078346815714042,
          28.375821723933967,
          28.663700667372638,
          28.961175575592563,
          29.258650483812488,
          29.54652942725116,
          29.844004335471084,
          30.131883278909726,
          30.42935818712968,
          30.726833095349605,
          30.99552010922568
         ],
         "yaxis": "y"
        }
       ],
       "layout": {
        "autosize": true,
        "legend": {
         "tracegroupgap": 0
        },
        "margin": {
         "b": 20,
         "l": 20,
         "r": 20,
         "t": 50
        },
        "paper_bgcolor": "LightSteelBlue",
        "template": {
         "data": {
          "bar": [
           {
            "error_x": {
             "color": "#2a3f5f"
            },
            "error_y": {
             "color": "#2a3f5f"
            },
            "marker": {
             "line": {
              "color": "#E5ECF6",
              "width": 0.5
             },
             "pattern": {
              "fillmode": "overlay",
              "size": 10,
              "solidity": 0.2
             }
            },
            "type": "bar"
           }
          ],
          "barpolar": [
           {
            "marker": {
             "line": {
              "color": "#E5ECF6",
              "width": 0.5
             },
             "pattern": {
              "fillmode": "overlay",
              "size": 10,
              "solidity": 0.2
             }
            },
            "type": "barpolar"
           }
          ],
          "carpet": [
           {
            "aaxis": {
             "endlinecolor": "#2a3f5f",
             "gridcolor": "white",
             "linecolor": "white",
             "minorgridcolor": "white",
             "startlinecolor": "#2a3f5f"
            },
            "baxis": {
             "endlinecolor": "#2a3f5f",
             "gridcolor": "white",
             "linecolor": "white",
             "minorgridcolor": "white",
             "startlinecolor": "#2a3f5f"
            },
            "type": "carpet"
           }
          ],
          "choropleth": [
           {
            "colorbar": {
             "outlinewidth": 0,
             "ticks": ""
            },
            "type": "choropleth"
           }
          ],
          "contour": [
           {
            "colorbar": {
             "outlinewidth": 0,
             "ticks": ""
            },
            "colorscale": [
             [
              0,
              "#0d0887"
             ],
             [
              0.1111111111111111,
              "#46039f"
             ],
             [
              0.2222222222222222,
              "#7201a8"
             ],
             [
              0.3333333333333333,
              "#9c179e"
             ],
             [
              0.4444444444444444,
              "#bd3786"
             ],
             [
              0.5555555555555556,
              "#d8576b"
             ],
             [
              0.6666666666666666,
              "#ed7953"
             ],
             [
              0.7777777777777778,
              "#fb9f3a"
             ],
             [
              0.8888888888888888,
              "#fdca26"
             ],
             [
              1,
              "#f0f921"
             ]
            ],
            "type": "contour"
           }
          ],
          "contourcarpet": [
           {
            "colorbar": {
             "outlinewidth": 0,
             "ticks": ""
            },
            "type": "contourcarpet"
           }
          ],
          "heatmap": [
           {
            "colorbar": {
             "outlinewidth": 0,
             "ticks": ""
            },
            "colorscale": [
             [
              0,
              "#0d0887"
             ],
             [
              0.1111111111111111,
              "#46039f"
             ],
             [
              0.2222222222222222,
              "#7201a8"
             ],
             [
              0.3333333333333333,
              "#9c179e"
             ],
             [
              0.4444444444444444,
              "#bd3786"
             ],
             [
              0.5555555555555556,
              "#d8576b"
             ],
             [
              0.6666666666666666,
              "#ed7953"
             ],
             [
              0.7777777777777778,
              "#fb9f3a"
             ],
             [
              0.8888888888888888,
              "#fdca26"
             ],
             [
              1,
              "#f0f921"
             ]
            ],
            "type": "heatmap"
           }
          ],
          "heatmapgl": [
           {
            "colorbar": {
             "outlinewidth": 0,
             "ticks": ""
            },
            "colorscale": [
             [
              0,
              "#0d0887"
             ],
             [
              0.1111111111111111,
              "#46039f"
             ],
             [
              0.2222222222222222,
              "#7201a8"
             ],
             [
              0.3333333333333333,
              "#9c179e"
             ],
             [
              0.4444444444444444,
              "#bd3786"
             ],
             [
              0.5555555555555556,
              "#d8576b"
             ],
             [
              0.6666666666666666,
              "#ed7953"
             ],
             [
              0.7777777777777778,
              "#fb9f3a"
             ],
             [
              0.8888888888888888,
              "#fdca26"
             ],
             [
              1,
              "#f0f921"
             ]
            ],
            "type": "heatmapgl"
           }
          ],
          "histogram": [
           {
            "marker": {
             "pattern": {
              "fillmode": "overlay",
              "size": 10,
              "solidity": 0.2
             }
            },
            "type": "histogram"
           }
          ],
          "histogram2d": [
           {
            "colorbar": {
             "outlinewidth": 0,
             "ticks": ""
            },
            "colorscale": [
             [
              0,
              "#0d0887"
             ],
             [
              0.1111111111111111,
              "#46039f"
             ],
             [
              0.2222222222222222,
              "#7201a8"
             ],
             [
              0.3333333333333333,
              "#9c179e"
             ],
             [
              0.4444444444444444,
              "#bd3786"
             ],
             [
              0.5555555555555556,
              "#d8576b"
             ],
             [
              0.6666666666666666,
              "#ed7953"
             ],
             [
              0.7777777777777778,
              "#fb9f3a"
             ],
             [
              0.8888888888888888,
              "#fdca26"
             ],
             [
              1,
              "#f0f921"
             ]
            ],
            "type": "histogram2d"
           }
          ],
          "histogram2dcontour": [
           {
            "colorbar": {
             "outlinewidth": 0,
             "ticks": ""
            },
            "colorscale": [
             [
              0,
              "#0d0887"
             ],
             [
              0.1111111111111111,
              "#46039f"
             ],
             [
              0.2222222222222222,
              "#7201a8"
             ],
             [
              0.3333333333333333,
              "#9c179e"
             ],
             [
              0.4444444444444444,
              "#bd3786"
             ],
             [
              0.5555555555555556,
              "#d8576b"
             ],
             [
              0.6666666666666666,
              "#ed7953"
             ],
             [
              0.7777777777777778,
              "#fb9f3a"
             ],
             [
              0.8888888888888888,
              "#fdca26"
             ],
             [
              1,
              "#f0f921"
             ]
            ],
            "type": "histogram2dcontour"
           }
          ],
          "mesh3d": [
           {
            "colorbar": {
             "outlinewidth": 0,
             "ticks": ""
            },
            "type": "mesh3d"
           }
          ],
          "parcoords": [
           {
            "line": {
             "colorbar": {
              "outlinewidth": 0,
              "ticks": ""
             }
            },
            "type": "parcoords"
           }
          ],
          "pie": [
           {
            "automargin": true,
            "type": "pie"
           }
          ],
          "scatter": [
           {
            "marker": {
             "colorbar": {
              "outlinewidth": 0,
              "ticks": ""
             }
            },
            "type": "scatter"
           }
          ],
          "scatter3d": [
           {
            "line": {
             "colorbar": {
              "outlinewidth": 0,
              "ticks": ""
             }
            },
            "marker": {
             "colorbar": {
              "outlinewidth": 0,
              "ticks": ""
             }
            },
            "type": "scatter3d"
           }
          ],
          "scattercarpet": [
           {
            "marker": {
             "colorbar": {
              "outlinewidth": 0,
              "ticks": ""
             }
            },
            "type": "scattercarpet"
           }
          ],
          "scattergeo": [
           {
            "marker": {
             "colorbar": {
              "outlinewidth": 0,
              "ticks": ""
             }
            },
            "type": "scattergeo"
           }
          ],
          "scattergl": [
           {
            "marker": {
             "colorbar": {
              "outlinewidth": 0,
              "ticks": ""
             }
            },
            "type": "scattergl"
           }
          ],
          "scattermapbox": [
           {
            "marker": {
             "colorbar": {
              "outlinewidth": 0,
              "ticks": ""
             }
            },
            "type": "scattermapbox"
           }
          ],
          "scatterpolar": [
           {
            "marker": {
             "colorbar": {
              "outlinewidth": 0,
              "ticks": ""
             }
            },
            "type": "scatterpolar"
           }
          ],
          "scatterpolargl": [
           {
            "marker": {
             "colorbar": {
              "outlinewidth": 0,
              "ticks": ""
             }
            },
            "type": "scatterpolargl"
           }
          ],
          "scatterternary": [
           {
            "marker": {
             "colorbar": {
              "outlinewidth": 0,
              "ticks": ""
             }
            },
            "type": "scatterternary"
           }
          ],
          "surface": [
           {
            "colorbar": {
             "outlinewidth": 0,
             "ticks": ""
            },
            "colorscale": [
             [
              0,
              "#0d0887"
             ],
             [
              0.1111111111111111,
              "#46039f"
             ],
             [
              0.2222222222222222,
              "#7201a8"
             ],
             [
              0.3333333333333333,
              "#9c179e"
             ],
             [
              0.4444444444444444,
              "#bd3786"
             ],
             [
              0.5555555555555556,
              "#d8576b"
             ],
             [
              0.6666666666666666,
              "#ed7953"
             ],
             [
              0.7777777777777778,
              "#fb9f3a"
             ],
             [
              0.8888888888888888,
              "#fdca26"
             ],
             [
              1,
              "#f0f921"
             ]
            ],
            "type": "surface"
           }
          ],
          "table": [
           {
            "cells": {
             "fill": {
              "color": "#EBF0F8"
             },
             "line": {
              "color": "white"
             }
            },
            "header": {
             "fill": {
              "color": "#C8D4E3"
             },
             "line": {
              "color": "white"
             }
            },
            "type": "table"
           }
          ]
         },
         "layout": {
          "annotationdefaults": {
           "arrowcolor": "#2a3f5f",
           "arrowhead": 0,
           "arrowwidth": 1
          },
          "autotypenumbers": "strict",
          "coloraxis": {
           "colorbar": {
            "outlinewidth": 0,
            "ticks": ""
           }
          },
          "colorscale": {
           "diverging": [
            [
             0,
             "#8e0152"
            ],
            [
             0.1,
             "#c51b7d"
            ],
            [
             0.2,
             "#de77ae"
            ],
            [
             0.3,
             "#f1b6da"
            ],
            [
             0.4,
             "#fde0ef"
            ],
            [
             0.5,
             "#f7f7f7"
            ],
            [
             0.6,
             "#e6f5d0"
            ],
            [
             0.7,
             "#b8e186"
            ],
            [
             0.8,
             "#7fbc41"
            ],
            [
             0.9,
             "#4d9221"
            ],
            [
             1,
             "#276419"
            ]
           ],
           "sequential": [
            [
             0,
             "#0d0887"
            ],
            [
             0.1111111111111111,
             "#46039f"
            ],
            [
             0.2222222222222222,
             "#7201a8"
            ],
            [
             0.3333333333333333,
             "#9c179e"
            ],
            [
             0.4444444444444444,
             "#bd3786"
            ],
            [
             0.5555555555555556,
             "#d8576b"
            ],
            [
             0.6666666666666666,
             "#ed7953"
            ],
            [
             0.7777777777777778,
             "#fb9f3a"
            ],
            [
             0.8888888888888888,
             "#fdca26"
            ],
            [
             1,
             "#f0f921"
            ]
           ],
           "sequentialminus": [
            [
             0,
             "#0d0887"
            ],
            [
             0.1111111111111111,
             "#46039f"
            ],
            [
             0.2222222222222222,
             "#7201a8"
            ],
            [
             0.3333333333333333,
             "#9c179e"
            ],
            [
             0.4444444444444444,
             "#bd3786"
            ],
            [
             0.5555555555555556,
             "#d8576b"
            ],
            [
             0.6666666666666666,
             "#ed7953"
            ],
            [
             0.7777777777777778,
             "#fb9f3a"
            ],
            [
             0.8888888888888888,
             "#fdca26"
            ],
            [
             1,
             "#f0f921"
            ]
           ]
          },
          "colorway": [
           "#636efa",
           "#EF553B",
           "#00cc96",
           "#ab63fa",
           "#FFA15A",
           "#19d3f3",
           "#FF6692",
           "#B6E880",
           "#FF97FF",
           "#FECB52"
          ],
          "font": {
           "color": "#2a3f5f"
          },
          "geo": {
           "bgcolor": "white",
           "lakecolor": "white",
           "landcolor": "#E5ECF6",
           "showlakes": true,
           "showland": true,
           "subunitcolor": "white"
          },
          "hoverlabel": {
           "align": "left"
          },
          "hovermode": "closest",
          "mapbox": {
           "style": "light"
          },
          "paper_bgcolor": "white",
          "plot_bgcolor": "#E5ECF6",
          "polar": {
           "angularaxis": {
            "gridcolor": "white",
            "linecolor": "white",
            "ticks": ""
           },
           "bgcolor": "#E5ECF6",
           "radialaxis": {
            "gridcolor": "white",
            "linecolor": "white",
            "ticks": ""
           }
          },
          "scene": {
           "xaxis": {
            "backgroundcolor": "#E5ECF6",
            "gridcolor": "white",
            "gridwidth": 2,
            "linecolor": "white",
            "showbackground": true,
            "ticks": "",
            "zerolinecolor": "white"
           },
           "yaxis": {
            "backgroundcolor": "#E5ECF6",
            "gridcolor": "white",
            "gridwidth": 2,
            "linecolor": "white",
            "showbackground": true,
            "ticks": "",
            "zerolinecolor": "white"
           },
           "zaxis": {
            "backgroundcolor": "#E5ECF6",
            "gridcolor": "white",
            "gridwidth": 2,
            "linecolor": "white",
            "showbackground": true,
            "ticks": "",
            "zerolinecolor": "white"
           }
          },
          "shapedefaults": {
           "line": {
            "color": "#2a3f5f"
           }
          },
          "ternary": {
           "aaxis": {
            "gridcolor": "white",
            "linecolor": "white",
            "ticks": ""
           },
           "baxis": {
            "gridcolor": "white",
            "linecolor": "white",
            "ticks": ""
           },
           "bgcolor": "#E5ECF6",
           "caxis": {
            "gridcolor": "white",
            "linecolor": "white",
            "ticks": ""
           }
          },
          "title": {
           "x": 0.05
          },
          "xaxis": {
           "automargin": true,
           "gridcolor": "white",
           "linecolor": "white",
           "ticks": "",
           "title": {
            "standoff": 15
           },
           "zerolinecolor": "white",
           "zerolinewidth": 2
          },
          "yaxis": {
           "automargin": true,
           "gridcolor": "white",
           "linecolor": "white",
           "ticks": "",
           "title": {
            "standoff": 15
           },
           "zerolinecolor": "white",
           "zerolinewidth": 2
          }
         }
        },
        "title": {
         "text": "Count of EV Charging Stations Opened by Year-Month"
        },
        "xaxis": {
         "anchor": "y",
         "autorange": true,
         "domain": [
          0,
          1
         ],
         "range": [
          "2010-06-08 10:27:37.1221",
          "2023-11-21 13:32:22.8779"
         ],
         "title": {
          "text": "Date"
         },
         "type": "date"
        },
        "yaxis": {
         "anchor": "x",
         "autorange": true,
         "domain": [
          0,
          1
         ],
         "range": [
          -27.49922651687567,
          301.2134332774227
         ],
         "title": {
          "text": "Count"
         },
         "type": "linear"
        }
       }
      },
      "image/png": "[encoded data removed]",
      "text/html": [
       "<div>                            <div id=\"2383aae8-8c0f-440f-8dd5-adc02ff364e1\" class=\"plotly-graph-div\" style=\"height:525px; width:100%;\"></div>            <script type=\"text/javascript\">                require([\"plotly\"], function(Plotly) {                    window.PLOTLYENV=window.PLOTLYENV || {};                                    if (document.getElementById(\"2383aae8-8c0f-440f-8dd5-adc02ff364e1\")) {                    Plotly.newPlot(                        \"2383aae8-8c0f-440f-8dd5-adc02ff364e1\",                        [{\"hovertemplate\":\"Date=%{x}<br>Count=%{y}<extra></extra>\",\"legendgroup\":\"\",\"marker\":{\"color\":\"#636efa\",\"symbol\":\"circle\"},\"mode\":\"markers\",\"name\":\"\",\"orientation\":\"v\",\"showlegend\":false,\"x\":[\"2011-03-01T00:00:00\",\"2011-06-01T00:00:00\",\"2012-03-01T00:00:00\",\"2013-01-01T00:00:00\",\"2013-03-01T00:00:00\",\"2013-04-01T00:00:00\",\"2013-05-01T00:00:00\",\"2013-06-01T00:00:00\",\"2013-07-01T00:00:00\",\"2013-09-01T00:00:00\",\"2013-11-01T00:00:00\",\"2013-12-01T00:00:00\",\"2014-03-01T00:00:00\",\"2014-04-01T00:00:00\",\"2014-05-01T00:00:00\",\"2014-06-01T00:00:00\",\"2014-07-01T00:00:00\",\"2014-08-01T00:00:00\",\"2014-11-01T00:00:00\",\"2014-12-01T00:00:00\",\"2015-01-01T00:00:00\",\"2015-02-01T00:00:00\",\"2015-03-01T00:00:00\",\"2015-04-01T00:00:00\",\"2015-05-01T00:00:00\",\"2015-06-01T00:00:00\",\"2015-07-01T00:00:00\",\"2015-08-01T00:00:00\",\"2015-09-01T00:00:00\",\"2015-10-01T00:00:00\",\"2015-11-01T00:00:00\",\"2015-12-01T00:00:00\",\"2016-01-01T00:00:00\",\"2016-02-01T00:00:00\",\"2016-03-01T00:00:00\",\"2016-04-01T00:00:00\",\"2016-05-01T00:00:00\",\"2016-06-01T00:00:00\",\"2016-07-01T00:00:00\",\"2016-08-01T00:00:00\",\"2016-09-01T00:00:00\",\"2016-10-01T00:00:00\",\"2016-11-01T00:00:00\",\"2017-01-01T00:00:00\",\"2017-02-01T00:00:00\",\"2017-03-01T00:00:00\",\"2017-04-01T00:00:00\",\"2017-05-01T00:00:00\",\"2017-06-01T00:00:00\",\"2017-07-01T00:00:00\",\"2017-08-01T00:00:00\",\"2017-10-01T00:00:00\",\"2017-11-01T00:00:00\",\"2017-12-01T00:00:00\",\"2018-01-01T00:00:00\",\"2018-02-01T00:00:00\",\"2018-03-01T00:00:00\",\"2018-04-01T00:00:00\",\"2018-05-01T00:00:00\",\"2018-06-01T00:00:00\",\"2018-07-01T00:00:00\",\"2018-08-01T00:00:00\",\"2018-09-01T00:00:00\",\"2018-10-01T00:00:00\",\"2018-11-01T00:00:00\",\"2018-12-01T00:00:00\",\"2019-01-01T00:00:00\",\"2019-02-01T00:00:00\",\"2019-03-01T00:00:00\",\"2019-04-01T00:00:00\",\"2019-05-01T00:00:00\",\"2019-06-01T00:00:00\",\"2019-07-01T00:00:00\",\"2019-08-01T00:00:00\",\"2019-09-01T00:00:00\",\"2019-10-01T00:00:00\",\"2019-11-01T00:00:00\",\"2019-12-01T00:00:00\",\"2020-01-01T00:00:00\",\"2020-02-01T00:00:00\",\"2020-03-01T00:00:00\",\"2020-04-01T00:00:00\",\"2020-05-01T00:00:00\",\"2020-06-01T00:00:00\",\"2020-07-01T00:00:00\",\"2020-08-01T00:00:00\",\"2020-09-01T00:00:00\",\"2020-10-01T00:00:00\",\"2020-11-01T00:00:00\",\"2020-12-01T00:00:00\",\"2021-01-01T00:00:00\",\"2021-02-01T00:00:00\",\"2021-03-01T00:00:00\",\"2021-04-01T00:00:00\",\"2021-05-01T00:00:00\",\"2021-06-01T00:00:00\",\"2021-07-01T00:00:00\",\"2021-08-01T00:00:00\",\"2021-09-01T00:00:00\",\"2021-10-01T00:00:00\",\"2021-11-01T00:00:00\",\"2021-12-01T00:00:00\",\"2022-01-01T00:00:00\",\"2022-02-01T00:00:00\",\"2022-03-01T00:00:00\",\"2022-04-01T00:00:00\",\"2022-05-01T00:00:00\",\"2022-06-01T00:00:00\",\"2022-07-01T00:00:00\",\"2022-08-01T00:00:00\",\"2022-09-01T00:00:00\",\"2022-10-01T00:00:00\",\"2022-11-01T00:00:00\",\"2022-12-01T00:00:00\",\"2023-01-01T00:00:00\",\"2023-02-01T00:00:00\",\"2023-03-01T00:00:00\"],\"xaxis\":\"x\",\"y\":[3,1,4,3,10,1,1,1,1,2,1,2,6,1,3,4,2,2,1,2,3,6,14,4,17,5,5,9,17,6,1,4,4,1,4,3,2,1,2,2,2,3,4,4,6,11,3,2,1,6,4,2,4,7,12,1,6,11,10,8,2,5,2,6,3,5,11,6,15,9,6,8,123,6,13,9,8,15,9,5,20,6,13,66,4,8,3,4,13,10,77,17,13,22,11,25,20,9,10,40,50,14,9,10,21,17,24,23,18,9,11,280,36,37,34,39,24],\"yaxis\":\"y\",\"type\":\"scatter\"},{\"hovertemplate\":\"<b>OLS trendline</b><br>Count = 1.11064e-07 * Date + -155.329<br>R<sup>2</sup>=0.130477<br><br>Date=%{x}<br>Count=%{y} <b>(trend)</b><extra></extra>\",\"legendgroup\":\"\",\"marker\":{\"color\":\"#636efa\",\"symbol\":\"circle\"},\"mode\":\"lines\",\"name\":\"\",\"showlegend\":false,\"x\":[\"2011-03-01T00:00:00\",\"2011-06-01T00:00:00\",\"2012-03-01T00:00:00\",\"2013-01-01T00:00:00\",\"2013-03-01T00:00:00\",\"2013-04-01T00:00:00\",\"2013-05-01T00:00:00\",\"2013-06-01T00:00:00\",\"2013-07-01T00:00:00\",\"2013-09-01T00:00:00\",\"2013-11-01T00:00:00\",\"2013-12-01T00:00:00\",\"2014-03-01T00:00:00\",\"2014-04-01T00:00:00\",\"2014-05-01T00:00:00\",\"2014-06-01T00:00:00\",\"2014-07-01T00:00:00\",\"2014-08-01T00:00:00\",\"2014-11-01T00:00:00\",\"2014-12-01T00:00:00\",\"2015-01-01T00:00:00\",\"2015-02-01T00:00:00\",\"2015-03-01T00:00:00\",\"2015-04-01T00:00:00\",\"2015-05-01T00:00:00\",\"2015-06-01T00:00:00\",\"2015-07-01T00:00:00\",\"2015-08-01T00:00:00\",\"2015-09-01T00:00:00\",\"2015-10-01T00:00:00\",\"2015-11-01T00:00:00\",\"2015-12-01T00:00:00\",\"2016-01-01T00:00:00\",\"2016-02-01T00:00:00\",\"2016-03-01T00:00:00\",\"2016-04-01T00:00:00\",\"2016-05-01T00:00:00\",\"2016-06-01T00:00:00\",\"2016-07-01T00:00:00\",\"2016-08-01T00:00:00\",\"2016-09-01T00:00:00\",\"2016-10-01T00:00:00\",\"2016-11-01T00:00:00\",\"2017-01-01T00:00:00\",\"2017-02-01T00:00:00\",\"2017-03-01T00:00:00\",\"2017-04-01T00:00:00\",\"2017-05-01T00:00:00\",\"2017-06-01T00:00:00\",\"2017-07-01T00:00:00\",\"2017-08-01T00:00:00\",\"2017-10-01T00:00:00\",\"2017-11-01T00:00:00\",\"2017-12-01T00:00:00\",\"2018-01-01T00:00:00\",\"2018-02-01T00:00:00\",\"2018-03-01T00:00:00\",\"2018-04-01T00:00:00\",\"2018-05-01T00:00:00\",\"2018-06-01T00:00:00\",\"2018-07-01T00:00:00\",\"2018-08-01T00:00:00\",\"2018-09-01T00:00:00\",\"2018-10-01T00:00:00\",\"2018-11-01T00:00:00\",\"2018-12-01T00:00:00\",\"2019-01-01T00:00:00\",\"2019-02-01T00:00:00\",\"2019-03-01T00:00:00\",\"2019-04-01T00:00:00\",\"2019-05-01T00:00:00\",\"2019-06-01T00:00:00\",\"2019-07-01T00:00:00\",\"2019-08-01T00:00:00\",\"2019-09-01T00:00:00\",\"2019-10-01T00:00:00\",\"2019-11-01T00:00:00\",\"2019-12-01T00:00:00\",\"2020-01-01T00:00:00\",\"2020-02-01T00:00:00\",\"2020-03-01T00:00:00\",\"2020-04-01T00:00:00\",\"2020-05-01T00:00:00\",\"2020-06-01T00:00:00\",\"2020-07-01T00:00:00\",\"2020-08-01T00:00:00\",\"2020-09-01T00:00:00\",\"2020-10-01T00:00:00\",\"2020-11-01T00:00:00\",\"2020-12-01T00:00:00\",\"2021-01-01T00:00:00\",\"2021-02-01T00:00:00\",\"2021-03-01T00:00:00\",\"2021-04-01T00:00:00\",\"2021-05-01T00:00:00\",\"2021-06-01T00:00:00\",\"2021-07-01T00:00:00\",\"2021-08-01T00:00:00\",\"2021-09-01T00:00:00\",\"2021-10-01T00:00:00\",\"2021-11-01T00:00:00\",\"2021-12-01T00:00:00\",\"2022-01-01T00:00:00\",\"2022-02-01T00:00:00\",\"2022-03-01T00:00:00\",\"2022-04-01T00:00:00\",\"2022-05-01T00:00:00\",\"2022-06-01T00:00:00\",\"2022-07-01T00:00:00\",\"2022-08-01T00:00:00\",\"2022-09-01T00:00:00\",\"2022-10-01T00:00:00\",\"2022-11-01T00:00:00\",\"2022-12-01T00:00:00\",\"2023-01-01T00:00:00\",\"2023-02-01T00:00:00\",\"2023-03-01T00:00:00\"],\"xaxis\":\"x\",\"y\":[-11.063593527160748,-10.180764767282227,-7.551470417209259,-4.6151051941350545,-4.0489432720390255,-3.7514683638191,-3.4635894203804583,-3.166114512160533,-2.8782355687218626,-2.283285752282012,-1.6979319006234164,-1.4100529571847744,-0.5464161268688201,-0.24894121864889485,0.03893772478974711,0.3364126330097008,0.6242915764483428,0.921766484668268,1.804595244546789,2.0924741879854594,2.3899490962053846,2.68742400442531,2.9561110183013852,3.2535859265213105,3.541464869959981,3.838939778179906,4.126818721618548,4.424293629838502,4.721768538058427,5.009647481497069,5.307122389717023,5.595001333155665,5.89247624137559,6.189951149595544,6.468234128252902,6.765709036472828,7.05358797991147,7.351062888131423,7.638941831570065,7.9364167397899905,8.233891648009916,8.521770591448586,8.819245499668511,9.404599351327107,9.702074259547032,9.970761273423108,10.268236181643033,10.556115125081675,10.853590033301629,11.14146897674027,11.438943884960196,12.024297736618792,12.321772644838717,12.609651588277387,12.907126496497312,13.204601404717238,13.473288418593313,13.770763326813267,14.058642270251909,14.356117178471834,14.643996121910476,14.94147103013043,15.238945938350355,15.526824881788997,15.82429979000895,16.112178733447593,16.409653641667518,16.70712854988747,16.97581556376352,17.273290471983472,17.561169415422114,17.85864432364204,18.14652326708071,18.443998175300635,18.74147308352056,19.02935202695923,19.326826935179156,19.614705878617798,19.912180786837723,20.209655695057677,20.487938673715036,20.78541358193496,21.073292525373603,21.370767433593556,21.6586463770322,21.956121285252124,22.253596193472077,22.54147513691072,22.838950045130645,23.126828988569315,23.42430389678924,23.721778805009166,23.99046581888524,24.287940727105195,24.575819670543837,24.873294578763762,25.161173522202404,25.458648430422357,25.756123338642283,26.044002282080925,26.34147719030088,26.62935613373952,26.926831041959446,27.2243059501794,27.492992964055446,27.7904678722754,28.078346815714042,28.375821723933967,28.663700667372638,28.961175575592563,29.258650483812488,29.54652942725116,29.844004335471084,30.131883278909726,30.42935818712968,30.726833095349605,30.99552010922568],\"yaxis\":\"y\",\"type\":\"scatter\"}],                        {\"template\":{\"data\":{\"bar\":[{\"error_x\":{\"color\":\"#2a3f5f\"},\"error_y\":{\"color\":\"#2a3f5f\"},\"marker\":{\"line\":{\"color\":\"#E5ECF6\",\"width\":0.5},\"pattern\":{\"fillmode\":\"overlay\",\"size\":10,\"solidity\":0.2}},\"type\":\"bar\"}],\"barpolar\":[{\"marker\":{\"line\":{\"color\":\"#E5ECF6\",\"width\":0.5},\"pattern\":{\"fillmode\":\"overlay\",\"size\":10,\"solidity\":0.2}},\"type\":\"barpolar\"}],\"carpet\":[{\"aaxis\":{\"endlinecolor\":\"#2a3f5f\",\"gridcolor\":\"white\",\"linecolor\":\"white\",\"minorgridcolor\":\"white\",\"startlinecolor\":\"#2a3f5f\"},\"baxis\":{\"endlinecolor\":\"#2a3f5f\",\"gridcolor\":\"white\",\"linecolor\":\"white\",\"minorgridcolor\":\"white\",\"startlinecolor\":\"#2a3f5f\"},\"type\":\"carpet\"}],\"choropleth\":[{\"colorbar\":{\"outlinewidth\":0,\"ticks\":\"\"},\"type\":\"choropleth\"}],\"contour\":[{\"colorbar\":{\"outlinewidth\":0,\"ticks\":\"\"},\"colorscale\":[[0.0,\"#0d0887\"],[0.1111111111111111,\"#46039f\"],[0.2222222222222222,\"#7201a8\"],[0.3333333333333333,\"#9c179e\"],[0.4444444444444444,\"#bd3786\"],[0.5555555555555556,\"#d8576b\"],[0.6666666666666666,\"#ed7953\"],[0.7777777777777778,\"#fb9f3a\"],[0.8888888888888888,\"#fdca26\"],[1.0,\"#f0f921\"]],\"type\":\"contour\"}],\"contourcarpet\":[{\"colorbar\":{\"outlinewidth\":0,\"ticks\":\"\"},\"type\":\"contourcarpet\"}],\"heatmap\":[{\"colorbar\":{\"outlinewidth\":0,\"ticks\":\"\"},\"colorscale\":[[0.0,\"#0d0887\"],[0.1111111111111111,\"#46039f\"],[0.2222222222222222,\"#7201a8\"],[0.3333333333333333,\"#9c179e\"],[0.4444444444444444,\"#bd3786\"],[0.5555555555555556,\"#d8576b\"],[0.6666666666666666,\"#ed7953\"],[0.7777777777777778,\"#fb9f3a\"],[0.8888888888888888,\"#fdca26\"],[1.0,\"#f0f921\"]],\"type\":\"heatmap\"}],\"heatmapgl\":[{\"colorbar\":{\"outlinewidth\":0,\"ticks\":\"\"},\"colorscale\":[[0.0,\"#0d0887\"],[0.1111111111111111,\"#46039f\"],[0.2222222222222222,\"#7201a8\"],[0.3333333333333333,\"#9c179e\"],[0.4444444444444444,\"#bd3786\"],[0.5555555555555556,\"#d8576b\"],[0.6666666666666666,\"#ed7953\"],[0.7777777777777778,\"#fb9f3a\"],[0.8888888888888888,\"#fdca26\"],[1.0,\"#f0f921\"]],\"type\":\"heatmapgl\"}],\"histogram\":[{\"marker\":{\"pattern\":{\"fillmode\":\"overlay\",\"size\":10,\"solidity\":0.2}},\"type\":\"histogram\"}],\"histogram2d\":[{\"colorbar\":{\"outlinewidth\":0,\"ticks\":\"\"},\"colorscale\":[[0.0,\"#0d0887\"],[0.1111111111111111,\"#46039f\"],[0.2222222222222222,\"#7201a8\"],[0.3333333333333333,\"#9c179e\"],[0.4444444444444444,\"#bd3786\"],[0.5555555555555556,\"#d8576b\"],[0.6666666666666666,\"#ed7953\"],[0.7777777777777778,\"#fb9f3a\"],[0.8888888888888888,\"#fdca26\"],[1.0,\"#f0f921\"]],\"type\":\"histogram2d\"}],\"histogram2dcontour\":[{\"colorbar\":{\"outlinewidth\":0,\"ticks\":\"\"},\"colorscale\":[[0.0,\"#0d0887\"],[0.1111111111111111,\"#46039f\"],[0.2222222222222222,\"#7201a8\"],[0.3333333333333333,\"#9c179e\"],[0.4444444444444444,\"#bd3786\"],[0.5555555555555556,\"#d8576b\"],[0.6666666666666666,\"#ed7953\"],[0.7777777777777778,\"#fb9f3a\"],[0.8888888888888888,\"#fdca26\"],[1.0,\"#f0f921\"]],\"type\":\"histogram2dcontour\"}],\"mesh3d\":[{\"colorbar\":{\"outlinewidth\":0,\"ticks\":\"\"},\"type\":\"mesh3d\"}],\"parcoords\":[{\"line\":{\"colorbar\":{\"outlinewidth\":0,\"ticks\":\"\"}},\"type\":\"parcoords\"}],\"pie\":[{\"automargin\":true,\"type\":\"pie\"}],\"scatter\":[{\"marker\":{\"colorbar\":{\"outlinewidth\":0,\"ticks\":\"\"}},\"type\":\"scatter\"}],\"scatter3d\":[{\"line\":{\"colorbar\":{\"outlinewidth\":0,\"ticks\":\"\"}},\"marker\":{\"colorbar\":{\"outlinewidth\":0,\"ticks\":\"\"}},\"type\":\"scatter3d\"}],\"scattercarpet\":[{\"marker\":{\"colorbar\":{\"outlinewidth\":0,\"ticks\":\"\"}},\"type\":\"scattercarpet\"}],\"scattergeo\":[{\"marker\":{\"colorbar\":{\"outlinewidth\":0,\"ticks\":\"\"}},\"type\":\"scattergeo\"}],\"scattergl\":[{\"marker\":{\"colorbar\":{\"outlinewidth\":0,\"ticks\":\"\"}},\"type\":\"scattergl\"}],\"scattermapbox\":[{\"marker\":{\"colorbar\":{\"outlinewidth\":0,\"ticks\":\"\"}},\"type\":\"scattermapbox\"}],\"scatterpolar\":[{\"marker\":{\"colorbar\":{\"outlinewidth\":0,\"ticks\":\"\"}},\"type\":\"scatterpolar\"}],\"scatterpolargl\":[{\"marker\":{\"colorbar\":{\"outlinewidth\":0,\"ticks\":\"\"}},\"type\":\"scatterpolargl\"}],\"scatterternary\":[{\"marker\":{\"colorbar\":{\"outlinewidth\":0,\"ticks\":\"\"}},\"type\":\"scatterternary\"}],\"surface\":[{\"colorbar\":{\"outlinewidth\":0,\"ticks\":\"\"},\"colorscale\":[[0.0,\"#0d0887\"],[0.1111111111111111,\"#46039f\"],[0.2222222222222222,\"#7201a8\"],[0.3333333333333333,\"#9c179e\"],[0.4444444444444444,\"#bd3786\"],[0.5555555555555556,\"#d8576b\"],[0.6666666666666666,\"#ed7953\"],[0.7777777777777778,\"#fb9f3a\"],[0.8888888888888888,\"#fdca26\"],[1.0,\"#f0f921\"]],\"type\":\"surface\"}],\"table\":[{\"cells\":{\"fill\":{\"color\":\"#EBF0F8\"},\"line\":{\"color\":\"white\"}},\"header\":{\"fill\":{\"color\":\"#C8D4E3\"},\"line\":{\"color\":\"white\"}},\"type\":\"table\"}]},\"layout\":{\"annotationdefaults\":{\"arrowcolor\":\"#2a3f5f\",\"arrowhead\":0,\"arrowwidth\":1},\"autotypenumbers\":\"strict\",\"coloraxis\":{\"colorbar\":{\"outlinewidth\":0,\"ticks\":\"\"}},\"colorscale\":{\"diverging\":[[0,\"#8e0152\"],[0.1,\"#c51b7d\"],[0.2,\"#de77ae\"],[0.3,\"#f1b6da\"],[0.4,\"#fde0ef\"],[0.5,\"#f7f7f7\"],[0.6,\"#e6f5d0\"],[0.7,\"#b8e186\"],[0.8,\"#7fbc41\"],[0.9,\"#4d9221\"],[1,\"#276419\"]],\"sequential\":[[0.0,\"#0d0887\"],[0.1111111111111111,\"#46039f\"],[0.2222222222222222,\"#7201a8\"],[0.3333333333333333,\"#9c179e\"],[0.4444444444444444,\"#bd3786\"],[0.5555555555555556,\"#d8576b\"],[0.6666666666666666,\"#ed7953\"],[0.7777777777777778,\"#fb9f3a\"],[0.8888888888888888,\"#fdca26\"],[1.0,\"#f0f921\"]],\"sequentialminus\":[[0.0,\"#0d0887\"],[0.1111111111111111,\"#46039f\"],[0.2222222222222222,\"#7201a8\"],[0.3333333333333333,\"#9c179e\"],[0.4444444444444444,\"#bd3786\"],[0.5555555555555556,\"#d8576b\"],[0.6666666666666666,\"#ed7953\"],[0.7777777777777778,\"#fb9f3a\"],[0.8888888888888888,\"#fdca26\"],[1.0,\"#f0f921\"]]},\"colorway\":[\"#636efa\",\"#EF553B\",\"#00cc96\",\"#ab63fa\",\"#FFA15A\",\"#19d3f3\",\"#FF6692\",\"#B6E880\",\"#FF97FF\",\"#FECB52\"],\"font\":{\"color\":\"#2a3f5f\"},\"geo\":{\"bgcolor\":\"white\",\"lakecolor\":\"white\",\"landcolor\":\"#E5ECF6\",\"showlakes\":true,\"showland\":true,\"subunitcolor\":\"white\"},\"hoverlabel\":{\"align\":\"left\"},\"hovermode\":\"closest\",\"mapbox\":{\"style\":\"light\"},\"paper_bgcolor\":\"white\",\"plot_bgcolor\":\"#E5ECF6\",\"polar\":{\"angularaxis\":{\"gridcolor\":\"white\",\"linecolor\":\"white\",\"ticks\":\"\"},\"bgcolor\":\"#E5ECF6\",\"radialaxis\":{\"gridcolor\":\"white\",\"linecolor\":\"white\",\"ticks\":\"\"}},\"scene\":{\"xaxis\":{\"backgroundcolor\":\"#E5ECF6\",\"gridcolor\":\"white\",\"gridwidth\":2,\"linecolor\":\"white\",\"showbackground\":true,\"ticks\":\"\",\"zerolinecolor\":\"white\"},\"yaxis\":{\"backgroundcolor\":\"#E5ECF6\",\"gridcolor\":\"white\",\"gridwidth\":2,\"linecolor\":\"white\",\"showbackground\":true,\"ticks\":\"\",\"zerolinecolor\":\"white\"},\"zaxis\":{\"backgroundcolor\":\"#E5ECF6\",\"gridcolor\":\"white\",\"gridwidth\":2,\"linecolor\":\"white\",\"showbackground\":true,\"ticks\":\"\",\"zerolinecolor\":\"white\"}},\"shapedefaults\":{\"line\":{\"color\":\"#2a3f5f\"}},\"ternary\":{\"aaxis\":{\"gridcolor\":\"white\",\"linecolor\":\"white\",\"ticks\":\"\"},\"baxis\":{\"gridcolor\":\"white\",\"linecolor\":\"white\",\"ticks\":\"\"},\"bgcolor\":\"#E5ECF6\",\"caxis\":{\"gridcolor\":\"white\",\"linecolor\":\"white\",\"ticks\":\"\"}},\"title\":{\"x\":0.05},\"xaxis\":{\"automargin\":true,\"gridcolor\":\"white\",\"linecolor\":\"white\",\"ticks\":\"\",\"title\":{\"standoff\":15},\"zerolinecolor\":\"white\",\"zerolinewidth\":2},\"yaxis\":{\"automargin\":true,\"gridcolor\":\"white\",\"linecolor\":\"white\",\"ticks\":\"\",\"title\":{\"standoff\":15},\"zerolinecolor\":\"white\",\"zerolinewidth\":2}}},\"xaxis\":{\"anchor\":\"y\",\"domain\":[0.0,1.0],\"title\":{\"text\":\"Date\"}},\"yaxis\":{\"anchor\":\"x\",\"domain\":[0.0,1.0],\"title\":{\"text\":\"Count\"}},\"legend\":{\"tracegroupgap\":0},\"title\":{\"text\":\"Count of EV Charging Stations Opened by Year-Month\"},\"margin\":{\"l\":20,\"r\":20,\"t\":50,\"b\":20},\"paper_bgcolor\":\"LightSteelBlue\"},                        {\"responsive\": true}                    ).then(function(){\n",
       "                            \n",
       "var gd = document.getElementById('2383aae8-8c0f-440f-8dd5-adc02ff364e1');\n",
       "var x = new MutationObserver(function (mutations, observer) {{\n",
       "        var display = window.getComputedStyle(gd).display;\n",
       "        if (!display || display === 'none') {{\n",
       "            console.log([gd, 'removed!']);\n",
       "            Plotly.purge(gd);\n",
       "            observer.disconnect();\n",
       "        }}\n",
       "}});\n",
       "\n",
       "// Listen for the removal of the full notebook cells\n",
       "var notebookContainer = gd.closest('#notebook-container');\n",
       "if (notebookContainer) {{\n",
       "    x.observe(notebookContainer, {childList: true});\n",
       "}}\n",
       "\n",
       "// Listen for the clearing of the current output cell\n",
       "var outputEl = gd.closest('.output');\n",
       "if (outputEl) {{\n",
       "    x.observe(outputEl, {childList: true});\n",
       "}}\n",
       "\n",
       "                        })                };                });            </script>        </div>"
      ]
     },
     "metadata": {},
     "output_type": "display_data"
    }
   ],
   "source": [
    "line_plot = df['Open-Date'].value_counts().rename_axis('Date').reset_index(name='Count').sort_values(by=['Date'],ascending=True).reset_index(drop=True)\n",
    "line_plot['Date']= pd.to_datetime(line_plot['Date'])\n",
    "fig = px.scatter(line_plot, x=\"Date\", y=\"Count\",trendline=\"ols\", title=\"Count of EV Charging Stations Opened by Year-Month\")\n",
    "fig.update_layout(\n",
    "    margin=dict(l=20, r=20, t=50, b=20),\n",
    "    paper_bgcolor=\"LightSteelBlue\",\n",
    ")\n",
    "\n",
    "fig.show()"
   ]
  },
  {
   "cell_type": "markdown",
   "id": "f6c93ff3-1890-48d8-ba1f-0d4af24b1b56",
   "metadata": {},
   "source": [
    "### This graph takes the datetime of each EV station opening along the x-axis against the number of EV stations opened that month. The timescale is for the entire dataset starting at March 2011 and ending on March 2023. From this graph, we can see that the number of EV openings has remained relatively the same between 2012 and 2018, but after 2018 we begin to see a gradually increase in the number of EV charging stations being opened with certain months having very high EV openings such as July 2019, January 2021 and October 2022."
   ]
  },
  {
   "cell_type": "code",
   "execution_count": 132,
   "id": "995f3eb4-88a4-4ad9-89eb-dcade44a52e4",
   "metadata": {},
   "outputs": [
    {
     "data": {
      "text/html": [
       "<div>\n",
       "<style scoped>\n",
       "    .dataframe tbody tr th:only-of-type {\n",
       "        vertical-align: middle;\n",
       "    }\n",
       "\n",
       "    .dataframe tbody tr th {\n",
       "        vertical-align: top;\n",
       "    }\n",
       "\n",
       "    .dataframe thead th {\n",
       "        text-align: right;\n",
       "    }\n",
       "</style>\n",
       "<table border=\"1\" class=\"dataframe\">\n",
       "  <thead>\n",
       "    <tr style=\"text-align: right;\">\n",
       "      <th></th>\n",
       "      <th>Date</th>\n",
       "      <th>Count</th>\n",
       "    </tr>\n",
       "  </thead>\n",
       "  <tbody>\n",
       "    <tr>\n",
       "      <th>82</th>\n",
       "      <td>2011-03</td>\n",
       "      <td>3</td>\n",
       "    </tr>\n",
       "    <tr>\n",
       "      <th>115</th>\n",
       "      <td>2011-06</td>\n",
       "      <td>1</td>\n",
       "    </tr>\n",
       "    <tr>\n",
       "      <th>74</th>\n",
       "      <td>2012-03</td>\n",
       "      <td>4</td>\n",
       "    </tr>\n",
       "    <tr>\n",
       "      <th>86</th>\n",
       "      <td>2013-01</td>\n",
       "      <td>3</td>\n",
       "    </tr>\n",
       "    <tr>\n",
       "      <th>39</th>\n",
       "      <td>2013-03</td>\n",
       "      <td>10</td>\n",
       "    </tr>\n",
       "    <tr>\n",
       "      <th>...</th>\n",
       "      <td>...</td>\n",
       "      <td>...</td>\n",
       "    </tr>\n",
       "    <tr>\n",
       "      <th>8</th>\n",
       "      <td>2022-11</td>\n",
       "      <td>36</td>\n",
       "    </tr>\n",
       "    <tr>\n",
       "      <th>7</th>\n",
       "      <td>2022-12</td>\n",
       "      <td>37</td>\n",
       "    </tr>\n",
       "    <tr>\n",
       "      <th>9</th>\n",
       "      <td>2023-01</td>\n",
       "      <td>34</td>\n",
       "    </tr>\n",
       "    <tr>\n",
       "      <th>6</th>\n",
       "      <td>2023-02</td>\n",
       "      <td>39</td>\n",
       "    </tr>\n",
       "    <tr>\n",
       "      <th>11</th>\n",
       "      <td>2023-03</td>\n",
       "      <td>24</td>\n",
       "    </tr>\n",
       "  </tbody>\n",
       "</table>\n",
       "<p>117 rows × 2 columns</p>\n",
       "</div>"
      ],
      "text/plain": [
       "        Date  Count\n",
       "82   2011-03      3\n",
       "115  2011-06      1\n",
       "74   2012-03      4\n",
       "86   2013-01      3\n",
       "39   2013-03     10\n",
       "..       ...    ...\n",
       "8    2022-11     36\n",
       "7    2022-12     37\n",
       "9    2023-01     34\n",
       "6    2023-02     39\n",
       "11   2023-03     24\n",
       "\n",
       "[117 rows x 2 columns]"
      ]
     },
     "execution_count": 132,
     "metadata": {},
     "output_type": "execute_result"
    }
   ],
   "source": [
    "# Next I want to examine seasonal decomposition of the timescale to examine overall trends within BC's EV Network\n",
    "trend_data = df['Open-Date'].value_counts().rename_axis('Date').reset_index(name='Count').sort_values(by=['Date'],ascending=True)\n",
    "trend_data"
   ]
  },
  {
   "cell_type": "code",
   "execution_count": 133,
   "id": "3e6247f8-fdca-48f4-9e95-df66bc6dbbe6",
   "metadata": {},
   "outputs": [
    {
     "data": {
      "image/png": "[encoded data removed]",
      "text/plain": [
       "<Figure size 720x1080 with 4 Axes>"
      ]
     },
     "metadata": {
      "image/png": {
       "height": 1071,
       "width": 709
      },
      "needs_background": "light"
     },
     "output_type": "display_data"
    }
   ],
   "source": [
    " # Seasonal Decomposition\n",
    "rcParams['figure.figsize'] = 10,15\n",
    "trend_data = df['Open-Date'].value_counts().rename_axis('Date').reset_index(name='Count').sort_values(by=['Date'],ascending=True).reset_index(drop=True)\n",
    "trend_data['Date']= pd.to_datetime(trend_data['Date'])\n",
    "trend_data = trend_data.set_index('Date')\n",
    "decomposition = sm.tsa.seasonal_decompose(trend_data['Count'], model='additive',period=12) # additive seasonal index\n",
    "fig = decomposition.plot()"
   ]
  },
  {
   "cell_type": "markdown",
   "id": "b643ca6a-6e0a-4885-bec2-4fb9d91e5855",
   "metadata": {},
   "source": [
    "### These four graphs makeup the seasonal decomposition of BC's EV network. From Top to Bottom:\n",
    "     \n",
    "#### 1.) The first graph is the original time series data.\n",
    "\n",
    "#### 2.) The second graph shows us the trend in the data. What we can see here is that between 2015 and 2016, there was an     increase in the number of EV charging stations being developed in BC. But then that trend declined to 2014 levels and remained there until 2019. Then we see that there was a huge increase in the number of charging stations being opened until the covid-19 pandemic hit where there was another decline. But this trend recovered and continued in 2021 and in 2022 saw the highest number of EV charging stations being opened.\n",
    "\n",
    "#### 3.) The third graph shows us the seasonality component in the data. It seems there is a pattern during the year for EV stations being opened where the number of stations opened is higher in the earlier months of the year and then lower over the summer months.\n",
    "\n",
    "#### 4.) The fourth and final graph is the noise in the data. This graph shows us the random fluctations in the data and is helpful for highlighting outliers and shows us if seasonal decomposition has performed well on this data. Based on this graph, certain months in 2019 and 2020, and 2021 may be outliers and it appears that seasonal deocomposition has done an effective job of capturing the dataset as there is no clear pattern in the residuals."
   ]
  },
  {
   "cell_type": "code",
   "execution_count": 134,
   "id": "50ca9bed-89e8-4f70-8acd-3ec421eb6a16",
   "metadata": {},
   "outputs": [
    {
     "name": "stderr",
     "output_type": "stream",
     "text": [
      "/var/folders/dq/3qj0hnk53pb8rjp2l_k7zby80000gn/T/ipykernel_98090/562938782.py:7: SettingWithCopyWarning:\n",
      "\n",
      "\n",
      "A value is trying to be set on a copy of a slice from a DataFrame\n",
      "\n",
      "See the caveats in the documentation: https://pandas.pydata.org/pandas-docs/stable/user_guide/indexing.html#returning-a-view-versus-a-copy\n",
      "\n"
     ]
    },
    {
     "data": {
      "application/vnd.plotly.v1+json": {
       "config": {
        "plotlyServerURL": "https://plot.ly"
       },
       "data": [
        {
         "hovertemplate": "Date=%{x}<br>Total=%{y}<extra></extra>",
         "legendgroup": "",
         "line": {
          "color": "#636efa",
          "dash": "solid"
         },
         "marker": {
          "symbol": "circle"
         },
         "mode": "lines",
         "name": "",
         "orientation": "v",
         "showlegend": false,
         "type": "scatter",
         "x": [
          "2011-03-01T00:00:00",
          "2011-06-01T00:00:00",
          "2012-03-01T00:00:00",
          "2013-01-01T00:00:00",
          "2013-03-01T00:00:00",
          "2013-04-01T00:00:00",
          "2013-05-01T00:00:00",
          "2013-06-01T00:00:00",
          "2013-07-01T00:00:00",
          "2013-09-01T00:00:00",
          "2013-11-01T00:00:00",
          "2013-12-01T00:00:00",
          "2014-03-01T00:00:00",
          "2014-04-01T00:00:00",
          "2014-05-01T00:00:00",
          "2014-06-01T00:00:00",
          "2014-07-01T00:00:00",
          "2014-08-01T00:00:00",
          "2014-11-01T00:00:00",
          "2014-12-01T00:00:00",
          "2015-01-01T00:00:00",
          "2015-02-01T00:00:00",
          "2015-03-01T00:00:00",
          "2015-04-01T00:00:00",
          "2015-05-01T00:00:00",
          "2015-06-01T00:00:00",
          "2015-07-01T00:00:00",
          "2015-08-01T00:00:00",
          "2015-09-01T00:00:00",
          "2015-10-01T00:00:00",
          "2015-11-01T00:00:00",
          "2015-12-01T00:00:00",
          "2016-01-01T00:00:00",
          "2016-02-01T00:00:00",
          "2016-03-01T00:00:00",
          "2016-04-01T00:00:00",
          "2016-05-01T00:00:00",
          "2016-06-01T00:00:00",
          "2016-07-01T00:00:00",
          "2016-08-01T00:00:00",
          "2016-09-01T00:00:00",
          "2016-10-01T00:00:00",
          "2016-11-01T00:00:00",
          "2017-01-01T00:00:00",
          "2017-02-01T00:00:00",
          "2017-03-01T00:00:00",
          "2017-04-01T00:00:00",
          "2017-05-01T00:00:00",
          "2017-06-01T00:00:00",
          "2017-07-01T00:00:00",
          "2017-08-01T00:00:00",
          "2017-10-01T00:00:00",
          "2017-11-01T00:00:00",
          "2017-12-01T00:00:00",
          "2018-01-01T00:00:00",
          "2018-02-01T00:00:00",
          "2018-03-01T00:00:00",
          "2018-04-01T00:00:00",
          "2018-05-01T00:00:00",
          "2018-06-01T00:00:00",
          "2018-07-01T00:00:00",
          "2018-08-01T00:00:00",
          "2018-09-01T00:00:00",
          "2018-10-01T00:00:00",
          "2018-11-01T00:00:00",
          "2018-12-01T00:00:00",
          "2019-01-01T00:00:00",
          "2019-02-01T00:00:00",
          "2019-03-01T00:00:00",
          "2019-04-01T00:00:00",
          "2019-05-01T00:00:00",
          "2019-06-01T00:00:00",
          "2019-07-01T00:00:00",
          "2019-08-01T00:00:00",
          "2019-09-01T00:00:00",
          "2019-10-01T00:00:00",
          "2019-11-01T00:00:00",
          "2019-12-01T00:00:00",
          "2020-01-01T00:00:00",
          "2020-02-01T00:00:00",
          "2020-03-01T00:00:00",
          "2020-04-01T00:00:00",
          "2020-05-01T00:00:00",
          "2020-06-01T00:00:00",
          "2020-07-01T00:00:00",
          "2020-08-01T00:00:00",
          "2020-09-01T00:00:00",
          "2020-10-01T00:00:00",
          "2020-11-01T00:00:00",
          "2020-12-01T00:00:00",
          "2021-01-01T00:00:00",
          "2021-02-01T00:00:00",
          "2021-03-01T00:00:00",
          "2021-04-01T00:00:00",
          "2021-05-01T00:00:00",
          "2021-06-01T00:00:00",
          "2021-07-01T00:00:00",
          "2021-08-01T00:00:00",
          "2021-09-01T00:00:00",
          "2021-10-01T00:00:00",
          "2021-11-01T00:00:00",
          "2021-12-01T00:00:00",
          "2022-01-01T00:00:00",
          "2022-02-01T00:00:00",
          "2022-03-01T00:00:00",
          "2022-04-01T00:00:00",
          "2022-05-01T00:00:00",
          "2022-06-01T00:00:00",
          "2022-07-01T00:00:00",
          "2022-08-01T00:00:00",
          "2022-09-01T00:00:00",
          "2022-10-01T00:00:00",
          "2022-11-01T00:00:00",
          "2022-12-01T00:00:00",
          "2023-01-01T00:00:00",
          "2023-02-01T00:00:00",
          "2023-03-01T00:00:00"
         ],
         "xaxis": "x",
         "y": [
          3,
          4,
          8,
          11,
          21,
          22,
          23,
          24,
          25,
          27,
          28,
          30,
          36,
          37,
          40,
          44,
          46,
          48,
          49,
          51,
          54,
          60,
          74,
          78,
          95,
          100,
          105,
          114,
          131,
          137,
          138,
          142,
          146,
          147,
          151,
          154,
          156,
          157,
          159,
          161,
          163,
          166,
          170,
          174,
          180,
          191,
          194,
          196,
          197,
          203,
          207,
          209,
          213,
          220,
          232,
          233,
          239,
          250,
          260,
          268,
          270,
          275,
          277,
          283,
          286,
          291,
          302,
          308,
          323,
          332,
          338,
          346,
          469,
          475,
          488,
          497,
          505,
          520,
          529,
          534,
          554,
          560,
          573,
          639,
          643,
          651,
          654,
          658,
          671,
          681,
          758,
          775,
          788,
          810,
          821,
          846,
          866,
          875,
          885,
          925,
          975,
          989,
          998,
          1008,
          1029,
          1046,
          1070,
          1093,
          1111,
          1120,
          1131,
          1411,
          1447,
          1484,
          1518,
          1557,
          1581
         ],
         "yaxis": "y"
        }
       ],
       "layout": {
        "autosize": true,
        "legend": {
         "tracegroupgap": 0
        },
        "margin": {
         "b": 20,
         "l": 20,
         "r": 20,
         "t": 50
        },
        "paper_bgcolor": "LightSteelBlue",
        "template": {
         "data": {
          "bar": [
           {
            "error_x": {
             "color": "#2a3f5f"
            },
            "error_y": {
             "color": "#2a3f5f"
            },
            "marker": {
             "line": {
              "color": "#E5ECF6",
              "width": 0.5
             },
             "pattern": {
              "fillmode": "overlay",
              "size": 10,
              "solidity": 0.2
             }
            },
            "type": "bar"
           }
          ],
          "barpolar": [
           {
            "marker": {
             "line": {
              "color": "#E5ECF6",
              "width": 0.5
             },
             "pattern": {
              "fillmode": "overlay",
              "size": 10,
              "solidity": 0.2
             }
            },
            "type": "barpolar"
           }
          ],
          "carpet": [
           {
            "aaxis": {
             "endlinecolor": "#2a3f5f",
             "gridcolor": "white",
             "linecolor": "white",
             "minorgridcolor": "white",
             "startlinecolor": "#2a3f5f"
            },
            "baxis": {
             "endlinecolor": "#2a3f5f",
             "gridcolor": "white",
             "linecolor": "white",
             "minorgridcolor": "white",
             "startlinecolor": "#2a3f5f"
            },
            "type": "carpet"
           }
          ],
          "choropleth": [
           {
            "colorbar": {
             "outlinewidth": 0,
             "ticks": ""
            },
            "type": "choropleth"
           }
          ],
          "contour": [
           {
            "colorbar": {
             "outlinewidth": 0,
             "ticks": ""
            },
            "colorscale": [
             [
              0,
              "#0d0887"
             ],
             [
              0.1111111111111111,
              "#46039f"
             ],
             [
              0.2222222222222222,
              "#7201a8"
             ],
             [
              0.3333333333333333,
              "#9c179e"
             ],
             [
              0.4444444444444444,
              "#bd3786"
             ],
             [
              0.5555555555555556,
              "#d8576b"
             ],
             [
              0.6666666666666666,
              "#ed7953"
             ],
             [
              0.7777777777777778,
              "#fb9f3a"
             ],
             [
              0.8888888888888888,
              "#fdca26"
             ],
             [
              1,
              "#f0f921"
             ]
            ],
            "type": "contour"
           }
          ],
          "contourcarpet": [
           {
            "colorbar": {
             "outlinewidth": 0,
             "ticks": ""
            },
            "type": "contourcarpet"
           }
          ],
          "heatmap": [
           {
            "colorbar": {
             "outlinewidth": 0,
             "ticks": ""
            },
            "colorscale": [
             [
              0,
              "#0d0887"
             ],
             [
              0.1111111111111111,
              "#46039f"
             ],
             [
              0.2222222222222222,
              "#7201a8"
             ],
             [
              0.3333333333333333,
              "#9c179e"
             ],
             [
              0.4444444444444444,
              "#bd3786"
             ],
             [
              0.5555555555555556,
              "#d8576b"
             ],
             [
              0.6666666666666666,
              "#ed7953"
             ],
             [
              0.7777777777777778,
              "#fb9f3a"
             ],
             [
              0.8888888888888888,
              "#fdca26"
             ],
             [
              1,
              "#f0f921"
             ]
            ],
            "type": "heatmap"
           }
          ],
          "heatmapgl": [
           {
            "colorbar": {
             "outlinewidth": 0,
             "ticks": ""
            },
            "colorscale": [
             [
              0,
              "#0d0887"
             ],
             [
              0.1111111111111111,
              "#46039f"
             ],
             [
              0.2222222222222222,
              "#7201a8"
             ],
             [
              0.3333333333333333,
              "#9c179e"
             ],
             [
              0.4444444444444444,
              "#bd3786"
             ],
             [
              0.5555555555555556,
              "#d8576b"
             ],
             [
              0.6666666666666666,
              "#ed7953"
             ],
             [
              0.7777777777777778,
              "#fb9f3a"
             ],
             [
              0.8888888888888888,
              "#fdca26"
             ],
             [
              1,
              "#f0f921"
             ]
            ],
            "type": "heatmapgl"
           }
          ],
          "histogram": [
           {
            "marker": {
             "pattern": {
              "fillmode": "overlay",
              "size": 10,
              "solidity": 0.2
             }
            },
            "type": "histogram"
           }
          ],
          "histogram2d": [
           {
            "colorbar": {
             "outlinewidth": 0,
             "ticks": ""
            },
            "colorscale": [
             [
              0,
              "#0d0887"
             ],
             [
              0.1111111111111111,
              "#46039f"
             ],
             [
              0.2222222222222222,
              "#7201a8"
             ],
             [
              0.3333333333333333,
              "#9c179e"
             ],
             [
              0.4444444444444444,
              "#bd3786"
             ],
             [
              0.5555555555555556,
              "#d8576b"
             ],
             [
              0.6666666666666666,
              "#ed7953"
             ],
             [
              0.7777777777777778,
              "#fb9f3a"
             ],
             [
              0.8888888888888888,
              "#fdca26"
             ],
             [
              1,
              "#f0f921"
             ]
            ],
            "type": "histogram2d"
           }
          ],
          "histogram2dcontour": [
           {
            "colorbar": {
             "outlinewidth": 0,
             "ticks": ""
            },
            "colorscale": [
             [
              0,
              "#0d0887"
             ],
             [
              0.1111111111111111,
              "#46039f"
             ],
             [
              0.2222222222222222,
              "#7201a8"
             ],
             [
              0.3333333333333333,
              "#9c179e"
             ],
             [
              0.4444444444444444,
              "#bd3786"
             ],
             [
              0.5555555555555556,
              "#d8576b"
             ],
             [
              0.6666666666666666,
              "#ed7953"
             ],
             [
              0.7777777777777778,
              "#fb9f3a"
             ],
             [
              0.8888888888888888,
              "#fdca26"
             ],
             [
              1,
              "#f0f921"
             ]
            ],
            "type": "histogram2dcontour"
           }
          ],
          "mesh3d": [
           {
            "colorbar": {
             "outlinewidth": 0,
             "ticks": ""
            },
            "type": "mesh3d"
           }
          ],
          "parcoords": [
           {
            "line": {
             "colorbar": {
              "outlinewidth": 0,
              "ticks": ""
             }
            },
            "type": "parcoords"
           }
          ],
          "pie": [
           {
            "automargin": true,
            "type": "pie"
           }
          ],
          "scatter": [
           {
            "marker": {
             "colorbar": {
              "outlinewidth": 0,
              "ticks": ""
             }
            },
            "type": "scatter"
           }
          ],
          "scatter3d": [
           {
            "line": {
             "colorbar": {
              "outlinewidth": 0,
              "ticks": ""
             }
            },
            "marker": {
             "colorbar": {
              "outlinewidth": 0,
              "ticks": ""
             }
            },
            "type": "scatter3d"
           }
          ],
          "scattercarpet": [
           {
            "marker": {
             "colorbar": {
              "outlinewidth": 0,
              "ticks": ""
             }
            },
            "type": "scattercarpet"
           }
          ],
          "scattergeo": [
           {
            "marker": {
             "colorbar": {
              "outlinewidth": 0,
              "ticks": ""
             }
            },
            "type": "scattergeo"
           }
          ],
          "scattergl": [
           {
            "marker": {
             "colorbar": {
              "outlinewidth": 0,
              "ticks": ""
             }
            },
            "type": "scattergl"
           }
          ],
          "scattermapbox": [
           {
            "marker": {
             "colorbar": {
              "outlinewidth": 0,
              "ticks": ""
             }
            },
            "type": "scattermapbox"
           }
          ],
          "scatterpolar": [
           {
            "marker": {
             "colorbar": {
              "outlinewidth": 0,
              "ticks": ""
             }
            },
            "type": "scatterpolar"
           }
          ],
          "scatterpolargl": [
           {
            "marker": {
             "colorbar": {
              "outlinewidth": 0,
              "ticks": ""
             }
            },
            "type": "scatterpolargl"
           }
          ],
          "scatterternary": [
           {
            "marker": {
             "colorbar": {
              "outlinewidth": 0,
              "ticks": ""
             }
            },
            "type": "scatterternary"
           }
          ],
          "surface": [
           {
            "colorbar": {
             "outlinewidth": 0,
             "ticks": ""
            },
            "colorscale": [
             [
              0,
              "#0d0887"
             ],
             [
              0.1111111111111111,
              "#46039f"
             ],
             [
              0.2222222222222222,
              "#7201a8"
             ],
             [
              0.3333333333333333,
              "#9c179e"
             ],
             [
              0.4444444444444444,
              "#bd3786"
             ],
             [
              0.5555555555555556,
              "#d8576b"
             ],
             [
              0.6666666666666666,
              "#ed7953"
             ],
             [
              0.7777777777777778,
              "#fb9f3a"
             ],
             [
              0.8888888888888888,
              "#fdca26"
             ],
             [
              1,
              "#f0f921"
             ]
            ],
            "type": "surface"
           }
          ],
          "table": [
           {
            "cells": {
             "fill": {
              "color": "#EBF0F8"
             },
             "line": {
              "color": "white"
             }
            },
            "header": {
             "fill": {
              "color": "#C8D4E3"
             },
             "line": {
              "color": "white"
             }
            },
            "type": "table"
           }
          ]
         },
         "layout": {
          "annotationdefaults": {
           "arrowcolor": "#2a3f5f",
           "arrowhead": 0,
           "arrowwidth": 1
          },
          "autotypenumbers": "strict",
          "coloraxis": {
           "colorbar": {
            "outlinewidth": 0,
            "ticks": ""
           }
          },
          "colorscale": {
           "diverging": [
            [
             0,
             "#8e0152"
            ],
            [
             0.1,
             "#c51b7d"
            ],
            [
             0.2,
             "#de77ae"
            ],
            [
             0.3,
             "#f1b6da"
            ],
            [
             0.4,
             "#fde0ef"
            ],
            [
             0.5,
             "#f7f7f7"
            ],
            [
             0.6,
             "#e6f5d0"
            ],
            [
             0.7,
             "#b8e186"
            ],
            [
             0.8,
             "#7fbc41"
            ],
            [
             0.9,
             "#4d9221"
            ],
            [
             1,
             "#276419"
            ]
           ],
           "sequential": [
            [
             0,
             "#0d0887"
            ],
            [
             0.1111111111111111,
             "#46039f"
            ],
            [
             0.2222222222222222,
             "#7201a8"
            ],
            [
             0.3333333333333333,
             "#9c179e"
            ],
            [
             0.4444444444444444,
             "#bd3786"
            ],
            [
             0.5555555555555556,
             "#d8576b"
            ],
            [
             0.6666666666666666,
             "#ed7953"
            ],
            [
             0.7777777777777778,
             "#fb9f3a"
            ],
            [
             0.8888888888888888,
             "#fdca26"
            ],
            [
             1,
             "#f0f921"
            ]
           ],
           "sequentialminus": [
            [
             0,
             "#0d0887"
            ],
            [
             0.1111111111111111,
             "#46039f"
            ],
            [
             0.2222222222222222,
             "#7201a8"
            ],
            [
             0.3333333333333333,
             "#9c179e"
            ],
            [
             0.4444444444444444,
             "#bd3786"
            ],
            [
             0.5555555555555556,
             "#d8576b"
            ],
            [
             0.6666666666666666,
             "#ed7953"
            ],
            [
             0.7777777777777778,
             "#fb9f3a"
            ],
            [
             0.8888888888888888,
             "#fdca26"
            ],
            [
             1,
             "#f0f921"
            ]
           ]
          },
          "colorway": [
           "#636efa",
           "#EF553B",
           "#00cc96",
           "#ab63fa",
           "#FFA15A",
           "#19d3f3",
           "#FF6692",
           "#B6E880",
           "#FF97FF",
           "#FECB52"
          ],
          "font": {
           "color": "#2a3f5f"
          },
          "geo": {
           "bgcolor": "white",
           "lakecolor": "white",
           "landcolor": "#E5ECF6",
           "showlakes": true,
           "showland": true,
           "subunitcolor": "white"
          },
          "hoverlabel": {
           "align": "left"
          },
          "hovermode": "closest",
          "mapbox": {
           "style": "light"
          },
          "paper_bgcolor": "white",
          "plot_bgcolor": "#E5ECF6",
          "polar": {
           "angularaxis": {
            "gridcolor": "white",
            "linecolor": "white",
            "ticks": ""
           },
           "bgcolor": "#E5ECF6",
           "radialaxis": {
            "gridcolor": "white",
            "linecolor": "white",
            "ticks": ""
           }
          },
          "scene": {
           "xaxis": {
            "backgroundcolor": "#E5ECF6",
            "gridcolor": "white",
            "gridwidth": 2,
            "linecolor": "white",
            "showbackground": true,
            "ticks": "",
            "zerolinecolor": "white"
           },
           "yaxis": {
            "backgroundcolor": "#E5ECF6",
            "gridcolor": "white",
            "gridwidth": 2,
            "linecolor": "white",
            "showbackground": true,
            "ticks": "",
            "zerolinecolor": "white"
           },
           "zaxis": {
            "backgroundcolor": "#E5ECF6",
            "gridcolor": "white",
            "gridwidth": 2,
            "linecolor": "white",
            "showbackground": true,
            "ticks": "",
            "zerolinecolor": "white"
           }
          },
          "shapedefaults": {
           "line": {
            "color": "#2a3f5f"
           }
          },
          "ternary": {
           "aaxis": {
            "gridcolor": "white",
            "linecolor": "white",
            "ticks": ""
           },
           "baxis": {
            "gridcolor": "white",
            "linecolor": "white",
            "ticks": ""
           },
           "bgcolor": "#E5ECF6",
           "caxis": {
            "gridcolor": "white",
            "linecolor": "white",
            "ticks": ""
           }
          },
          "title": {
           "x": 0.05
          },
          "xaxis": {
           "automargin": true,
           "gridcolor": "white",
           "linecolor": "white",
           "ticks": "",
           "title": {
            "standoff": 15
           },
           "zerolinecolor": "white",
           "zerolinewidth": 2
          },
          "yaxis": {
           "automargin": true,
           "gridcolor": "white",
           "linecolor": "white",
           "ticks": "",
           "title": {
            "standoff": 15
           },
           "zerolinecolor": "white",
           "zerolinewidth": 2
          }
         }
        },
        "title": {
         "text": "Total of EV Charging Stations by Count in BC"
        },
        "xaxis": {
         "anchor": "y",
         "autorange": true,
         "domain": [
          0,
          1
         ],
         "range": [
          "2011-03-01",
          "2023-03-01"
         ],
         "title": {
          "text": "Date"
         },
         "type": "date"
        },
        "yaxis": {
         "anchor": "x",
         "autorange": true,
         "domain": [
          0,
          1
         ],
         "range": [
          -84.66666666666667,
          1668.6666666666667
         ],
         "title": {
          "text": "Total"
         },
         "type": "linear"
        }
       }
      },
      "image/png": "[encoded data removed]",
      "text/html": [
       "<div>                            <div id=\"a9f96c6c-d069-48ae-aebf-61b04b8574c3\" class=\"plotly-graph-div\" style=\"height:525px; width:100%;\"></div>            <script type=\"text/javascript\">                require([\"plotly\"], function(Plotly) {                    window.PLOTLYENV=window.PLOTLYENV || {};                                    if (document.getElementById(\"a9f96c6c-d069-48ae-aebf-61b04b8574c3\")) {                    Plotly.newPlot(                        \"a9f96c6c-d069-48ae-aebf-61b04b8574c3\",                        [{\"hovertemplate\":\"Date=%{x}<br>Total=%{y}<extra></extra>\",\"legendgroup\":\"\",\"line\":{\"color\":\"#636efa\",\"dash\":\"solid\"},\"marker\":{\"symbol\":\"circle\"},\"mode\":\"lines\",\"name\":\"\",\"orientation\":\"v\",\"showlegend\":false,\"x\":[\"2011-03-01T00:00:00\",\"2011-06-01T00:00:00\",\"2012-03-01T00:00:00\",\"2013-01-01T00:00:00\",\"2013-03-01T00:00:00\",\"2013-04-01T00:00:00\",\"2013-05-01T00:00:00\",\"2013-06-01T00:00:00\",\"2013-07-01T00:00:00\",\"2013-09-01T00:00:00\",\"2013-11-01T00:00:00\",\"2013-12-01T00:00:00\",\"2014-03-01T00:00:00\",\"2014-04-01T00:00:00\",\"2014-05-01T00:00:00\",\"2014-06-01T00:00:00\",\"2014-07-01T00:00:00\",\"2014-08-01T00:00:00\",\"2014-11-01T00:00:00\",\"2014-12-01T00:00:00\",\"2015-01-01T00:00:00\",\"2015-02-01T00:00:00\",\"2015-03-01T00:00:00\",\"2015-04-01T00:00:00\",\"2015-05-01T00:00:00\",\"2015-06-01T00:00:00\",\"2015-07-01T00:00:00\",\"2015-08-01T00:00:00\",\"2015-09-01T00:00:00\",\"2015-10-01T00:00:00\",\"2015-11-01T00:00:00\",\"2015-12-01T00:00:00\",\"2016-01-01T00:00:00\",\"2016-02-01T00:00:00\",\"2016-03-01T00:00:00\",\"2016-04-01T00:00:00\",\"2016-05-01T00:00:00\",\"2016-06-01T00:00:00\",\"2016-07-01T00:00:00\",\"2016-08-01T00:00:00\",\"2016-09-01T00:00:00\",\"2016-10-01T00:00:00\",\"2016-11-01T00:00:00\",\"2017-01-01T00:00:00\",\"2017-02-01T00:00:00\",\"2017-03-01T00:00:00\",\"2017-04-01T00:00:00\",\"2017-05-01T00:00:00\",\"2017-06-01T00:00:00\",\"2017-07-01T00:00:00\",\"2017-08-01T00:00:00\",\"2017-10-01T00:00:00\",\"2017-11-01T00:00:00\",\"2017-12-01T00:00:00\",\"2018-01-01T00:00:00\",\"2018-02-01T00:00:00\",\"2018-03-01T00:00:00\",\"2018-04-01T00:00:00\",\"2018-05-01T00:00:00\",\"2018-06-01T00:00:00\",\"2018-07-01T00:00:00\",\"2018-08-01T00:00:00\",\"2018-09-01T00:00:00\",\"2018-10-01T00:00:00\",\"2018-11-01T00:00:00\",\"2018-12-01T00:00:00\",\"2019-01-01T00:00:00\",\"2019-02-01T00:00:00\",\"2019-03-01T00:00:00\",\"2019-04-01T00:00:00\",\"2019-05-01T00:00:00\",\"2019-06-01T00:00:00\",\"2019-07-01T00:00:00\",\"2019-08-01T00:00:00\",\"2019-09-01T00:00:00\",\"2019-10-01T00:00:00\",\"2019-11-01T00:00:00\",\"2019-12-01T00:00:00\",\"2020-01-01T00:00:00\",\"2020-02-01T00:00:00\",\"2020-03-01T00:00:00\",\"2020-04-01T00:00:00\",\"2020-05-01T00:00:00\",\"2020-06-01T00:00:00\",\"2020-07-01T00:00:00\",\"2020-08-01T00:00:00\",\"2020-09-01T00:00:00\",\"2020-10-01T00:00:00\",\"2020-11-01T00:00:00\",\"2020-12-01T00:00:00\",\"2021-01-01T00:00:00\",\"2021-02-01T00:00:00\",\"2021-03-01T00:00:00\",\"2021-04-01T00:00:00\",\"2021-05-01T00:00:00\",\"2021-06-01T00:00:00\",\"2021-07-01T00:00:00\",\"2021-08-01T00:00:00\",\"2021-09-01T00:00:00\",\"2021-10-01T00:00:00\",\"2021-11-01T00:00:00\",\"2021-12-01T00:00:00\",\"2022-01-01T00:00:00\",\"2022-02-01T00:00:00\",\"2022-03-01T00:00:00\",\"2022-04-01T00:00:00\",\"2022-05-01T00:00:00\",\"2022-06-01T00:00:00\",\"2022-07-01T00:00:00\",\"2022-08-01T00:00:00\",\"2022-09-01T00:00:00\",\"2022-10-01T00:00:00\",\"2022-11-01T00:00:00\",\"2022-12-01T00:00:00\",\"2023-01-01T00:00:00\",\"2023-02-01T00:00:00\",\"2023-03-01T00:00:00\"],\"xaxis\":\"x\",\"y\":[3,4,8,11,21,22,23,24,25,27,28,30,36,37,40,44,46,48,49,51,54,60,74,78,95,100,105,114,131,137,138,142,146,147,151,154,156,157,159,161,163,166,170,174,180,191,194,196,197,203,207,209,213,220,232,233,239,250,260,268,270,275,277,283,286,291,302,308,323,332,338,346,469,475,488,497,505,520,529,534,554,560,573,639,643,651,654,658,671,681,758,775,788,810,821,846,866,875,885,925,975,989,998,1008,1029,1046,1070,1093,1111,1120,1131,1411,1447,1484,1518,1557,1581],\"yaxis\":\"y\",\"type\":\"scatter\"}],                        {\"template\":{\"data\":{\"bar\":[{\"error_x\":{\"color\":\"#2a3f5f\"},\"error_y\":{\"color\":\"#2a3f5f\"},\"marker\":{\"line\":{\"color\":\"#E5ECF6\",\"width\":0.5},\"pattern\":{\"fillmode\":\"overlay\",\"size\":10,\"solidity\":0.2}},\"type\":\"bar\"}],\"barpolar\":[{\"marker\":{\"line\":{\"color\":\"#E5ECF6\",\"width\":0.5},\"pattern\":{\"fillmode\":\"overlay\",\"size\":10,\"solidity\":0.2}},\"type\":\"barpolar\"}],\"carpet\":[{\"aaxis\":{\"endlinecolor\":\"#2a3f5f\",\"gridcolor\":\"white\",\"linecolor\":\"white\",\"minorgridcolor\":\"white\",\"startlinecolor\":\"#2a3f5f\"},\"baxis\":{\"endlinecolor\":\"#2a3f5f\",\"gridcolor\":\"white\",\"linecolor\":\"white\",\"minorgridcolor\":\"white\",\"startlinecolor\":\"#2a3f5f\"},\"type\":\"carpet\"}],\"choropleth\":[{\"colorbar\":{\"outlinewidth\":0,\"ticks\":\"\"},\"type\":\"choropleth\"}],\"contour\":[{\"colorbar\":{\"outlinewidth\":0,\"ticks\":\"\"},\"colorscale\":[[0.0,\"#0d0887\"],[0.1111111111111111,\"#46039f\"],[0.2222222222222222,\"#7201a8\"],[0.3333333333333333,\"#9c179e\"],[0.4444444444444444,\"#bd3786\"],[0.5555555555555556,\"#d8576b\"],[0.6666666666666666,\"#ed7953\"],[0.7777777777777778,\"#fb9f3a\"],[0.8888888888888888,\"#fdca26\"],[1.0,\"#f0f921\"]],\"type\":\"contour\"}],\"contourcarpet\":[{\"colorbar\":{\"outlinewidth\":0,\"ticks\":\"\"},\"type\":\"contourcarpet\"}],\"heatmap\":[{\"colorbar\":{\"outlinewidth\":0,\"ticks\":\"\"},\"colorscale\":[[0.0,\"#0d0887\"],[0.1111111111111111,\"#46039f\"],[0.2222222222222222,\"#7201a8\"],[0.3333333333333333,\"#9c179e\"],[0.4444444444444444,\"#bd3786\"],[0.5555555555555556,\"#d8576b\"],[0.6666666666666666,\"#ed7953\"],[0.7777777777777778,\"#fb9f3a\"],[0.8888888888888888,\"#fdca26\"],[1.0,\"#f0f921\"]],\"type\":\"heatmap\"}],\"heatmapgl\":[{\"colorbar\":{\"outlinewidth\":0,\"ticks\":\"\"},\"colorscale\":[[0.0,\"#0d0887\"],[0.1111111111111111,\"#46039f\"],[0.2222222222222222,\"#7201a8\"],[0.3333333333333333,\"#9c179e\"],[0.4444444444444444,\"#bd3786\"],[0.5555555555555556,\"#d8576b\"],[0.6666666666666666,\"#ed7953\"],[0.7777777777777778,\"#fb9f3a\"],[0.8888888888888888,\"#fdca26\"],[1.0,\"#f0f921\"]],\"type\":\"heatmapgl\"}],\"histogram\":[{\"marker\":{\"pattern\":{\"fillmode\":\"overlay\",\"size\":10,\"solidity\":0.2}},\"type\":\"histogram\"}],\"histogram2d\":[{\"colorbar\":{\"outlinewidth\":0,\"ticks\":\"\"},\"colorscale\":[[0.0,\"#0d0887\"],[0.1111111111111111,\"#46039f\"],[0.2222222222222222,\"#7201a8\"],[0.3333333333333333,\"#9c179e\"],[0.4444444444444444,\"#bd3786\"],[0.5555555555555556,\"#d8576b\"],[0.6666666666666666,\"#ed7953\"],[0.7777777777777778,\"#fb9f3a\"],[0.8888888888888888,\"#fdca26\"],[1.0,\"#f0f921\"]],\"type\":\"histogram2d\"}],\"histogram2dcontour\":[{\"colorbar\":{\"outlinewidth\":0,\"ticks\":\"\"},\"colorscale\":[[0.0,\"#0d0887\"],[0.1111111111111111,\"#46039f\"],[0.2222222222222222,\"#7201a8\"],[0.3333333333333333,\"#9c179e\"],[0.4444444444444444,\"#bd3786\"],[0.5555555555555556,\"#d8576b\"],[0.6666666666666666,\"#ed7953\"],[0.7777777777777778,\"#fb9f3a\"],[0.8888888888888888,\"#fdca26\"],[1.0,\"#f0f921\"]],\"type\":\"histogram2dcontour\"}],\"mesh3d\":[{\"colorbar\":{\"outlinewidth\":0,\"ticks\":\"\"},\"type\":\"mesh3d\"}],\"parcoords\":[{\"line\":{\"colorbar\":{\"outlinewidth\":0,\"ticks\":\"\"}},\"type\":\"parcoords\"}],\"pie\":[{\"automargin\":true,\"type\":\"pie\"}],\"scatter\":[{\"marker\":{\"colorbar\":{\"outlinewidth\":0,\"ticks\":\"\"}},\"type\":\"scatter\"}],\"scatter3d\":[{\"line\":{\"colorbar\":{\"outlinewidth\":0,\"ticks\":\"\"}},\"marker\":{\"colorbar\":{\"outlinewidth\":0,\"ticks\":\"\"}},\"type\":\"scatter3d\"}],\"scattercarpet\":[{\"marker\":{\"colorbar\":{\"outlinewidth\":0,\"ticks\":\"\"}},\"type\":\"scattercarpet\"}],\"scattergeo\":[{\"marker\":{\"colorbar\":{\"outlinewidth\":0,\"ticks\":\"\"}},\"type\":\"scattergeo\"}],\"scattergl\":[{\"marker\":{\"colorbar\":{\"outlinewidth\":0,\"ticks\":\"\"}},\"type\":\"scattergl\"}],\"scattermapbox\":[{\"marker\":{\"colorbar\":{\"outlinewidth\":0,\"ticks\":\"\"}},\"type\":\"scattermapbox\"}],\"scatterpolar\":[{\"marker\":{\"colorbar\":{\"outlinewidth\":0,\"ticks\":\"\"}},\"type\":\"scatterpolar\"}],\"scatterpolargl\":[{\"marker\":{\"colorbar\":{\"outlinewidth\":0,\"ticks\":\"\"}},\"type\":\"scatterpolargl\"}],\"scatterternary\":[{\"marker\":{\"colorbar\":{\"outlinewidth\":0,\"ticks\":\"\"}},\"type\":\"scatterternary\"}],\"surface\":[{\"colorbar\":{\"outlinewidth\":0,\"ticks\":\"\"},\"colorscale\":[[0.0,\"#0d0887\"],[0.1111111111111111,\"#46039f\"],[0.2222222222222222,\"#7201a8\"],[0.3333333333333333,\"#9c179e\"],[0.4444444444444444,\"#bd3786\"],[0.5555555555555556,\"#d8576b\"],[0.6666666666666666,\"#ed7953\"],[0.7777777777777778,\"#fb9f3a\"],[0.8888888888888888,\"#fdca26\"],[1.0,\"#f0f921\"]],\"type\":\"surface\"}],\"table\":[{\"cells\":{\"fill\":{\"color\":\"#EBF0F8\"},\"line\":{\"color\":\"white\"}},\"header\":{\"fill\":{\"color\":\"#C8D4E3\"},\"line\":{\"color\":\"white\"}},\"type\":\"table\"}]},\"layout\":{\"annotationdefaults\":{\"arrowcolor\":\"#2a3f5f\",\"arrowhead\":0,\"arrowwidth\":1},\"autotypenumbers\":\"strict\",\"coloraxis\":{\"colorbar\":{\"outlinewidth\":0,\"ticks\":\"\"}},\"colorscale\":{\"diverging\":[[0,\"#8e0152\"],[0.1,\"#c51b7d\"],[0.2,\"#de77ae\"],[0.3,\"#f1b6da\"],[0.4,\"#fde0ef\"],[0.5,\"#f7f7f7\"],[0.6,\"#e6f5d0\"],[0.7,\"#b8e186\"],[0.8,\"#7fbc41\"],[0.9,\"#4d9221\"],[1,\"#276419\"]],\"sequential\":[[0.0,\"#0d0887\"],[0.1111111111111111,\"#46039f\"],[0.2222222222222222,\"#7201a8\"],[0.3333333333333333,\"#9c179e\"],[0.4444444444444444,\"#bd3786\"],[0.5555555555555556,\"#d8576b\"],[0.6666666666666666,\"#ed7953\"],[0.7777777777777778,\"#fb9f3a\"],[0.8888888888888888,\"#fdca26\"],[1.0,\"#f0f921\"]],\"sequentialminus\":[[0.0,\"#0d0887\"],[0.1111111111111111,\"#46039f\"],[0.2222222222222222,\"#7201a8\"],[0.3333333333333333,\"#9c179e\"],[0.4444444444444444,\"#bd3786\"],[0.5555555555555556,\"#d8576b\"],[0.6666666666666666,\"#ed7953\"],[0.7777777777777778,\"#fb9f3a\"],[0.8888888888888888,\"#fdca26\"],[1.0,\"#f0f921\"]]},\"colorway\":[\"#636efa\",\"#EF553B\",\"#00cc96\",\"#ab63fa\",\"#FFA15A\",\"#19d3f3\",\"#FF6692\",\"#B6E880\",\"#FF97FF\",\"#FECB52\"],\"font\":{\"color\":\"#2a3f5f\"},\"geo\":{\"bgcolor\":\"white\",\"lakecolor\":\"white\",\"landcolor\":\"#E5ECF6\",\"showlakes\":true,\"showland\":true,\"subunitcolor\":\"white\"},\"hoverlabel\":{\"align\":\"left\"},\"hovermode\":\"closest\",\"mapbox\":{\"style\":\"light\"},\"paper_bgcolor\":\"white\",\"plot_bgcolor\":\"#E5ECF6\",\"polar\":{\"angularaxis\":{\"gridcolor\":\"white\",\"linecolor\":\"white\",\"ticks\":\"\"},\"bgcolor\":\"#E5ECF6\",\"radialaxis\":{\"gridcolor\":\"white\",\"linecolor\":\"white\",\"ticks\":\"\"}},\"scene\":{\"xaxis\":{\"backgroundcolor\":\"#E5ECF6\",\"gridcolor\":\"white\",\"gridwidth\":2,\"linecolor\":\"white\",\"showbackground\":true,\"ticks\":\"\",\"zerolinecolor\":\"white\"},\"yaxis\":{\"backgroundcolor\":\"#E5ECF6\",\"gridcolor\":\"white\",\"gridwidth\":2,\"linecolor\":\"white\",\"showbackground\":true,\"ticks\":\"\",\"zerolinecolor\":\"white\"},\"zaxis\":{\"backgroundcolor\":\"#E5ECF6\",\"gridcolor\":\"white\",\"gridwidth\":2,\"linecolor\":\"white\",\"showbackground\":true,\"ticks\":\"\",\"zerolinecolor\":\"white\"}},\"shapedefaults\":{\"line\":{\"color\":\"#2a3f5f\"}},\"ternary\":{\"aaxis\":{\"gridcolor\":\"white\",\"linecolor\":\"white\",\"ticks\":\"\"},\"baxis\":{\"gridcolor\":\"white\",\"linecolor\":\"white\",\"ticks\":\"\"},\"bgcolor\":\"#E5ECF6\",\"caxis\":{\"gridcolor\":\"white\",\"linecolor\":\"white\",\"ticks\":\"\"}},\"title\":{\"x\":0.05},\"xaxis\":{\"automargin\":true,\"gridcolor\":\"white\",\"linecolor\":\"white\",\"ticks\":\"\",\"title\":{\"standoff\":15},\"zerolinecolor\":\"white\",\"zerolinewidth\":2},\"yaxis\":{\"automargin\":true,\"gridcolor\":\"white\",\"linecolor\":\"white\",\"ticks\":\"\",\"title\":{\"standoff\":15},\"zerolinecolor\":\"white\",\"zerolinewidth\":2}}},\"xaxis\":{\"anchor\":\"y\",\"domain\":[0.0,1.0],\"title\":{\"text\":\"Date\"}},\"yaxis\":{\"anchor\":\"x\",\"domain\":[0.0,1.0],\"title\":{\"text\":\"Total\"}},\"legend\":{\"tracegroupgap\":0},\"title\":{\"text\":\"Total of EV Charging Stations by Count in BC\"},\"margin\":{\"l\":20,\"r\":20,\"t\":50,\"b\":20},\"paper_bgcolor\":\"LightSteelBlue\"},                        {\"responsive\": true}                    ).then(function(){\n",
       "                            \n",
       "var gd = document.getElementById('a9f96c6c-d069-48ae-aebf-61b04b8574c3');\n",
       "var x = new MutationObserver(function (mutations, observer) {{\n",
       "        var display = window.getComputedStyle(gd).display;\n",
       "        if (!display || display === 'none') {{\n",
       "            console.log([gd, 'removed!']);\n",
       "            Plotly.purge(gd);\n",
       "            observer.disconnect();\n",
       "        }}\n",
       "}});\n",
       "\n",
       "// Listen for the removal of the full notebook cells\n",
       "var notebookContainer = gd.closest('#notebook-container');\n",
       "if (notebookContainer) {{\n",
       "    x.observe(notebookContainer, {childList: true});\n",
       "}}\n",
       "\n",
       "// Listen for the clearing of the current output cell\n",
       "var outputEl = gd.closest('.output');\n",
       "if (outputEl) {{\n",
       "    x.observe(outputEl, {childList: true});\n",
       "}}\n",
       "\n",
       "                        })                };                });            </script>        </div>"
      ]
     },
     "metadata": {},
     "output_type": "display_data"
    }
   ],
   "source": [
    "# Graph and dataset highlighting growth of EV's in BC\n",
    "trend_data = trend_data.reset_index(drop=False)\n",
    "trend_data['Total'] = 3\n",
    "for i in range(len(trend_data)-1):\n",
    "    count = trend_data['Count'][i+1]\n",
    "    total = count + trend_data['Total'][i]\n",
    "    trend_data['Total'][i+1] = total\n",
    "\n",
    "fig = px.line(trend_data, x=\"Date\", y=\"Total\", title=\"Total of EV Charging Stations by Count in BC\")\n",
    "fig.update_layout(\n",
    "    margin=dict(l=20, r=20, t=50, b=20),\n",
    "    paper_bgcolor=\"LightSteelBlue\",\n",
    ")\n",
    "\n",
    "fig.show()"
   ]
  },
  {
   "cell_type": "markdown",
   "id": "369cad04-87f3-4640-aefb-d833ce64a980",
   "metadata": {},
   "source": [
    "### This graph highlights the growth in EV's with the date on the x-axis and the total number of charging stations in BC on the y-axis. Adding the sum of these charging stations together we have a total of 1581 EV stations across BC, with the majority of these charging stations being developed over the last three years. This is different from the shape of the total dataset at 1779 due to the Open Date Column having 1581 non-null values. The Trend Dataset used to create this graph can also be used to calculate the growth rates between years of EV charging stations being opened. "
   ]
  },
  {
   "cell_type": "code",
   "execution_count": 156,
   "id": "ed46c097-a50e-4143-bd94-31aa2d2bd973",
   "metadata": {},
   "outputs": [
    {
     "data": {
      "text/html": [
       "<div>\n",
       "<style scoped>\n",
       "    .dataframe tbody tr th:only-of-type {\n",
       "        vertical-align: middle;\n",
       "    }\n",
       "\n",
       "    .dataframe tbody tr th {\n",
       "        vertical-align: top;\n",
       "    }\n",
       "\n",
       "    .dataframe thead th {\n",
       "        text-align: right;\n",
       "    }\n",
       "</style>\n",
       "<table border=\"1\" class=\"dataframe\">\n",
       "  <thead>\n",
       "    <tr style=\"text-align: right;\">\n",
       "      <th></th>\n",
       "      <th>Date</th>\n",
       "      <th>Count</th>\n",
       "    </tr>\n",
       "  </thead>\n",
       "  <tbody>\n",
       "    <tr>\n",
       "      <th>0</th>\n",
       "      <td>2011</td>\n",
       "      <td>3</td>\n",
       "    </tr>\n",
       "    <tr>\n",
       "      <th>1</th>\n",
       "      <td>2011</td>\n",
       "      <td>1</td>\n",
       "    </tr>\n",
       "    <tr>\n",
       "      <th>2</th>\n",
       "      <td>2012</td>\n",
       "      <td>4</td>\n",
       "    </tr>\n",
       "    <tr>\n",
       "      <th>3</th>\n",
       "      <td>2013</td>\n",
       "      <td>3</td>\n",
       "    </tr>\n",
       "    <tr>\n",
       "      <th>4</th>\n",
       "      <td>2013</td>\n",
       "      <td>10</td>\n",
       "    </tr>\n",
       "    <tr>\n",
       "      <th>...</th>\n",
       "      <td>...</td>\n",
       "      <td>...</td>\n",
       "    </tr>\n",
       "    <tr>\n",
       "      <th>112</th>\n",
       "      <td>2022</td>\n",
       "      <td>36</td>\n",
       "    </tr>\n",
       "    <tr>\n",
       "      <th>113</th>\n",
       "      <td>2022</td>\n",
       "      <td>37</td>\n",
       "    </tr>\n",
       "    <tr>\n",
       "      <th>114</th>\n",
       "      <td>2023</td>\n",
       "      <td>34</td>\n",
       "    </tr>\n",
       "    <tr>\n",
       "      <th>115</th>\n",
       "      <td>2023</td>\n",
       "      <td>39</td>\n",
       "    </tr>\n",
       "    <tr>\n",
       "      <th>116</th>\n",
       "      <td>2023</td>\n",
       "      <td>24</td>\n",
       "    </tr>\n",
       "  </tbody>\n",
       "</table>\n",
       "<p>117 rows × 2 columns</p>\n",
       "</div>"
      ],
      "text/plain": [
       "     Date  Count\n",
       "0    2011      3\n",
       "1    2011      1\n",
       "2    2012      4\n",
       "3    2013      3\n",
       "4    2013     10\n",
       "..    ...    ...\n",
       "112  2022     36\n",
       "113  2022     37\n",
       "114  2023     34\n",
       "115  2023     39\n",
       "116  2023     24\n",
       "\n",
       "[117 rows x 2 columns]"
      ]
     },
     "execution_count": 156,
     "metadata": {},
     "output_type": "execute_result"
    }
   ],
   "source": [
    "trend_data"
   ]
  },
  {
   "cell_type": "code",
   "execution_count": 135,
   "id": "75522094-e96a-48b4-8132-709b0b81fc5a",
   "metadata": {},
   "outputs": [],
   "source": [
    "trend_data = trend_data.drop(columns=['Total'])\n",
    "trend_data['Date'] = trend_data['Date'].apply(lambda x: x.strftime('%Y'))"
   ]
  },
  {
   "cell_type": "code",
   "execution_count": 180,
   "id": "91771d44-609d-4b0f-86a4-594c06e28292",
   "metadata": {},
   "outputs": [
    {
     "data": {
      "text/html": [
       "<div>\n",
       "<style scoped>\n",
       "    .dataframe tbody tr th:only-of-type {\n",
       "        vertical-align: middle;\n",
       "    }\n",
       "\n",
       "    .dataframe tbody tr th {\n",
       "        vertical-align: top;\n",
       "    }\n",
       "\n",
       "    .dataframe thead th {\n",
       "        text-align: right;\n",
       "    }\n",
       "</style>\n",
       "<table border=\"1\" class=\"dataframe\">\n",
       "  <thead>\n",
       "    <tr style=\"text-align: right;\">\n",
       "      <th></th>\n",
       "      <th>Count</th>\n",
       "      <th>Growth_Rate_Percentage</th>\n",
       "    </tr>\n",
       "    <tr>\n",
       "      <th>Date</th>\n",
       "      <th></th>\n",
       "      <th></th>\n",
       "    </tr>\n",
       "  </thead>\n",
       "  <tbody>\n",
       "    <tr>\n",
       "      <th>2011</th>\n",
       "      <td>4</td>\n",
       "      <td>NaN</td>\n",
       "    </tr>\n",
       "    <tr>\n",
       "      <th>2012</th>\n",
       "      <td>4</td>\n",
       "      <td>0.000000</td>\n",
       "    </tr>\n",
       "    <tr>\n",
       "      <th>2013</th>\n",
       "      <td>22</td>\n",
       "      <td>450.000000</td>\n",
       "    </tr>\n",
       "    <tr>\n",
       "      <th>2014</th>\n",
       "      <td>21</td>\n",
       "      <td>-4.545455</td>\n",
       "    </tr>\n",
       "    <tr>\n",
       "      <th>2015</th>\n",
       "      <td>91</td>\n",
       "      <td>333.333333</td>\n",
       "    </tr>\n",
       "    <tr>\n",
       "      <th>2016</th>\n",
       "      <td>28</td>\n",
       "      <td>-69.230769</td>\n",
       "    </tr>\n",
       "    <tr>\n",
       "      <th>2017</th>\n",
       "      <td>50</td>\n",
       "      <td>78.571429</td>\n",
       "    </tr>\n",
       "    <tr>\n",
       "      <th>2018</th>\n",
       "      <td>71</td>\n",
       "      <td>42.000000</td>\n",
       "    </tr>\n",
       "    <tr>\n",
       "      <th>2019</th>\n",
       "      <td>229</td>\n",
       "      <td>222.535211</td>\n",
       "    </tr>\n",
       "    <tr>\n",
       "      <th>2020</th>\n",
       "      <td>161</td>\n",
       "      <td>-29.694323</td>\n",
       "    </tr>\n",
       "    <tr>\n",
       "      <th>2021</th>\n",
       "      <td>308</td>\n",
       "      <td>91.304348</td>\n",
       "    </tr>\n",
       "    <tr>\n",
       "      <th>2022</th>\n",
       "      <td>495</td>\n",
       "      <td>60.714286</td>\n",
       "    </tr>\n",
       "    <tr>\n",
       "      <th>2023</th>\n",
       "      <td>97</td>\n",
       "      <td>-80.404040</td>\n",
       "    </tr>\n",
       "  </tbody>\n",
       "</table>\n",
       "</div>"
      ],
      "text/plain": [
       "      Count  Growth_Rate_Percentage\n",
       "Date                               \n",
       "2011      4                     NaN\n",
       "2012      4                0.000000\n",
       "2013     22              450.000000\n",
       "2014     21               -4.545455\n",
       "2015     91              333.333333\n",
       "2016     28              -69.230769\n",
       "2017     50               78.571429\n",
       "2018     71               42.000000\n",
       "2019    229              222.535211\n",
       "2020    161              -29.694323\n",
       "2021    308               91.304348\n",
       "2022    495               60.714286\n",
       "2023     97              -80.404040"
      ]
     },
     "execution_count": 180,
     "metadata": {},
     "output_type": "execute_result"
    }
   ],
   "source": [
    "group_df = trend_data.groupby(by=['Date']).sum()\n",
    "group_df['Growth_Rate_Percentage'] = group_df['Count'].pct_change()*100\n",
    "group_df"
   ]
  },
  {
   "cell_type": "code",
   "execution_count": 181,
   "id": "873ad370-50b0-47f3-aa3a-2f67d81db213",
   "metadata": {},
   "outputs": [
    {
     "data": {
      "application/vnd.plotly.v1+json": {
       "config": {
        "plotlyServerURL": "https://plot.ly"
       },
       "data": [
        {
         "hovertemplate": "Date=%{x}<br>Growth_Rate_Percentage=%{y}<extra></extra>",
         "legendgroup": "",
         "line": {
          "color": "#636efa",
          "dash": "solid"
         },
         "marker": {
          "symbol": "circle"
         },
         "mode": "lines+markers",
         "name": "",
         "orientation": "v",
         "showlegend": false,
         "type": "scatter",
         "x": [
          "2011",
          "2012",
          "2013",
          "2014",
          "2015",
          "2016",
          "2017",
          "2018",
          "2019",
          "2020",
          "2021",
          "2022",
          "2023"
         ],
         "xaxis": "x",
         "y": [
          null,
          0,
          450,
          -4.545454545454541,
          333.3333333333333,
          -69.23076923076923,
          78.57142857142858,
          41.99999999999999,
          222.53521126760566,
          -29.694323144104807,
          91.30434782608697,
          60.71428571428572,
          -80.4040404040404
         ],
         "yaxis": "y"
        }
       ],
       "layout": {
        "autosize": true,
        "legend": {
         "tracegroupgap": 0
        },
        "margin": {
         "t": 60
        },
        "template": {
         "data": {
          "bar": [
           {
            "error_x": {
             "color": "#2a3f5f"
            },
            "error_y": {
             "color": "#2a3f5f"
            },
            "marker": {
             "line": {
              "color": "#E5ECF6",
              "width": 0.5
             },
             "pattern": {
              "fillmode": "overlay",
              "size": 10,
              "solidity": 0.2
             }
            },
            "type": "bar"
           }
          ],
          "barpolar": [
           {
            "marker": {
             "line": {
              "color": "#E5ECF6",
              "width": 0.5
             },
             "pattern": {
              "fillmode": "overlay",
              "size": 10,
              "solidity": 0.2
             }
            },
            "type": "barpolar"
           }
          ],
          "carpet": [
           {
            "aaxis": {
             "endlinecolor": "#2a3f5f",
             "gridcolor": "white",
             "linecolor": "white",
             "minorgridcolor": "white",
             "startlinecolor": "#2a3f5f"
            },
            "baxis": {
             "endlinecolor": "#2a3f5f",
             "gridcolor": "white",
             "linecolor": "white",
             "minorgridcolor": "white",
             "startlinecolor": "#2a3f5f"
            },
            "type": "carpet"
           }
          ],
          "choropleth": [
           {
            "colorbar": {
             "outlinewidth": 0,
             "ticks": ""
            },
            "type": "choropleth"
           }
          ],
          "contour": [
           {
            "colorbar": {
             "outlinewidth": 0,
             "ticks": ""
            },
            "colorscale": [
             [
              0,
              "#0d0887"
             ],
             [
              0.1111111111111111,
              "#46039f"
             ],
             [
              0.2222222222222222,
              "#7201a8"
             ],
             [
              0.3333333333333333,
              "#9c179e"
             ],
             [
              0.4444444444444444,
              "#bd3786"
             ],
             [
              0.5555555555555556,
              "#d8576b"
             ],
             [
              0.6666666666666666,
              "#ed7953"
             ],
             [
              0.7777777777777778,
              "#fb9f3a"
             ],
             [
              0.8888888888888888,
              "#fdca26"
             ],
             [
              1,
              "#f0f921"
             ]
            ],
            "type": "contour"
           }
          ],
          "contourcarpet": [
           {
            "colorbar": {
             "outlinewidth": 0,
             "ticks": ""
            },
            "type": "contourcarpet"
           }
          ],
          "heatmap": [
           {
            "colorbar": {
             "outlinewidth": 0,
             "ticks": ""
            },
            "colorscale": [
             [
              0,
              "#0d0887"
             ],
             [
              0.1111111111111111,
              "#46039f"
             ],
             [
              0.2222222222222222,
              "#7201a8"
             ],
             [
              0.3333333333333333,
              "#9c179e"
             ],
             [
              0.4444444444444444,
              "#bd3786"
             ],
             [
              0.5555555555555556,
              "#d8576b"
             ],
             [
              0.6666666666666666,
              "#ed7953"
             ],
             [
              0.7777777777777778,
              "#fb9f3a"
             ],
             [
              0.8888888888888888,
              "#fdca26"
             ],
             [
              1,
              "#f0f921"
             ]
            ],
            "type": "heatmap"
           }
          ],
          "heatmapgl": [
           {
            "colorbar": {
             "outlinewidth": 0,
             "ticks": ""
            },
            "colorscale": [
             [
              0,
              "#0d0887"
             ],
             [
              0.1111111111111111,
              "#46039f"
             ],
             [
              0.2222222222222222,
              "#7201a8"
             ],
             [
              0.3333333333333333,
              "#9c179e"
             ],
             [
              0.4444444444444444,
              "#bd3786"
             ],
             [
              0.5555555555555556,
              "#d8576b"
             ],
             [
              0.6666666666666666,
              "#ed7953"
             ],
             [
              0.7777777777777778,
              "#fb9f3a"
             ],
             [
              0.8888888888888888,
              "#fdca26"
             ],
             [
              1,
              "#f0f921"
             ]
            ],
            "type": "heatmapgl"
           }
          ],
          "histogram": [
           {
            "marker": {
             "pattern": {
              "fillmode": "overlay",
              "size": 10,
              "solidity": 0.2
             }
            },
            "type": "histogram"
           }
          ],
          "histogram2d": [
           {
            "colorbar": {
             "outlinewidth": 0,
             "ticks": ""
            },
            "colorscale": [
             [
              0,
              "#0d0887"
             ],
             [
              0.1111111111111111,
              "#46039f"
             ],
             [
              0.2222222222222222,
              "#7201a8"
             ],
             [
              0.3333333333333333,
              "#9c179e"
             ],
             [
              0.4444444444444444,
              "#bd3786"
             ],
             [
              0.5555555555555556,
              "#d8576b"
             ],
             [
              0.6666666666666666,
              "#ed7953"
             ],
             [
              0.7777777777777778,
              "#fb9f3a"
             ],
             [
              0.8888888888888888,
              "#fdca26"
             ],
             [
              1,
              "#f0f921"
             ]
            ],
            "type": "histogram2d"
           }
          ],
          "histogram2dcontour": [
           {
            "colorbar": {
             "outlinewidth": 0,
             "ticks": ""
            },
            "colorscale": [
             [
              0,
              "#0d0887"
             ],
             [
              0.1111111111111111,
              "#46039f"
             ],
             [
              0.2222222222222222,
              "#7201a8"
             ],
             [
              0.3333333333333333,
              "#9c179e"
             ],
             [
              0.4444444444444444,
              "#bd3786"
             ],
             [
              0.5555555555555556,
              "#d8576b"
             ],
             [
              0.6666666666666666,
              "#ed7953"
             ],
             [
              0.7777777777777778,
              "#fb9f3a"
             ],
             [
              0.8888888888888888,
              "#fdca26"
             ],
             [
              1,
              "#f0f921"
             ]
            ],
            "type": "histogram2dcontour"
           }
          ],
          "mesh3d": [
           {
            "colorbar": {
             "outlinewidth": 0,
             "ticks": ""
            },
            "type": "mesh3d"
           }
          ],
          "parcoords": [
           {
            "line": {
             "colorbar": {
              "outlinewidth": 0,
              "ticks": ""
             }
            },
            "type": "parcoords"
           }
          ],
          "pie": [
           {
            "automargin": true,
            "type": "pie"
           }
          ],
          "scatter": [
           {
            "marker": {
             "colorbar": {
              "outlinewidth": 0,
              "ticks": ""
             }
            },
            "type": "scatter"
           }
          ],
          "scatter3d": [
           {
            "line": {
             "colorbar": {
              "outlinewidth": 0,
              "ticks": ""
             }
            },
            "marker": {
             "colorbar": {
              "outlinewidth": 0,
              "ticks": ""
             }
            },
            "type": "scatter3d"
           }
          ],
          "scattercarpet": [
           {
            "marker": {
             "colorbar": {
              "outlinewidth": 0,
              "ticks": ""
             }
            },
            "type": "scattercarpet"
           }
          ],
          "scattergeo": [
           {
            "marker": {
             "colorbar": {
              "outlinewidth": 0,
              "ticks": ""
             }
            },
            "type": "scattergeo"
           }
          ],
          "scattergl": [
           {
            "marker": {
             "colorbar": {
              "outlinewidth": 0,
              "ticks": ""
             }
            },
            "type": "scattergl"
           }
          ],
          "scattermapbox": [
           {
            "marker": {
             "colorbar": {
              "outlinewidth": 0,
              "ticks": ""
             }
            },
            "type": "scattermapbox"
           }
          ],
          "scatterpolar": [
           {
            "marker": {
             "colorbar": {
              "outlinewidth": 0,
              "ticks": ""
             }
            },
            "type": "scatterpolar"
           }
          ],
          "scatterpolargl": [
           {
            "marker": {
             "colorbar": {
              "outlinewidth": 0,
              "ticks": ""
             }
            },
            "type": "scatterpolargl"
           }
          ],
          "scatterternary": [
           {
            "marker": {
             "colorbar": {
              "outlinewidth": 0,
              "ticks": ""
             }
            },
            "type": "scatterternary"
           }
          ],
          "surface": [
           {
            "colorbar": {
             "outlinewidth": 0,
             "ticks": ""
            },
            "colorscale": [
             [
              0,
              "#0d0887"
             ],
             [
              0.1111111111111111,
              "#46039f"
             ],
             [
              0.2222222222222222,
              "#7201a8"
             ],
             [
              0.3333333333333333,
              "#9c179e"
             ],
             [
              0.4444444444444444,
              "#bd3786"
             ],
             [
              0.5555555555555556,
              "#d8576b"
             ],
             [
              0.6666666666666666,
              "#ed7953"
             ],
             [
              0.7777777777777778,
              "#fb9f3a"
             ],
             [
              0.8888888888888888,
              "#fdca26"
             ],
             [
              1,
              "#f0f921"
             ]
            ],
            "type": "surface"
           }
          ],
          "table": [
           {
            "cells": {
             "fill": {
              "color": "#EBF0F8"
             },
             "line": {
              "color": "white"
             }
            },
            "header": {
             "fill": {
              "color": "#C8D4E3"
             },
             "line": {
              "color": "white"
             }
            },
            "type": "table"
           }
          ]
         },
         "layout": {
          "annotationdefaults": {
           "arrowcolor": "#2a3f5f",
           "arrowhead": 0,
           "arrowwidth": 1
          },
          "autotypenumbers": "strict",
          "coloraxis": {
           "colorbar": {
            "outlinewidth": 0,
            "ticks": ""
           }
          },
          "colorscale": {
           "diverging": [
            [
             0,
             "#8e0152"
            ],
            [
             0.1,
             "#c51b7d"
            ],
            [
             0.2,
             "#de77ae"
            ],
            [
             0.3,
             "#f1b6da"
            ],
            [
             0.4,
             "#fde0ef"
            ],
            [
             0.5,
             "#f7f7f7"
            ],
            [
             0.6,
             "#e6f5d0"
            ],
            [
             0.7,
             "#b8e186"
            ],
            [
             0.8,
             "#7fbc41"
            ],
            [
             0.9,
             "#4d9221"
            ],
            [
             1,
             "#276419"
            ]
           ],
           "sequential": [
            [
             0,
             "#0d0887"
            ],
            [
             0.1111111111111111,
             "#46039f"
            ],
            [
             0.2222222222222222,
             "#7201a8"
            ],
            [
             0.3333333333333333,
             "#9c179e"
            ],
            [
             0.4444444444444444,
             "#bd3786"
            ],
            [
             0.5555555555555556,
             "#d8576b"
            ],
            [
             0.6666666666666666,
             "#ed7953"
            ],
            [
             0.7777777777777778,
             "#fb9f3a"
            ],
            [
             0.8888888888888888,
             "#fdca26"
            ],
            [
             1,
             "#f0f921"
            ]
           ],
           "sequentialminus": [
            [
             0,
             "#0d0887"
            ],
            [
             0.1111111111111111,
             "#46039f"
            ],
            [
             0.2222222222222222,
             "#7201a8"
            ],
            [
             0.3333333333333333,
             "#9c179e"
            ],
            [
             0.4444444444444444,
             "#bd3786"
            ],
            [
             0.5555555555555556,
             "#d8576b"
            ],
            [
             0.6666666666666666,
             "#ed7953"
            ],
            [
             0.7777777777777778,
             "#fb9f3a"
            ],
            [
             0.8888888888888888,
             "#fdca26"
            ],
            [
             1,
             "#f0f921"
            ]
           ]
          },
          "colorway": [
           "#636efa",
           "#EF553B",
           "#00cc96",
           "#ab63fa",
           "#FFA15A",
           "#19d3f3",
           "#FF6692",
           "#B6E880",
           "#FF97FF",
           "#FECB52"
          ],
          "font": {
           "color": "#2a3f5f"
          },
          "geo": {
           "bgcolor": "white",
           "lakecolor": "white",
           "landcolor": "#E5ECF6",
           "showlakes": true,
           "showland": true,
           "subunitcolor": "white"
          },
          "hoverlabel": {
           "align": "left"
          },
          "hovermode": "closest",
          "mapbox": {
           "style": "light"
          },
          "paper_bgcolor": "white",
          "plot_bgcolor": "#E5ECF6",
          "polar": {
           "angularaxis": {
            "gridcolor": "white",
            "linecolor": "white",
            "ticks": ""
           },
           "bgcolor": "#E5ECF6",
           "radialaxis": {
            "gridcolor": "white",
            "linecolor": "white",
            "ticks": ""
           }
          },
          "scene": {
           "xaxis": {
            "backgroundcolor": "#E5ECF6",
            "gridcolor": "white",
            "gridwidth": 2,
            "linecolor": "white",
            "showbackground": true,
            "ticks": "",
            "zerolinecolor": "white"
           },
           "yaxis": {
            "backgroundcolor": "#E5ECF6",
            "gridcolor": "white",
            "gridwidth": 2,
            "linecolor": "white",
            "showbackground": true,
            "ticks": "",
            "zerolinecolor": "white"
           },
           "zaxis": {
            "backgroundcolor": "#E5ECF6",
            "gridcolor": "white",
            "gridwidth": 2,
            "linecolor": "white",
            "showbackground": true,
            "ticks": "",
            "zerolinecolor": "white"
           }
          },
          "shapedefaults": {
           "line": {
            "color": "#2a3f5f"
           }
          },
          "ternary": {
           "aaxis": {
            "gridcolor": "white",
            "linecolor": "white",
            "ticks": ""
           },
           "baxis": {
            "gridcolor": "white",
            "linecolor": "white",
            "ticks": ""
           },
           "bgcolor": "#E5ECF6",
           "caxis": {
            "gridcolor": "white",
            "linecolor": "white",
            "ticks": ""
           }
          },
          "title": {
           "x": 0.05
          },
          "xaxis": {
           "automargin": true,
           "gridcolor": "white",
           "linecolor": "white",
           "ticks": "",
           "title": {
            "standoff": 15
           },
           "zerolinecolor": "white",
           "zerolinewidth": 2
          },
          "yaxis": {
           "automargin": true,
           "gridcolor": "white",
           "linecolor": "white",
           "ticks": "",
           "title": {
            "standoff": 15
           },
           "zerolinecolor": "white",
           "zerolinewidth": 2
          }
         }
        },
        "xaxis": {
         "anchor": "y",
         "autorange": true,
         "domain": [
          0,
          1
         ],
         "range": [
          -0.7327517842981762,
          12.732751784298177
         ],
         "title": {
          "text": "Date"
         },
         "type": "category"
        },
        "yaxis": {
         "anchor": "x",
         "autorange": true,
         "domain": [
          0,
          1
         ],
         "range": [
          -121.47206977915639,
          491.068029375116
         ],
         "title": {
          "text": "Growth_Rate_Percentage"
         },
         "type": "linear"
        }
       }
      },
      "image/png": "[encoded data removed]",
      "text/html": [
       "<div>                            <div id=\"6b19facb-da11-4747-a836-dd9b3b56c793\" class=\"plotly-graph-div\" style=\"height:525px; width:100%;\"></div>            <script type=\"text/javascript\">                require([\"plotly\"], function(Plotly) {                    window.PLOTLYENV=window.PLOTLYENV || {};                                    if (document.getElementById(\"6b19facb-da11-4747-a836-dd9b3b56c793\")) {                    Plotly.newPlot(                        \"6b19facb-da11-4747-a836-dd9b3b56c793\",                        [{\"hovertemplate\":\"Date=%{x}<br>Growth_Rate_Percentage=%{y}<extra></extra>\",\"legendgroup\":\"\",\"line\":{\"color\":\"#636efa\",\"dash\":\"solid\"},\"marker\":{\"symbol\":\"circle\"},\"mode\":\"lines+markers\",\"name\":\"\",\"orientation\":\"v\",\"showlegend\":false,\"x\":[\"2011\",\"2012\",\"2013\",\"2014\",\"2015\",\"2016\",\"2017\",\"2018\",\"2019\",\"2020\",\"2021\",\"2022\",\"2023\"],\"xaxis\":\"x\",\"y\":[null,0.0,450.0,-4.545454545454541,333.3333333333333,-69.23076923076923,78.57142857142858,41.99999999999999,222.53521126760566,-29.694323144104807,91.30434782608697,60.71428571428572,-80.4040404040404],\"yaxis\":\"y\",\"type\":\"scatter\"}],                        {\"template\":{\"data\":{\"bar\":[{\"error_x\":{\"color\":\"#2a3f5f\"},\"error_y\":{\"color\":\"#2a3f5f\"},\"marker\":{\"line\":{\"color\":\"#E5ECF6\",\"width\":0.5},\"pattern\":{\"fillmode\":\"overlay\",\"size\":10,\"solidity\":0.2}},\"type\":\"bar\"}],\"barpolar\":[{\"marker\":{\"line\":{\"color\":\"#E5ECF6\",\"width\":0.5},\"pattern\":{\"fillmode\":\"overlay\",\"size\":10,\"solidity\":0.2}},\"type\":\"barpolar\"}],\"carpet\":[{\"aaxis\":{\"endlinecolor\":\"#2a3f5f\",\"gridcolor\":\"white\",\"linecolor\":\"white\",\"minorgridcolor\":\"white\",\"startlinecolor\":\"#2a3f5f\"},\"baxis\":{\"endlinecolor\":\"#2a3f5f\",\"gridcolor\":\"white\",\"linecolor\":\"white\",\"minorgridcolor\":\"white\",\"startlinecolor\":\"#2a3f5f\"},\"type\":\"carpet\"}],\"choropleth\":[{\"colorbar\":{\"outlinewidth\":0,\"ticks\":\"\"},\"type\":\"choropleth\"}],\"contour\":[{\"colorbar\":{\"outlinewidth\":0,\"ticks\":\"\"},\"colorscale\":[[0.0,\"#0d0887\"],[0.1111111111111111,\"#46039f\"],[0.2222222222222222,\"#7201a8\"],[0.3333333333333333,\"#9c179e\"],[0.4444444444444444,\"#bd3786\"],[0.5555555555555556,\"#d8576b\"],[0.6666666666666666,\"#ed7953\"],[0.7777777777777778,\"#fb9f3a\"],[0.8888888888888888,\"#fdca26\"],[1.0,\"#f0f921\"]],\"type\":\"contour\"}],\"contourcarpet\":[{\"colorbar\":{\"outlinewidth\":0,\"ticks\":\"\"},\"type\":\"contourcarpet\"}],\"heatmap\":[{\"colorbar\":{\"outlinewidth\":0,\"ticks\":\"\"},\"colorscale\":[[0.0,\"#0d0887\"],[0.1111111111111111,\"#46039f\"],[0.2222222222222222,\"#7201a8\"],[0.3333333333333333,\"#9c179e\"],[0.4444444444444444,\"#bd3786\"],[0.5555555555555556,\"#d8576b\"],[0.6666666666666666,\"#ed7953\"],[0.7777777777777778,\"#fb9f3a\"],[0.8888888888888888,\"#fdca26\"],[1.0,\"#f0f921\"]],\"type\":\"heatmap\"}],\"heatmapgl\":[{\"colorbar\":{\"outlinewidth\":0,\"ticks\":\"\"},\"colorscale\":[[0.0,\"#0d0887\"],[0.1111111111111111,\"#46039f\"],[0.2222222222222222,\"#7201a8\"],[0.3333333333333333,\"#9c179e\"],[0.4444444444444444,\"#bd3786\"],[0.5555555555555556,\"#d8576b\"],[0.6666666666666666,\"#ed7953\"],[0.7777777777777778,\"#fb9f3a\"],[0.8888888888888888,\"#fdca26\"],[1.0,\"#f0f921\"]],\"type\":\"heatmapgl\"}],\"histogram\":[{\"marker\":{\"pattern\":{\"fillmode\":\"overlay\",\"size\":10,\"solidity\":0.2}},\"type\":\"histogram\"}],\"histogram2d\":[{\"colorbar\":{\"outlinewidth\":0,\"ticks\":\"\"},\"colorscale\":[[0.0,\"#0d0887\"],[0.1111111111111111,\"#46039f\"],[0.2222222222222222,\"#7201a8\"],[0.3333333333333333,\"#9c179e\"],[0.4444444444444444,\"#bd3786\"],[0.5555555555555556,\"#d8576b\"],[0.6666666666666666,\"#ed7953\"],[0.7777777777777778,\"#fb9f3a\"],[0.8888888888888888,\"#fdca26\"],[1.0,\"#f0f921\"]],\"type\":\"histogram2d\"}],\"histogram2dcontour\":[{\"colorbar\":{\"outlinewidth\":0,\"ticks\":\"\"},\"colorscale\":[[0.0,\"#0d0887\"],[0.1111111111111111,\"#46039f\"],[0.2222222222222222,\"#7201a8\"],[0.3333333333333333,\"#9c179e\"],[0.4444444444444444,\"#bd3786\"],[0.5555555555555556,\"#d8576b\"],[0.6666666666666666,\"#ed7953\"],[0.7777777777777778,\"#fb9f3a\"],[0.8888888888888888,\"#fdca26\"],[1.0,\"#f0f921\"]],\"type\":\"histogram2dcontour\"}],\"mesh3d\":[{\"colorbar\":{\"outlinewidth\":0,\"ticks\":\"\"},\"type\":\"mesh3d\"}],\"parcoords\":[{\"line\":{\"colorbar\":{\"outlinewidth\":0,\"ticks\":\"\"}},\"type\":\"parcoords\"}],\"pie\":[{\"automargin\":true,\"type\":\"pie\"}],\"scatter\":[{\"marker\":{\"colorbar\":{\"outlinewidth\":0,\"ticks\":\"\"}},\"type\":\"scatter\"}],\"scatter3d\":[{\"line\":{\"colorbar\":{\"outlinewidth\":0,\"ticks\":\"\"}},\"marker\":{\"colorbar\":{\"outlinewidth\":0,\"ticks\":\"\"}},\"type\":\"scatter3d\"}],\"scattercarpet\":[{\"marker\":{\"colorbar\":{\"outlinewidth\":0,\"ticks\":\"\"}},\"type\":\"scattercarpet\"}],\"scattergeo\":[{\"marker\":{\"colorbar\":{\"outlinewidth\":0,\"ticks\":\"\"}},\"type\":\"scattergeo\"}],\"scattergl\":[{\"marker\":{\"colorbar\":{\"outlinewidth\":0,\"ticks\":\"\"}},\"type\":\"scattergl\"}],\"scattermapbox\":[{\"marker\":{\"colorbar\":{\"outlinewidth\":0,\"ticks\":\"\"}},\"type\":\"scattermapbox\"}],\"scatterpolar\":[{\"marker\":{\"colorbar\":{\"outlinewidth\":0,\"ticks\":\"\"}},\"type\":\"scatterpolar\"}],\"scatterpolargl\":[{\"marker\":{\"colorbar\":{\"outlinewidth\":0,\"ticks\":\"\"}},\"type\":\"scatterpolargl\"}],\"scatterternary\":[{\"marker\":{\"colorbar\":{\"outlinewidth\":0,\"ticks\":\"\"}},\"type\":\"scatterternary\"}],\"surface\":[{\"colorbar\":{\"outlinewidth\":0,\"ticks\":\"\"},\"colorscale\":[[0.0,\"#0d0887\"],[0.1111111111111111,\"#46039f\"],[0.2222222222222222,\"#7201a8\"],[0.3333333333333333,\"#9c179e\"],[0.4444444444444444,\"#bd3786\"],[0.5555555555555556,\"#d8576b\"],[0.6666666666666666,\"#ed7953\"],[0.7777777777777778,\"#fb9f3a\"],[0.8888888888888888,\"#fdca26\"],[1.0,\"#f0f921\"]],\"type\":\"surface\"}],\"table\":[{\"cells\":{\"fill\":{\"color\":\"#EBF0F8\"},\"line\":{\"color\":\"white\"}},\"header\":{\"fill\":{\"color\":\"#C8D4E3\"},\"line\":{\"color\":\"white\"}},\"type\":\"table\"}]},\"layout\":{\"annotationdefaults\":{\"arrowcolor\":\"#2a3f5f\",\"arrowhead\":0,\"arrowwidth\":1},\"autotypenumbers\":\"strict\",\"coloraxis\":{\"colorbar\":{\"outlinewidth\":0,\"ticks\":\"\"}},\"colorscale\":{\"diverging\":[[0,\"#8e0152\"],[0.1,\"#c51b7d\"],[0.2,\"#de77ae\"],[0.3,\"#f1b6da\"],[0.4,\"#fde0ef\"],[0.5,\"#f7f7f7\"],[0.6,\"#e6f5d0\"],[0.7,\"#b8e186\"],[0.8,\"#7fbc41\"],[0.9,\"#4d9221\"],[1,\"#276419\"]],\"sequential\":[[0.0,\"#0d0887\"],[0.1111111111111111,\"#46039f\"],[0.2222222222222222,\"#7201a8\"],[0.3333333333333333,\"#9c179e\"],[0.4444444444444444,\"#bd3786\"],[0.5555555555555556,\"#d8576b\"],[0.6666666666666666,\"#ed7953\"],[0.7777777777777778,\"#fb9f3a\"],[0.8888888888888888,\"#fdca26\"],[1.0,\"#f0f921\"]],\"sequentialminus\":[[0.0,\"#0d0887\"],[0.1111111111111111,\"#46039f\"],[0.2222222222222222,\"#7201a8\"],[0.3333333333333333,\"#9c179e\"],[0.4444444444444444,\"#bd3786\"],[0.5555555555555556,\"#d8576b\"],[0.6666666666666666,\"#ed7953\"],[0.7777777777777778,\"#fb9f3a\"],[0.8888888888888888,\"#fdca26\"],[1.0,\"#f0f921\"]]},\"colorway\":[\"#636efa\",\"#EF553B\",\"#00cc96\",\"#ab63fa\",\"#FFA15A\",\"#19d3f3\",\"#FF6692\",\"#B6E880\",\"#FF97FF\",\"#FECB52\"],\"font\":{\"color\":\"#2a3f5f\"},\"geo\":{\"bgcolor\":\"white\",\"lakecolor\":\"white\",\"landcolor\":\"#E5ECF6\",\"showlakes\":true,\"showland\":true,\"subunitcolor\":\"white\"},\"hoverlabel\":{\"align\":\"left\"},\"hovermode\":\"closest\",\"mapbox\":{\"style\":\"light\"},\"paper_bgcolor\":\"white\",\"plot_bgcolor\":\"#E5ECF6\",\"polar\":{\"angularaxis\":{\"gridcolor\":\"white\",\"linecolor\":\"white\",\"ticks\":\"\"},\"bgcolor\":\"#E5ECF6\",\"radialaxis\":{\"gridcolor\":\"white\",\"linecolor\":\"white\",\"ticks\":\"\"}},\"scene\":{\"xaxis\":{\"backgroundcolor\":\"#E5ECF6\",\"gridcolor\":\"white\",\"gridwidth\":2,\"linecolor\":\"white\",\"showbackground\":true,\"ticks\":\"\",\"zerolinecolor\":\"white\"},\"yaxis\":{\"backgroundcolor\":\"#E5ECF6\",\"gridcolor\":\"white\",\"gridwidth\":2,\"linecolor\":\"white\",\"showbackground\":true,\"ticks\":\"\",\"zerolinecolor\":\"white\"},\"zaxis\":{\"backgroundcolor\":\"#E5ECF6\",\"gridcolor\":\"white\",\"gridwidth\":2,\"linecolor\":\"white\",\"showbackground\":true,\"ticks\":\"\",\"zerolinecolor\":\"white\"}},\"shapedefaults\":{\"line\":{\"color\":\"#2a3f5f\"}},\"ternary\":{\"aaxis\":{\"gridcolor\":\"white\",\"linecolor\":\"white\",\"ticks\":\"\"},\"baxis\":{\"gridcolor\":\"white\",\"linecolor\":\"white\",\"ticks\":\"\"},\"bgcolor\":\"#E5ECF6\",\"caxis\":{\"gridcolor\":\"white\",\"linecolor\":\"white\",\"ticks\":\"\"}},\"title\":{\"x\":0.05},\"xaxis\":{\"automargin\":true,\"gridcolor\":\"white\",\"linecolor\":\"white\",\"ticks\":\"\",\"title\":{\"standoff\":15},\"zerolinecolor\":\"white\",\"zerolinewidth\":2},\"yaxis\":{\"automargin\":true,\"gridcolor\":\"white\",\"linecolor\":\"white\",\"ticks\":\"\",\"title\":{\"standoff\":15},\"zerolinecolor\":\"white\",\"zerolinewidth\":2}}},\"xaxis\":{\"anchor\":\"y\",\"domain\":[0.0,1.0],\"title\":{\"text\":\"Date\"}},\"yaxis\":{\"anchor\":\"x\",\"domain\":[0.0,1.0],\"title\":{\"text\":\"Growth_Rate_Percentage\"}},\"legend\":{\"tracegroupgap\":0},\"margin\":{\"t\":60}},                        {\"responsive\": true}                    ).then(function(){\n",
       "                            \n",
       "var gd = document.getElementById('6b19facb-da11-4747-a836-dd9b3b56c793');\n",
       "var x = new MutationObserver(function (mutations, observer) {{\n",
       "        var display = window.getComputedStyle(gd).display;\n",
       "        if (!display || display === 'none') {{\n",
       "            console.log([gd, 'removed!']);\n",
       "            Plotly.purge(gd);\n",
       "            observer.disconnect();\n",
       "        }}\n",
       "}});\n",
       "\n",
       "// Listen for the removal of the full notebook cells\n",
       "var notebookContainer = gd.closest('#notebook-container');\n",
       "if (notebookContainer) {{\n",
       "    x.observe(notebookContainer, {childList: true});\n",
       "}}\n",
       "\n",
       "// Listen for the clearing of the current output cell\n",
       "var outputEl = gd.closest('.output');\n",
       "if (outputEl) {{\n",
       "    x.observe(outputEl, {childList: true});\n",
       "}}\n",
       "\n",
       "                        })                };                });            </script>        </div>"
      ]
     },
     "metadata": {},
     "output_type": "display_data"
    }
   ],
   "source": [
    "fig = px.line(group_df, x=group_df.index, y='Growth_Rate_Percentage',markers=True)\n",
    "fig.show()"
   ]
  },
  {
   "cell_type": "markdown",
   "id": "2fa3d29e-b9a1-4786-b444-cd07c78eaee2",
   "metadata": {
    "tags": []
   },
   "source": [
    "### This graph along with the previous dataset shows the growth rate of EV's being opened over the last decade in BC. From here we can see that the years of 2013 (450%), 2015 (333%), 2019 (222%) and 2021 (91%) saw some of the highest jumps in the number of EV stations being opened. It is also important to note that the current growth rate for 2023 is deceiving as the year is incomplete. \n",
    "\n",
    "### To complete my analysis of the growth in BC's EV charging station network, I will end with a simple Linear Regression to forecast the 2023 year using the previous dataset."
   ]
  },
  {
   "cell_type": "code",
   "execution_count": 188,
   "id": "8995e997-9544-4789-a35f-9099a6e94336",
   "metadata": {},
   "outputs": [
    {
     "data": {
      "text/html": [
       "<div>\n",
       "<style scoped>\n",
       "    .dataframe tbody tr th:only-of-type {\n",
       "        vertical-align: middle;\n",
       "    }\n",
       "\n",
       "    .dataframe tbody tr th {\n",
       "        vertical-align: top;\n",
       "    }\n",
       "\n",
       "    .dataframe thead th {\n",
       "        text-align: right;\n",
       "    }\n",
       "</style>\n",
       "<table border=\"1\" class=\"dataframe\">\n",
       "  <thead>\n",
       "    <tr style=\"text-align: right;\">\n",
       "      <th></th>\n",
       "      <th>index</th>\n",
       "      <th>Date</th>\n",
       "      <th>Count</th>\n",
       "      <th>Growth_Rate_Percentage</th>\n",
       "    </tr>\n",
       "  </thead>\n",
       "  <tbody>\n",
       "    <tr>\n",
       "      <th>0</th>\n",
       "      <td>0</td>\n",
       "      <td>2011</td>\n",
       "      <td>4</td>\n",
       "      <td>NaN</td>\n",
       "    </tr>\n",
       "    <tr>\n",
       "      <th>1</th>\n",
       "      <td>1</td>\n",
       "      <td>2012</td>\n",
       "      <td>4</td>\n",
       "      <td>0.000000</td>\n",
       "    </tr>\n",
       "    <tr>\n",
       "      <th>2</th>\n",
       "      <td>2</td>\n",
       "      <td>2013</td>\n",
       "      <td>22</td>\n",
       "      <td>450.000000</td>\n",
       "    </tr>\n",
       "    <tr>\n",
       "      <th>3</th>\n",
       "      <td>3</td>\n",
       "      <td>2014</td>\n",
       "      <td>21</td>\n",
       "      <td>-4.545455</td>\n",
       "    </tr>\n",
       "    <tr>\n",
       "      <th>4</th>\n",
       "      <td>4</td>\n",
       "      <td>2015</td>\n",
       "      <td>91</td>\n",
       "      <td>333.333333</td>\n",
       "    </tr>\n",
       "    <tr>\n",
       "      <th>5</th>\n",
       "      <td>5</td>\n",
       "      <td>2016</td>\n",
       "      <td>28</td>\n",
       "      <td>-69.230769</td>\n",
       "    </tr>\n",
       "    <tr>\n",
       "      <th>6</th>\n",
       "      <td>6</td>\n",
       "      <td>2017</td>\n",
       "      <td>50</td>\n",
       "      <td>78.571429</td>\n",
       "    </tr>\n",
       "    <tr>\n",
       "      <th>7</th>\n",
       "      <td>7</td>\n",
       "      <td>2018</td>\n",
       "      <td>71</td>\n",
       "      <td>42.000000</td>\n",
       "    </tr>\n",
       "    <tr>\n",
       "      <th>8</th>\n",
       "      <td>8</td>\n",
       "      <td>2019</td>\n",
       "      <td>229</td>\n",
       "      <td>222.535211</td>\n",
       "    </tr>\n",
       "    <tr>\n",
       "      <th>9</th>\n",
       "      <td>9</td>\n",
       "      <td>2020</td>\n",
       "      <td>161</td>\n",
       "      <td>-29.694323</td>\n",
       "    </tr>\n",
       "    <tr>\n",
       "      <th>10</th>\n",
       "      <td>10</td>\n",
       "      <td>2021</td>\n",
       "      <td>308</td>\n",
       "      <td>91.304348</td>\n",
       "    </tr>\n",
       "    <tr>\n",
       "      <th>11</th>\n",
       "      <td>11</td>\n",
       "      <td>2022</td>\n",
       "      <td>495</td>\n",
       "      <td>60.714286</td>\n",
       "    </tr>\n",
       "    <tr>\n",
       "      <th>12</th>\n",
       "      <td>12</td>\n",
       "      <td>2023</td>\n",
       "      <td>97</td>\n",
       "      <td>-80.404040</td>\n",
       "    </tr>\n",
       "  </tbody>\n",
       "</table>\n",
       "</div>"
      ],
      "text/plain": [
       "    index  Date  Count  Growth_Rate_Percentage\n",
       "0       0  2011      4                     NaN\n",
       "1       1  2012      4                0.000000\n",
       "2       2  2013     22              450.000000\n",
       "3       3  2014     21               -4.545455\n",
       "4       4  2015     91              333.333333\n",
       "5       5  2016     28              -69.230769\n",
       "6       6  2017     50               78.571429\n",
       "7       7  2018     71               42.000000\n",
       "8       8  2019    229              222.535211\n",
       "9       9  2020    161              -29.694323\n",
       "10     10  2021    308               91.304348\n",
       "11     11  2022    495               60.714286\n",
       "12     12  2023     97              -80.404040"
      ]
     },
     "execution_count": 188,
     "metadata": {},
     "output_type": "execute_result"
    }
   ],
   "source": [
    "group_df = group_df.reset_index()\n",
    "group_df['Date'] = group_df['Date'].astype(int)\n",
    "group_df"
   ]
  },
  {
   "cell_type": "code",
   "execution_count": 189,
   "id": "ee4292e8-8a2c-4b0c-9425-feb8a2f62b69",
   "metadata": {},
   "outputs": [],
   "source": [
    "# Initialise and fit linear regression model using `statsmodels`\n",
    "model = smf.ols('Count ~ Date', data=group_df[0:12])\n",
    "model = model.fit()"
   ]
  },
  {
   "cell_type": "code",
   "execution_count": 190,
   "id": "f3ff794d-f917-4671-a4b5-a8a2ecb85d0b",
   "metadata": {},
   "outputs": [
    {
     "data": {
      "image/png": "[encoded data removed]",
      "text/plain": [
       "<Figure size 864x432 with 1 Axes>"
      ]
     },
     "metadata": {
      "image/png": {
       "height": 386,
       "width": 723
      },
      "needs_background": "light"
     },
     "output_type": "display_data"
    }
   ],
   "source": [
    "# Predict values\n",
    "pred = model.predict()\n",
    "\n",
    "plt.figure(figsize=(12, 6))\n",
    "plt.plot(group_df['Date'][0:12], group_df['Count'][0:12], 'o')           \n",
    "plt.plot(group_df['Date'][0:12], pred, 'r', linewidth=2)   \n",
    "plt.xlabel('Year')\n",
    "plt.ylabel('Count')\n",
    "plt.title('Count of EV in BC by Year')\n",
    "\n",
    "plt.show()"
   ]
  },
  {
   "cell_type": "code",
   "execution_count": 191,
   "id": "0a5945fd-cd3b-4f33-bfce-7ec206af96f7",
   "metadata": {},
   "outputs": [
    {
     "data": {
      "text/plain": [
       "0    353.484848\n",
       "dtype: float64"
      ]
     },
     "execution_count": 191,
     "metadata": {},
     "output_type": "execute_result"
    }
   ],
   "source": [
    "new_X = 2023\n",
    "model.predict({\"Date\": new_X})"
   ]
  },
  {
   "cell_type": "markdown",
   "id": "ed7d57b4-cedf-493b-be90-1fc427a65db9",
   "metadata": {},
   "source": [
    "### Using simple Linear Regression, we can forecast that 354 EV charging stations should be added to BC EV charging station network"
   ]
  },
  {
   "cell_type": "markdown",
   "id": "7ac6d911-51b9-42c3-9764-b59ca8189edf",
   "metadata": {
    "tags": []
   },
   "source": []
  },
  {
   "cell_type": "markdown",
   "id": "bad9f171-a3cc-4c1d-9d2c-c6e4d82ac044",
   "metadata": {},
   "source": [
    "## EV Charger Types"
   ]
  },
  {
   "cell_type": "code",
   "execution_count": 138,
   "id": "005a9c71-0912-46c7-8d08-becfeb47a796",
   "metadata": {},
   "outputs": [],
   "source": [
    "# To examine charger types, I first begin with value counts, examining null and non null values in the columns of \n",
    "# EV Level 1 EVSE Num, Level 2 and Fast Chargers."
   ]
  },
  {
   "cell_type": "code",
   "execution_count": 139,
   "id": "9c68d1aa-7aae-4a33-a90b-e8b09ec966f0",
   "metadata": {},
   "outputs": [
    {
     "data": {
      "text/plain": [
       "NaN    1777\n",
       "1.0       1\n",
       "2.0       1\n",
       "Name: EV Level1 EVSE Num, dtype: int64"
      ]
     },
     "execution_count": 139,
     "metadata": {},
     "output_type": "execute_result"
    }
   ],
   "source": [
    "df['EV Level1 EVSE Num'].value_counts(dropna=False)"
   ]
  },
  {
   "cell_type": "code",
   "execution_count": 140,
   "id": "9b9a4715-cf25-4e9b-b84f-8bc673bc0ccd",
   "metadata": {},
   "outputs": [
    {
     "data": {
      "text/plain": [
       "2.0     896\n",
       "NaN     366\n",
       "1.0     271\n",
       "4.0      89\n",
       "3.0      48\n",
       "6.0      37\n",
       "5.0      17\n",
       "10.0     12\n",
       "8.0      11\n",
       "7.0       9\n",
       "12.0      6\n",
       "14.0      3\n",
       "16.0      2\n",
       "11.0      2\n",
       "9.0       2\n",
       "20.0      2\n",
       "18.0      1\n",
       "60.0      1\n",
       "28.0      1\n",
       "30.0      1\n",
       "13.0      1\n",
       "33.0      1\n",
       "Name: EV Level2 EVSE Num, dtype: int64"
      ]
     },
     "execution_count": 140,
     "metadata": {},
     "output_type": "execute_result"
    }
   ],
   "source": [
    "df['EV Level2 EVSE Num'].value_counts(dropna=False)"
   ]
  },
  {
   "cell_type": "code",
   "execution_count": 141,
   "id": "1a63bbf9-f93f-49ce-9594-eea9ee06a252",
   "metadata": {},
   "outputs": [
    {
     "data": {
      "text/plain": [
       "NaN     1376\n",
       "2.0      179\n",
       "1.0      146\n",
       "4.0       22\n",
       "8.0       20\n",
       "12.0      12\n",
       "3.0        7\n",
       "6.0        6\n",
       "10.0       3\n",
       "20.0       2\n",
       "16.0       2\n",
       "5.0        2\n",
       "22.0       1\n",
       "24.0       1\n",
       "Name: EV DC Fast Count, dtype: int64"
      ]
     },
     "execution_count": 141,
     "metadata": {},
     "output_type": "execute_result"
    }
   ],
   "source": [
    "df['EV DC Fast Count'].value_counts(dropna=False)"
   ]
  },
  {
   "cell_type": "code",
   "execution_count": 142,
   "id": "4f55a509-2754-4872-a3a4-bb001ed01f1b",
   "metadata": {},
   "outputs": [
    {
     "data": {
      "text/plain": [
       "366"
      ]
     },
     "execution_count": 142,
     "metadata": {},
     "output_type": "execute_result"
    }
   ],
   "source": [
    "df['EV Level2 EVSE Num'].isnull().sum()"
   ]
  },
  {
   "cell_type": "code",
   "execution_count": 143,
   "id": "027e01b9-9c6f-4aa0-94a3-0b53160c0b5a",
   "metadata": {},
   "outputs": [
    {
     "data": {
      "text/html": [
       "<div>\n",
       "<style scoped>\n",
       "    .dataframe tbody tr th:only-of-type {\n",
       "        vertical-align: middle;\n",
       "    }\n",
       "\n",
       "    .dataframe tbody tr th {\n",
       "        vertical-align: top;\n",
       "    }\n",
       "\n",
       "    .dataframe thead th {\n",
       "        text-align: right;\n",
       "    }\n",
       "</style>\n",
       "<table border=\"1\" class=\"dataframe\">\n",
       "  <thead>\n",
       "    <tr style=\"text-align: right;\">\n",
       "      <th></th>\n",
       "      <th>Station Name</th>\n",
       "      <th>Street Address</th>\n",
       "      <th>Intersection Directions</th>\n",
       "      <th>City</th>\n",
       "      <th>ZIP</th>\n",
       "      <th>Station Phone</th>\n",
       "      <th>Status Code</th>\n",
       "      <th>Expected Date</th>\n",
       "      <th>Groups With Access Code</th>\n",
       "      <th>Access Days Time</th>\n",
       "      <th>Cards Accepted</th>\n",
       "      <th>EV Level1 EVSE Num</th>\n",
       "      <th>EV Level2 EVSE Num</th>\n",
       "      <th>EV DC Fast Count</th>\n",
       "      <th>EV Network</th>\n",
       "      <th>EV Network Web</th>\n",
       "      <th>Geocode Status</th>\n",
       "      <th>Latitude</th>\n",
       "      <th>Longitude</th>\n",
       "      <th>Date Last Confirmed</th>\n",
       "      <th>ID</th>\n",
       "      <th>Updated At</th>\n",
       "      <th>Owner Type Code</th>\n",
       "      <th>Open Date</th>\n",
       "      <th>EV Connector Types</th>\n",
       "      <th>Access Detail Code</th>\n",
       "      <th>Facility Type</th>\n",
       "      <th>EV Pricing</th>\n",
       "      <th>EV On-Site Renewable Source</th>\n",
       "      <th>Restricted Access</th>\n",
       "      <th>Year</th>\n",
       "      <th>Month</th>\n",
       "      <th>Day</th>\n",
       "      <th>Open-Date</th>\n",
       "    </tr>\n",
       "  </thead>\n",
       "  <tbody>\n",
       "    <tr>\n",
       "      <th>23</th>\n",
       "      <td>Kelowna Infiniti Nissan</td>\n",
       "      <td>2741 Highway 97 N</td>\n",
       "      <td>NaN</td>\n",
       "      <td>Kelowna</td>\n",
       "      <td>V1X 4J8</td>\n",
       "      <td>250-712-0404</td>\n",
       "      <td>E</td>\n",
       "      <td>NaN</td>\n",
       "      <td>Public - Call ahead</td>\n",
       "      <td>Dealership business hours; for client use only...</td>\n",
       "      <td>NaN</td>\n",
       "      <td>1.0</td>\n",
       "      <td>1.0</td>\n",
       "      <td>NaN</td>\n",
       "      <td>Non-Networked</td>\n",
       "      <td>NaN</td>\n",
       "      <td>200-9</td>\n",
       "      <td>49.889576</td>\n",
       "      <td>-119.428027</td>\n",
       "      <td>2022-07-08</td>\n",
       "      <td>84182</td>\n",
       "      <td>2022-07-08 16:02:07 UTC</td>\n",
       "      <td>P</td>\n",
       "      <td>2013-03-15</td>\n",
       "      <td>J1772 NEMA520</td>\n",
       "      <td>CALL</td>\n",
       "      <td>CAR_DEALER</td>\n",
       "      <td>Free</td>\n",
       "      <td>NaN</td>\n",
       "      <td>True</td>\n",
       "      <td>2013</td>\n",
       "      <td>03</td>\n",
       "      <td>15</td>\n",
       "      <td>2013-03</td>\n",
       "    </tr>\n",
       "    <tr>\n",
       "      <th>77</th>\n",
       "      <td>British Columbia Institute of Technology - Par...</td>\n",
       "      <td>4475 Wayburn Ave</td>\n",
       "      <td>NaN</td>\n",
       "      <td>Burnaby</td>\n",
       "      <td>V5G 4X4</td>\n",
       "      <td>604-434-5734</td>\n",
       "      <td>E</td>\n",
       "      <td>NaN</td>\n",
       "      <td>Public</td>\n",
       "      <td>24 hours daily; Drivers must bring their own J...</td>\n",
       "      <td>NaN</td>\n",
       "      <td>2.0</td>\n",
       "      <td>6.0</td>\n",
       "      <td>2.0</td>\n",
       "      <td>Non-Networked</td>\n",
       "      <td>NaN</td>\n",
       "      <td>GPS</td>\n",
       "      <td>49.249413</td>\n",
       "      <td>-122.999107</td>\n",
       "      <td>2019-10-10</td>\n",
       "      <td>84744</td>\n",
       "      <td>2022-02-10 21:00:18 UTC</td>\n",
       "      <td>P</td>\n",
       "      <td>2014-03-01</td>\n",
       "      <td>CHADEMO J1772 NEMA520</td>\n",
       "      <td>NaN</td>\n",
       "      <td>COLLEGE_CAMPUS</td>\n",
       "      <td>Free</td>\n",
       "      <td>SOLAR</td>\n",
       "      <td>False</td>\n",
       "      <td>2014</td>\n",
       "      <td>03</td>\n",
       "      <td>01</td>\n",
       "      <td>2014-03</td>\n",
       "    </tr>\n",
       "  </tbody>\n",
       "</table>\n",
       "</div>"
      ],
      "text/plain": [
       "                                         Station Name     Street Address  \\\n",
       "23                            Kelowna Infiniti Nissan  2741 Highway 97 N   \n",
       "77  British Columbia Institute of Technology - Par...   4475 Wayburn Ave   \n",
       "\n",
       "   Intersection Directions     City      ZIP Station Phone Status Code  \\\n",
       "23                     NaN  Kelowna  V1X 4J8  250-712-0404           E   \n",
       "77                     NaN  Burnaby  V5G 4X4  604-434-5734           E   \n",
       "\n",
       "   Expected Date Groups With Access Code  \\\n",
       "23           NaN     Public - Call ahead   \n",
       "77           NaN                  Public   \n",
       "\n",
       "                                     Access Days Time Cards Accepted  \\\n",
       "23  Dealership business hours; for client use only...            NaN   \n",
       "77  24 hours daily; Drivers must bring their own J...            NaN   \n",
       "\n",
       "    EV Level1 EVSE Num  EV Level2 EVSE Num  EV DC Fast Count     EV Network  \\\n",
       "23                 1.0                 1.0               NaN  Non-Networked   \n",
       "77                 2.0                 6.0               2.0  Non-Networked   \n",
       "\n",
       "   EV Network Web Geocode Status   Latitude   Longitude Date Last Confirmed  \\\n",
       "23            NaN          200-9  49.889576 -119.428027          2022-07-08   \n",
       "77            NaN            GPS  49.249413 -122.999107          2019-10-10   \n",
       "\n",
       "       ID               Updated At Owner Type Code   Open Date  \\\n",
       "23  84182  2022-07-08 16:02:07 UTC               P  2013-03-15   \n",
       "77  84744  2022-02-10 21:00:18 UTC               P  2014-03-01   \n",
       "\n",
       "       EV Connector Types Access Detail Code   Facility Type EV Pricing  \\\n",
       "23          J1772 NEMA520               CALL      CAR_DEALER       Free   \n",
       "77  CHADEMO J1772 NEMA520                NaN  COLLEGE_CAMPUS       Free   \n",
       "\n",
       "   EV On-Site Renewable Source Restricted Access  Year Month Day Open-Date  \n",
       "23                         NaN              True  2013    03  15   2013-03  \n",
       "77                       SOLAR             False  2014    03  01   2014-03  "
      ]
     },
     "execution_count": 143,
     "metadata": {},
     "output_type": "execute_result"
    }
   ],
   "source": [
    "check = df.loc[df['EV Level1 EVSE Num'].notnull()]\n",
    "check"
   ]
  },
  {
   "cell_type": "markdown",
   "id": "d1af435b-87cc-4690-bcde-5ca9e5014599",
   "metadata": {},
   "source": [
    "### Here is where I discovered that some chargers can support more than one level type of charging. Indeed adding up the non-null value counts in the levels and fast EV charger columns comes to a value of 1818, 19 rows larger than the original dataset of 1779. So to examine if there are more or less charger types, we would have to examine chargers that exclusivly support a specific level type and which chargers are hybirds that support more than one."
   ]
  },
  {
   "cell_type": "code",
   "execution_count": 144,
   "id": "b74ce72c-3ed9-4827-b9a0-61b06227a421",
   "metadata": {},
   "outputs": [
    {
     "data": {
      "text/html": [
       "<div>\n",
       "<style scoped>\n",
       "    .dataframe tbody tr th:only-of-type {\n",
       "        vertical-align: middle;\n",
       "    }\n",
       "\n",
       "    .dataframe tbody tr th {\n",
       "        vertical-align: top;\n",
       "    }\n",
       "\n",
       "    .dataframe thead th {\n",
       "        text-align: right;\n",
       "    }\n",
       "</style>\n",
       "<table border=\"1\" class=\"dataframe\">\n",
       "  <thead>\n",
       "    <tr style=\"text-align: right;\">\n",
       "      <th></th>\n",
       "      <th>EV Level1 EVSE Num</th>\n",
       "      <th>EV Level2 EVSE Num</th>\n",
       "      <th>EV DC Fast Count</th>\n",
       "    </tr>\n",
       "  </thead>\n",
       "  <tbody>\n",
       "    <tr>\n",
       "      <th>0</th>\n",
       "      <td>NaN</td>\n",
       "      <td>2.0</td>\n",
       "      <td>NaN</td>\n",
       "    </tr>\n",
       "    <tr>\n",
       "      <th>1</th>\n",
       "      <td>NaN</td>\n",
       "      <td>1.0</td>\n",
       "      <td>NaN</td>\n",
       "    </tr>\n",
       "    <tr>\n",
       "      <th>2</th>\n",
       "      <td>NaN</td>\n",
       "      <td>1.0</td>\n",
       "      <td>NaN</td>\n",
       "    </tr>\n",
       "    <tr>\n",
       "      <th>3</th>\n",
       "      <td>NaN</td>\n",
       "      <td>2.0</td>\n",
       "      <td>NaN</td>\n",
       "    </tr>\n",
       "    <tr>\n",
       "      <th>4</th>\n",
       "      <td>NaN</td>\n",
       "      <td>1.0</td>\n",
       "      <td>NaN</td>\n",
       "    </tr>\n",
       "    <tr>\n",
       "      <th>...</th>\n",
       "      <td>...</td>\n",
       "      <td>...</td>\n",
       "      <td>...</td>\n",
       "    </tr>\n",
       "    <tr>\n",
       "      <th>1774</th>\n",
       "      <td>NaN</td>\n",
       "      <td>NaN</td>\n",
       "      <td>2.0</td>\n",
       "    </tr>\n",
       "    <tr>\n",
       "      <th>1775</th>\n",
       "      <td>NaN</td>\n",
       "      <td>NaN</td>\n",
       "      <td>1.0</td>\n",
       "    </tr>\n",
       "    <tr>\n",
       "      <th>1776</th>\n",
       "      <td>NaN</td>\n",
       "      <td>NaN</td>\n",
       "      <td>2.0</td>\n",
       "    </tr>\n",
       "    <tr>\n",
       "      <th>1777</th>\n",
       "      <td>NaN</td>\n",
       "      <td>NaN</td>\n",
       "      <td>2.0</td>\n",
       "    </tr>\n",
       "    <tr>\n",
       "      <th>1778</th>\n",
       "      <td>NaN</td>\n",
       "      <td>2.0</td>\n",
       "      <td>NaN</td>\n",
       "    </tr>\n",
       "  </tbody>\n",
       "</table>\n",
       "<p>1779 rows × 3 columns</p>\n",
       "</div>"
      ],
      "text/plain": [
       "      EV Level1 EVSE Num  EV Level2 EVSE Num  EV DC Fast Count\n",
       "0                    NaN                 2.0               NaN\n",
       "1                    NaN                 1.0               NaN\n",
       "2                    NaN                 1.0               NaN\n",
       "3                    NaN                 2.0               NaN\n",
       "4                    NaN                 1.0               NaN\n",
       "...                  ...                 ...               ...\n",
       "1774                 NaN                 NaN               2.0\n",
       "1775                 NaN                 NaN               1.0\n",
       "1776                 NaN                 NaN               2.0\n",
       "1777                 NaN                 NaN               2.0\n",
       "1778                 NaN                 2.0               NaN\n",
       "\n",
       "[1779 rows x 3 columns]"
      ]
     },
     "execution_count": 144,
     "metadata": {},
     "output_type": "execute_result"
    }
   ],
   "source": [
    "charger_df = df[['EV Level1 EVSE Num','EV Level2 EVSE Num','EV DC Fast Count']]\n",
    "charger_df"
   ]
  },
  {
   "cell_type": "code",
   "execution_count": 145,
   "id": "66f55c92-4098-4154-b9b9-9729a6cf7ed0",
   "metadata": {},
   "outputs": [
    {
     "data": {
      "text/plain": [
       "2.0     179\n",
       "1.0     146\n",
       "4.0      22\n",
       "8.0      20\n",
       "12.0     12\n",
       "3.0       7\n",
       "6.0       6\n",
       "10.0      3\n",
       "20.0      2\n",
       "16.0      2\n",
       "5.0       2\n",
       "22.0      1\n",
       "24.0      1\n",
       "Name: EV DC Fast Count, dtype: int64"
      ]
     },
     "execution_count": 145,
     "metadata": {},
     "output_type": "execute_result"
    }
   ],
   "source": [
    "charger_df['EV DC Fast Count'].value_counts()"
   ]
  },
  {
   "cell_type": "code",
   "execution_count": 146,
   "id": "1cfac8a2-7b53-470e-9bf5-dfc3e036544d",
   "metadata": {},
   "outputs": [
    {
     "data": {
      "text/plain": [
       "2.0     896\n",
       "1.0     271\n",
       "4.0      89\n",
       "3.0      48\n",
       "6.0      37\n",
       "5.0      17\n",
       "10.0     12\n",
       "8.0      11\n",
       "7.0       9\n",
       "12.0      6\n",
       "14.0      3\n",
       "16.0      2\n",
       "11.0      2\n",
       "9.0       2\n",
       "20.0      2\n",
       "18.0      1\n",
       "60.0      1\n",
       "28.0      1\n",
       "30.0      1\n",
       "13.0      1\n",
       "33.0      1\n",
       "Name: EV Level2 EVSE Num, dtype: int64"
      ]
     },
     "execution_count": 146,
     "metadata": {},
     "output_type": "execute_result"
    }
   ],
   "source": [
    "charger_df['EV Level2 EVSE Num'].value_counts()"
   ]
  },
  {
   "cell_type": "code",
   "execution_count": 147,
   "id": "a592e5b5-8277-4d3c-bbf8-08c29283468f",
   "metadata": {},
   "outputs": [
    {
     "data": {
      "text/plain": [
       "EV Level1 EVSE Num    float64\n",
       "EV Level2 EVSE Num    float64\n",
       "EV DC Fast Count      float64\n",
       "dtype: object"
      ]
     },
     "execution_count": 147,
     "metadata": {},
     "output_type": "execute_result"
    }
   ],
   "source": [
    "charger_df.dtypes"
   ]
  },
  {
   "cell_type": "code",
   "execution_count": 148,
   "id": "b5e17f24-9e0d-48f4-9186-c94b81760bd0",
   "metadata": {
    "tags": []
   },
   "outputs": [
    {
     "data": {
      "application/vnd.plotly.v1+json": {
       "config": {
        "plotlyServerURL": "https://plot.ly"
       },
       "data": [
        {
         "alignmentgroup": "True",
         "cliponaxis": false,
         "hovertemplate": "EV Charger Type=%{x}<br>Count=%{text}<extra></extra>",
         "legendgroup": "",
         "marker": {
          "color": "#636efa",
          "pattern": {
           "shape": ""
          }
         },
         "name": "",
         "offsetgroup": "",
         "orientation": "v",
         "showlegend": false,
         "text": [
          0,
          1375,
          366,
          1,
          0,
          36,
          1
         ],
         "textangle": 0,
         "textfont": {
          "size": 12
         },
         "textposition": "outside",
         "type": "bar",
         "x": [
          "EV Level 1 EVSE Chargers",
          "EV Level 2 EVSE Chargers",
          "EV DC Fast Chargers",
          "EV Level 1, Level2",
          "EV Level 1, Fast",
          "EV Level 2, Fast",
          "EV Level 1, Level2 and Fast Chargers"
         ],
         "xaxis": "x",
         "y": [
          0,
          1375,
          366,
          1,
          0,
          36,
          1
         ],
         "yaxis": "y"
        }
       ],
       "layout": {
        "autosize": true,
        "barmode": "relative",
        "legend": {
         "tracegroupgap": 0
        },
        "template": {
         "data": {
          "bar": [
           {
            "error_x": {
             "color": "#2a3f5f"
            },
            "error_y": {
             "color": "#2a3f5f"
            },
            "marker": {
             "line": {
              "color": "#E5ECF6",
              "width": 0.5
             },
             "pattern": {
              "fillmode": "overlay",
              "size": 10,
              "solidity": 0.2
             }
            },
            "type": "bar"
           }
          ],
          "barpolar": [
           {
            "marker": {
             "line": {
              "color": "#E5ECF6",
              "width": 0.5
             },
             "pattern": {
              "fillmode": "overlay",
              "size": 10,
              "solidity": 0.2
             }
            },
            "type": "barpolar"
           }
          ],
          "carpet": [
           {
            "aaxis": {
             "endlinecolor": "#2a3f5f",
             "gridcolor": "white",
             "linecolor": "white",
             "minorgridcolor": "white",
             "startlinecolor": "#2a3f5f"
            },
            "baxis": {
             "endlinecolor": "#2a3f5f",
             "gridcolor": "white",
             "linecolor": "white",
             "minorgridcolor": "white",
             "startlinecolor": "#2a3f5f"
            },
            "type": "carpet"
           }
          ],
          "choropleth": [
           {
            "colorbar": {
             "outlinewidth": 0,
             "ticks": ""
            },
            "type": "choropleth"
           }
          ],
          "contour": [
           {
            "colorbar": {
             "outlinewidth": 0,
             "ticks": ""
            },
            "colorscale": [
             [
              0,
              "#0d0887"
             ],
             [
              0.1111111111111111,
              "#46039f"
             ],
             [
              0.2222222222222222,
              "#7201a8"
             ],
             [
              0.3333333333333333,
              "#9c179e"
             ],
             [
              0.4444444444444444,
              "#bd3786"
             ],
             [
              0.5555555555555556,
              "#d8576b"
             ],
             [
              0.6666666666666666,
              "#ed7953"
             ],
             [
              0.7777777777777778,
              "#fb9f3a"
             ],
             [
              0.8888888888888888,
              "#fdca26"
             ],
             [
              1,
              "#f0f921"
             ]
            ],
            "type": "contour"
           }
          ],
          "contourcarpet": [
           {
            "colorbar": {
             "outlinewidth": 0,
             "ticks": ""
            },
            "type": "contourcarpet"
           }
          ],
          "heatmap": [
           {
            "colorbar": {
             "outlinewidth": 0,
             "ticks": ""
            },
            "colorscale": [
             [
              0,
              "#0d0887"
             ],
             [
              0.1111111111111111,
              "#46039f"
             ],
             [
              0.2222222222222222,
              "#7201a8"
             ],
             [
              0.3333333333333333,
              "#9c179e"
             ],
             [
              0.4444444444444444,
              "#bd3786"
             ],
             [
              0.5555555555555556,
              "#d8576b"
             ],
             [
              0.6666666666666666,
              "#ed7953"
             ],
             [
              0.7777777777777778,
              "#fb9f3a"
             ],
             [
              0.8888888888888888,
              "#fdca26"
             ],
             [
              1,
              "#f0f921"
             ]
            ],
            "type": "heatmap"
           }
          ],
          "heatmapgl": [
           {
            "colorbar": {
             "outlinewidth": 0,
             "ticks": ""
            },
            "colorscale": [
             [
              0,
              "#0d0887"
             ],
             [
              0.1111111111111111,
              "#46039f"
             ],
             [
              0.2222222222222222,
              "#7201a8"
             ],
             [
              0.3333333333333333,
              "#9c179e"
             ],
             [
              0.4444444444444444,
              "#bd3786"
             ],
             [
              0.5555555555555556,
              "#d8576b"
             ],
             [
              0.6666666666666666,
              "#ed7953"
             ],
             [
              0.7777777777777778,
              "#fb9f3a"
             ],
             [
              0.8888888888888888,
              "#fdca26"
             ],
             [
              1,
              "#f0f921"
             ]
            ],
            "type": "heatmapgl"
           }
          ],
          "histogram": [
           {
            "marker": {
             "pattern": {
              "fillmode": "overlay",
              "size": 10,
              "solidity": 0.2
             }
            },
            "type": "histogram"
           }
          ],
          "histogram2d": [
           {
            "colorbar": {
             "outlinewidth": 0,
             "ticks": ""
            },
            "colorscale": [
             [
              0,
              "#0d0887"
             ],
             [
              0.1111111111111111,
              "#46039f"
             ],
             [
              0.2222222222222222,
              "#7201a8"
             ],
             [
              0.3333333333333333,
              "#9c179e"
             ],
             [
              0.4444444444444444,
              "#bd3786"
             ],
             [
              0.5555555555555556,
              "#d8576b"
             ],
             [
              0.6666666666666666,
              "#ed7953"
             ],
             [
              0.7777777777777778,
              "#fb9f3a"
             ],
             [
              0.8888888888888888,
              "#fdca26"
             ],
             [
              1,
              "#f0f921"
             ]
            ],
            "type": "histogram2d"
           }
          ],
          "histogram2dcontour": [
           {
            "colorbar": {
             "outlinewidth": 0,
             "ticks": ""
            },
            "colorscale": [
             [
              0,
              "#0d0887"
             ],
             [
              0.1111111111111111,
              "#46039f"
             ],
             [
              0.2222222222222222,
              "#7201a8"
             ],
             [
              0.3333333333333333,
              "#9c179e"
             ],
             [
              0.4444444444444444,
              "#bd3786"
             ],
             [
              0.5555555555555556,
              "#d8576b"
             ],
             [
              0.6666666666666666,
              "#ed7953"
             ],
             [
              0.7777777777777778,
              "#fb9f3a"
             ],
             [
              0.8888888888888888,
              "#fdca26"
             ],
             [
              1,
              "#f0f921"
             ]
            ],
            "type": "histogram2dcontour"
           }
          ],
          "mesh3d": [
           {
            "colorbar": {
             "outlinewidth": 0,
             "ticks": ""
            },
            "type": "mesh3d"
           }
          ],
          "parcoords": [
           {
            "line": {
             "colorbar": {
              "outlinewidth": 0,
              "ticks": ""
             }
            },
            "type": "parcoords"
           }
          ],
          "pie": [
           {
            "automargin": true,
            "type": "pie"
           }
          ],
          "scatter": [
           {
            "marker": {
             "colorbar": {
              "outlinewidth": 0,
              "ticks": ""
             }
            },
            "type": "scatter"
           }
          ],
          "scatter3d": [
           {
            "line": {
             "colorbar": {
              "outlinewidth": 0,
              "ticks": ""
             }
            },
            "marker": {
             "colorbar": {
              "outlinewidth": 0,
              "ticks": ""
             }
            },
            "type": "scatter3d"
           }
          ],
          "scattercarpet": [
           {
            "marker": {
             "colorbar": {
              "outlinewidth": 0,
              "ticks": ""
             }
            },
            "type": "scattercarpet"
           }
          ],
          "scattergeo": [
           {
            "marker": {
             "colorbar": {
              "outlinewidth": 0,
              "ticks": ""
             }
            },
            "type": "scattergeo"
           }
          ],
          "scattergl": [
           {
            "marker": {
             "colorbar": {
              "outlinewidth": 0,
              "ticks": ""
             }
            },
            "type": "scattergl"
           }
          ],
          "scattermapbox": [
           {
            "marker": {
             "colorbar": {
              "outlinewidth": 0,
              "ticks": ""
             }
            },
            "type": "scattermapbox"
           }
          ],
          "scatterpolar": [
           {
            "marker": {
             "colorbar": {
              "outlinewidth": 0,
              "ticks": ""
             }
            },
            "type": "scatterpolar"
           }
          ],
          "scatterpolargl": [
           {
            "marker": {
             "colorbar": {
              "outlinewidth": 0,
              "ticks": ""
             }
            },
            "type": "scatterpolargl"
           }
          ],
          "scatterternary": [
           {
            "marker": {
             "colorbar": {
              "outlinewidth": 0,
              "ticks": ""
             }
            },
            "type": "scatterternary"
           }
          ],
          "surface": [
           {
            "colorbar": {
             "outlinewidth": 0,
             "ticks": ""
            },
            "colorscale": [
             [
              0,
              "#0d0887"
             ],
             [
              0.1111111111111111,
              "#46039f"
             ],
             [
              0.2222222222222222,
              "#7201a8"
             ],
             [
              0.3333333333333333,
              "#9c179e"
             ],
             [
              0.4444444444444444,
              "#bd3786"
             ],
             [
              0.5555555555555556,
              "#d8576b"
             ],
             [
              0.6666666666666666,
              "#ed7953"
             ],
             [
              0.7777777777777778,
              "#fb9f3a"
             ],
             [
              0.8888888888888888,
              "#fdca26"
             ],
             [
              1,
              "#f0f921"
             ]
            ],
            "type": "surface"
           }
          ],
          "table": [
           {
            "cells": {
             "fill": {
              "color": "#EBF0F8"
             },
             "line": {
              "color": "white"
             }
            },
            "header": {
             "fill": {
              "color": "#C8D4E3"
             },
             "line": {
              "color": "white"
             }
            },
            "type": "table"
           }
          ]
         },
         "layout": {
          "annotationdefaults": {
           "arrowcolor": "#2a3f5f",
           "arrowhead": 0,
           "arrowwidth": 1
          },
          "autotypenumbers": "strict",
          "coloraxis": {
           "colorbar": {
            "outlinewidth": 0,
            "ticks": ""
           }
          },
          "colorscale": {
           "diverging": [
            [
             0,
             "#8e0152"
            ],
            [
             0.1,
             "#c51b7d"
            ],
            [
             0.2,
             "#de77ae"
            ],
            [
             0.3,
             "#f1b6da"
            ],
            [
             0.4,
             "#fde0ef"
            ],
            [
             0.5,
             "#f7f7f7"
            ],
            [
             0.6,
             "#e6f5d0"
            ],
            [
             0.7,
             "#b8e186"
            ],
            [
             0.8,
             "#7fbc41"
            ],
            [
             0.9,
             "#4d9221"
            ],
            [
             1,
             "#276419"
            ]
           ],
           "sequential": [
            [
             0,
             "#0d0887"
            ],
            [
             0.1111111111111111,
             "#46039f"
            ],
            [
             0.2222222222222222,
             "#7201a8"
            ],
            [
             0.3333333333333333,
             "#9c179e"
            ],
            [
             0.4444444444444444,
             "#bd3786"
            ],
            [
             0.5555555555555556,
             "#d8576b"
            ],
            [
             0.6666666666666666,
             "#ed7953"
            ],
            [
             0.7777777777777778,
             "#fb9f3a"
            ],
            [
             0.8888888888888888,
             "#fdca26"
            ],
            [
             1,
             "#f0f921"
            ]
           ],
           "sequentialminus": [
            [
             0,
             "#0d0887"
            ],
            [
             0.1111111111111111,
             "#46039f"
            ],
            [
             0.2222222222222222,
             "#7201a8"
            ],
            [
             0.3333333333333333,
             "#9c179e"
            ],
            [
             0.4444444444444444,
             "#bd3786"
            ],
            [
             0.5555555555555556,
             "#d8576b"
            ],
            [
             0.6666666666666666,
             "#ed7953"
            ],
            [
             0.7777777777777778,
             "#fb9f3a"
            ],
            [
             0.8888888888888888,
             "#fdca26"
            ],
            [
             1,
             "#f0f921"
            ]
           ]
          },
          "colorway": [
           "#636efa",
           "#EF553B",
           "#00cc96",
           "#ab63fa",
           "#FFA15A",
           "#19d3f3",
           "#FF6692",
           "#B6E880",
           "#FF97FF",
           "#FECB52"
          ],
          "font": {
           "color": "#2a3f5f"
          },
          "geo": {
           "bgcolor": "white",
           "lakecolor": "white",
           "landcolor": "#E5ECF6",
           "showlakes": true,
           "showland": true,
           "subunitcolor": "white"
          },
          "hoverlabel": {
           "align": "left"
          },
          "hovermode": "closest",
          "mapbox": {
           "style": "light"
          },
          "paper_bgcolor": "white",
          "plot_bgcolor": "#E5ECF6",
          "polar": {
           "angularaxis": {
            "gridcolor": "white",
            "linecolor": "white",
            "ticks": ""
           },
           "bgcolor": "#E5ECF6",
           "radialaxis": {
            "gridcolor": "white",
            "linecolor": "white",
            "ticks": ""
           }
          },
          "scene": {
           "xaxis": {
            "backgroundcolor": "#E5ECF6",
            "gridcolor": "white",
            "gridwidth": 2,
            "linecolor": "white",
            "showbackground": true,
            "ticks": "",
            "zerolinecolor": "white"
           },
           "yaxis": {
            "backgroundcolor": "#E5ECF6",
            "gridcolor": "white",
            "gridwidth": 2,
            "linecolor": "white",
            "showbackground": true,
            "ticks": "",
            "zerolinecolor": "white"
           },
           "zaxis": {
            "backgroundcolor": "#E5ECF6",
            "gridcolor": "white",
            "gridwidth": 2,
            "linecolor": "white",
            "showbackground": true,
            "ticks": "",
            "zerolinecolor": "white"
           }
          },
          "shapedefaults": {
           "line": {
            "color": "#2a3f5f"
           }
          },
          "ternary": {
           "aaxis": {
            "gridcolor": "white",
            "linecolor": "white",
            "ticks": ""
           },
           "baxis": {
            "gridcolor": "white",
            "linecolor": "white",
            "ticks": ""
           },
           "bgcolor": "#E5ECF6",
           "caxis": {
            "gridcolor": "white",
            "linecolor": "white",
            "ticks": ""
           }
          },
          "title": {
           "x": 0.05
          },
          "xaxis": {
           "automargin": true,
           "gridcolor": "white",
           "linecolor": "white",
           "ticks": "",
           "title": {
            "standoff": 15
           },
           "zerolinecolor": "white",
           "zerolinewidth": 2
          },
          "yaxis": {
           "automargin": true,
           "gridcolor": "white",
           "linecolor": "white",
           "ticks": "",
           "title": {
            "standoff": 15
           },
           "zerolinecolor": "white",
           "zerolinewidth": 2
          }
         }
        },
        "title": {
         "text": "EV Charger Counts by Various types"
        },
        "xaxis": {
         "anchor": "y",
         "autorange": true,
         "domain": [
          0,
          1
         ],
         "range": [
          -0.5,
          6.5
         ],
         "title": {
          "text": "EV Charger Type"
         },
         "type": "category"
        },
        "yaxis": {
         "anchor": "x",
         "autorange": true,
         "domain": [
          0,
          1
         ],
         "range": [
          0,
          1447.3684210526317
         ],
         "title": {
          "text": "Count"
         },
         "type": "linear"
        }
       }
      },
      "image/png": "[encoded data removed]",
      "text/html": [
       "<div>                            <div id=\"4160c104-d12c-4b03-8e0b-e43b6c36165d\" class=\"plotly-graph-div\" style=\"height:600px; width:100%;\"></div>            <script type=\"text/javascript\">                require([\"plotly\"], function(Plotly) {                    window.PLOTLYENV=window.PLOTLYENV || {};                                    if (document.getElementById(\"4160c104-d12c-4b03-8e0b-e43b6c36165d\")) {                    Plotly.newPlot(                        \"4160c104-d12c-4b03-8e0b-e43b6c36165d\",                        [{\"alignmentgroup\":\"True\",\"hovertemplate\":\"EV Charger Type=%{x}<br>Count=%{text}<extra></extra>\",\"legendgroup\":\"\",\"marker\":{\"color\":\"#636efa\",\"pattern\":{\"shape\":\"\"}},\"name\":\"\",\"offsetgroup\":\"\",\"orientation\":\"v\",\"showlegend\":false,\"text\":[0.0,1375.0,366.0,1.0,0.0,36.0,1.0],\"textposition\":\"outside\",\"x\":[\"EV Level 1 EVSE Chargers\",\"EV Level 2 EVSE Chargers\",\"EV DC Fast Chargers\",\"EV Level 1, Level2\",\"EV Level 1, Fast\",\"EV Level 2, Fast\",\"EV Level 1, Level2 and Fast Chargers\"],\"xaxis\":\"x\",\"y\":[0.0,1375.0,366.0,1.0,0.0,36.0,1.0],\"yaxis\":\"y\",\"type\":\"bar\",\"textfont\":{\"size\":12},\"cliponaxis\":false,\"textangle\":0}],                        {\"template\":{\"data\":{\"bar\":[{\"error_x\":{\"color\":\"#2a3f5f\"},\"error_y\":{\"color\":\"#2a3f5f\"},\"marker\":{\"line\":{\"color\":\"#E5ECF6\",\"width\":0.5},\"pattern\":{\"fillmode\":\"overlay\",\"size\":10,\"solidity\":0.2}},\"type\":\"bar\"}],\"barpolar\":[{\"marker\":{\"line\":{\"color\":\"#E5ECF6\",\"width\":0.5},\"pattern\":{\"fillmode\":\"overlay\",\"size\":10,\"solidity\":0.2}},\"type\":\"barpolar\"}],\"carpet\":[{\"aaxis\":{\"endlinecolor\":\"#2a3f5f\",\"gridcolor\":\"white\",\"linecolor\":\"white\",\"minorgridcolor\":\"white\",\"startlinecolor\":\"#2a3f5f\"},\"baxis\":{\"endlinecolor\":\"#2a3f5f\",\"gridcolor\":\"white\",\"linecolor\":\"white\",\"minorgridcolor\":\"white\",\"startlinecolor\":\"#2a3f5f\"},\"type\":\"carpet\"}],\"choropleth\":[{\"colorbar\":{\"outlinewidth\":0,\"ticks\":\"\"},\"type\":\"choropleth\"}],\"contour\":[{\"colorbar\":{\"outlinewidth\":0,\"ticks\":\"\"},\"colorscale\":[[0.0,\"#0d0887\"],[0.1111111111111111,\"#46039f\"],[0.2222222222222222,\"#7201a8\"],[0.3333333333333333,\"#9c179e\"],[0.4444444444444444,\"#bd3786\"],[0.5555555555555556,\"#d8576b\"],[0.6666666666666666,\"#ed7953\"],[0.7777777777777778,\"#fb9f3a\"],[0.8888888888888888,\"#fdca26\"],[1.0,\"#f0f921\"]],\"type\":\"contour\"}],\"contourcarpet\":[{\"colorbar\":{\"outlinewidth\":0,\"ticks\":\"\"},\"type\":\"contourcarpet\"}],\"heatmap\":[{\"colorbar\":{\"outlinewidth\":0,\"ticks\":\"\"},\"colorscale\":[[0.0,\"#0d0887\"],[0.1111111111111111,\"#46039f\"],[0.2222222222222222,\"#7201a8\"],[0.3333333333333333,\"#9c179e\"],[0.4444444444444444,\"#bd3786\"],[0.5555555555555556,\"#d8576b\"],[0.6666666666666666,\"#ed7953\"],[0.7777777777777778,\"#fb9f3a\"],[0.8888888888888888,\"#fdca26\"],[1.0,\"#f0f921\"]],\"type\":\"heatmap\"}],\"heatmapgl\":[{\"colorbar\":{\"outlinewidth\":0,\"ticks\":\"\"},\"colorscale\":[[0.0,\"#0d0887\"],[0.1111111111111111,\"#46039f\"],[0.2222222222222222,\"#7201a8\"],[0.3333333333333333,\"#9c179e\"],[0.4444444444444444,\"#bd3786\"],[0.5555555555555556,\"#d8576b\"],[0.6666666666666666,\"#ed7953\"],[0.7777777777777778,\"#fb9f3a\"],[0.8888888888888888,\"#fdca26\"],[1.0,\"#f0f921\"]],\"type\":\"heatmapgl\"}],\"histogram\":[{\"marker\":{\"pattern\":{\"fillmode\":\"overlay\",\"size\":10,\"solidity\":0.2}},\"type\":\"histogram\"}],\"histogram2d\":[{\"colorbar\":{\"outlinewidth\":0,\"ticks\":\"\"},\"colorscale\":[[0.0,\"#0d0887\"],[0.1111111111111111,\"#46039f\"],[0.2222222222222222,\"#7201a8\"],[0.3333333333333333,\"#9c179e\"],[0.4444444444444444,\"#bd3786\"],[0.5555555555555556,\"#d8576b\"],[0.6666666666666666,\"#ed7953\"],[0.7777777777777778,\"#fb9f3a\"],[0.8888888888888888,\"#fdca26\"],[1.0,\"#f0f921\"]],\"type\":\"histogram2d\"}],\"histogram2dcontour\":[{\"colorbar\":{\"outlinewidth\":0,\"ticks\":\"\"},\"colorscale\":[[0.0,\"#0d0887\"],[0.1111111111111111,\"#46039f\"],[0.2222222222222222,\"#7201a8\"],[0.3333333333333333,\"#9c179e\"],[0.4444444444444444,\"#bd3786\"],[0.5555555555555556,\"#d8576b\"],[0.6666666666666666,\"#ed7953\"],[0.7777777777777778,\"#fb9f3a\"],[0.8888888888888888,\"#fdca26\"],[1.0,\"#f0f921\"]],\"type\":\"histogram2dcontour\"}],\"mesh3d\":[{\"colorbar\":{\"outlinewidth\":0,\"ticks\":\"\"},\"type\":\"mesh3d\"}],\"parcoords\":[{\"line\":{\"colorbar\":{\"outlinewidth\":0,\"ticks\":\"\"}},\"type\":\"parcoords\"}],\"pie\":[{\"automargin\":true,\"type\":\"pie\"}],\"scatter\":[{\"marker\":{\"colorbar\":{\"outlinewidth\":0,\"ticks\":\"\"}},\"type\":\"scatter\"}],\"scatter3d\":[{\"line\":{\"colorbar\":{\"outlinewidth\":0,\"ticks\":\"\"}},\"marker\":{\"colorbar\":{\"outlinewidth\":0,\"ticks\":\"\"}},\"type\":\"scatter3d\"}],\"scattercarpet\":[{\"marker\":{\"colorbar\":{\"outlinewidth\":0,\"ticks\":\"\"}},\"type\":\"scattercarpet\"}],\"scattergeo\":[{\"marker\":{\"colorbar\":{\"outlinewidth\":0,\"ticks\":\"\"}},\"type\":\"scattergeo\"}],\"scattergl\":[{\"marker\":{\"colorbar\":{\"outlinewidth\":0,\"ticks\":\"\"}},\"type\":\"scattergl\"}],\"scattermapbox\":[{\"marker\":{\"colorbar\":{\"outlinewidth\":0,\"ticks\":\"\"}},\"type\":\"scattermapbox\"}],\"scatterpolar\":[{\"marker\":{\"colorbar\":{\"outlinewidth\":0,\"ticks\":\"\"}},\"type\":\"scatterpolar\"}],\"scatterpolargl\":[{\"marker\":{\"colorbar\":{\"outlinewidth\":0,\"ticks\":\"\"}},\"type\":\"scatterpolargl\"}],\"scatterternary\":[{\"marker\":{\"colorbar\":{\"outlinewidth\":0,\"ticks\":\"\"}},\"type\":\"scatterternary\"}],\"surface\":[{\"colorbar\":{\"outlinewidth\":0,\"ticks\":\"\"},\"colorscale\":[[0.0,\"#0d0887\"],[0.1111111111111111,\"#46039f\"],[0.2222222222222222,\"#7201a8\"],[0.3333333333333333,\"#9c179e\"],[0.4444444444444444,\"#bd3786\"],[0.5555555555555556,\"#d8576b\"],[0.6666666666666666,\"#ed7953\"],[0.7777777777777778,\"#fb9f3a\"],[0.8888888888888888,\"#fdca26\"],[1.0,\"#f0f921\"]],\"type\":\"surface\"}],\"table\":[{\"cells\":{\"fill\":{\"color\":\"#EBF0F8\"},\"line\":{\"color\":\"white\"}},\"header\":{\"fill\":{\"color\":\"#C8D4E3\"},\"line\":{\"color\":\"white\"}},\"type\":\"table\"}]},\"layout\":{\"annotationdefaults\":{\"arrowcolor\":\"#2a3f5f\",\"arrowhead\":0,\"arrowwidth\":1},\"autotypenumbers\":\"strict\",\"coloraxis\":{\"colorbar\":{\"outlinewidth\":0,\"ticks\":\"\"}},\"colorscale\":{\"diverging\":[[0,\"#8e0152\"],[0.1,\"#c51b7d\"],[0.2,\"#de77ae\"],[0.3,\"#f1b6da\"],[0.4,\"#fde0ef\"],[0.5,\"#f7f7f7\"],[0.6,\"#e6f5d0\"],[0.7,\"#b8e186\"],[0.8,\"#7fbc41\"],[0.9,\"#4d9221\"],[1,\"#276419\"]],\"sequential\":[[0.0,\"#0d0887\"],[0.1111111111111111,\"#46039f\"],[0.2222222222222222,\"#7201a8\"],[0.3333333333333333,\"#9c179e\"],[0.4444444444444444,\"#bd3786\"],[0.5555555555555556,\"#d8576b\"],[0.6666666666666666,\"#ed7953\"],[0.7777777777777778,\"#fb9f3a\"],[0.8888888888888888,\"#fdca26\"],[1.0,\"#f0f921\"]],\"sequentialminus\":[[0.0,\"#0d0887\"],[0.1111111111111111,\"#46039f\"],[0.2222222222222222,\"#7201a8\"],[0.3333333333333333,\"#9c179e\"],[0.4444444444444444,\"#bd3786\"],[0.5555555555555556,\"#d8576b\"],[0.6666666666666666,\"#ed7953\"],[0.7777777777777778,\"#fb9f3a\"],[0.8888888888888888,\"#fdca26\"],[1.0,\"#f0f921\"]]},\"colorway\":[\"#636efa\",\"#EF553B\",\"#00cc96\",\"#ab63fa\",\"#FFA15A\",\"#19d3f3\",\"#FF6692\",\"#B6E880\",\"#FF97FF\",\"#FECB52\"],\"font\":{\"color\":\"#2a3f5f\"},\"geo\":{\"bgcolor\":\"white\",\"lakecolor\":\"white\",\"landcolor\":\"#E5ECF6\",\"showlakes\":true,\"showland\":true,\"subunitcolor\":\"white\"},\"hoverlabel\":{\"align\":\"left\"},\"hovermode\":\"closest\",\"mapbox\":{\"style\":\"light\"},\"paper_bgcolor\":\"white\",\"plot_bgcolor\":\"#E5ECF6\",\"polar\":{\"angularaxis\":{\"gridcolor\":\"white\",\"linecolor\":\"white\",\"ticks\":\"\"},\"bgcolor\":\"#E5ECF6\",\"radialaxis\":{\"gridcolor\":\"white\",\"linecolor\":\"white\",\"ticks\":\"\"}},\"scene\":{\"xaxis\":{\"backgroundcolor\":\"#E5ECF6\",\"gridcolor\":\"white\",\"gridwidth\":2,\"linecolor\":\"white\",\"showbackground\":true,\"ticks\":\"\",\"zerolinecolor\":\"white\"},\"yaxis\":{\"backgroundcolor\":\"#E5ECF6\",\"gridcolor\":\"white\",\"gridwidth\":2,\"linecolor\":\"white\",\"showbackground\":true,\"ticks\":\"\",\"zerolinecolor\":\"white\"},\"zaxis\":{\"backgroundcolor\":\"#E5ECF6\",\"gridcolor\":\"white\",\"gridwidth\":2,\"linecolor\":\"white\",\"showbackground\":true,\"ticks\":\"\",\"zerolinecolor\":\"white\"}},\"shapedefaults\":{\"line\":{\"color\":\"#2a3f5f\"}},\"ternary\":{\"aaxis\":{\"gridcolor\":\"white\",\"linecolor\":\"white\",\"ticks\":\"\"},\"baxis\":{\"gridcolor\":\"white\",\"linecolor\":\"white\",\"ticks\":\"\"},\"bgcolor\":\"#E5ECF6\",\"caxis\":{\"gridcolor\":\"white\",\"linecolor\":\"white\",\"ticks\":\"\"}},\"title\":{\"x\":0.05},\"xaxis\":{\"automargin\":true,\"gridcolor\":\"white\",\"linecolor\":\"white\",\"ticks\":\"\",\"title\":{\"standoff\":15},\"zerolinecolor\":\"white\",\"zerolinewidth\":2},\"yaxis\":{\"automargin\":true,\"gridcolor\":\"white\",\"linecolor\":\"white\",\"ticks\":\"\",\"title\":{\"standoff\":15},\"zerolinecolor\":\"white\",\"zerolinewidth\":2}}},\"xaxis\":{\"anchor\":\"y\",\"domain\":[0.0,1.0],\"title\":{\"text\":\"EV Charger Type\"}},\"yaxis\":{\"anchor\":\"x\",\"domain\":[0.0,1.0],\"title\":{\"text\":\"Count\"}},\"legend\":{\"tracegroupgap\":0},\"title\":{\"text\":\"EV Charger Counts by Various types\"},\"barmode\":\"relative\",\"height\":600},                        {\"responsive\": true}                    ).then(function(){\n",
       "                            \n",
       "var gd = document.getElementById('4160c104-d12c-4b03-8e0b-e43b6c36165d');\n",
       "var x = new MutationObserver(function (mutations, observer) {{\n",
       "        var display = window.getComputedStyle(gd).display;\n",
       "        if (!display || display === 'none') {{\n",
       "            console.log([gd, 'removed!']);\n",
       "            Plotly.purge(gd);\n",
       "            observer.disconnect();\n",
       "        }}\n",
       "}});\n",
       "\n",
       "// Listen for the removal of the full notebook cells\n",
       "var notebookContainer = gd.closest('#notebook-container');\n",
       "if (notebookContainer) {{\n",
       "    x.observe(notebookContainer, {childList: true});\n",
       "}}\n",
       "\n",
       "// Listen for the clearing of the current output cell\n",
       "var outputEl = gd.closest('.output');\n",
       "if (outputEl) {{\n",
       "    x.observe(outputEl, {childList: true});\n",
       "}}\n",
       "\n",
       "                        })                };                });            </script>        </div>"
      ]
     },
     "metadata": {},
     "output_type": "display_data"
    }
   ],
   "source": [
    "# EV Charging station that supports all three level types\n",
    "charger_df = charger_df.fillna(-1)\n",
    "\n",
    "# Then creating columns that examine every other possible hybrid charging station\n",
    "charger_df['EV Level 1 EVSE Chargers'] = np.where((charger_df['EV Level1 EVSE Num'] != -1) & \n",
    "                               (charger_df['EV Level2 EVSE Num'] == -1) & \n",
    "                                (charger_df['EV DC Fast Count'] == -1), 1,0)\n",
    "\n",
    "charger_df['EV Level 2 EVSE Chargers'] = np.where((charger_df['EV Level1 EVSE Num'] == -1) & \n",
    "                               (charger_df['EV Level2 EVSE Num'] != -1) & \n",
    "                                (charger_df['EV DC Fast Count'] == -1), 1,0)\n",
    "\n",
    "charger_df['EV DC Fast Chargers'] = np.where((charger_df['EV Level1 EVSE Num'] == -1) & \n",
    "                               (charger_df['EV Level2 EVSE Num'] == -1) & \n",
    "                                (charger_df['EV DC Fast Count'] != -1), 1,0)\n",
    "\n",
    "charger_df['EV Level 1, Level2'] = np.where((charger_df['EV Level1 EVSE Num'] != -1) & \n",
    "                               (charger_df['EV Level2 EVSE Num'] != -1) & \n",
    "                                (charger_df['EV DC Fast Count'] == -1), 1,0)\n",
    "\n",
    "charger_df['EV Level 1, Fast'] = np.where((charger_df['EV Level1 EVSE Num'] != -1) & \n",
    "                               (charger_df['EV Level2 EVSE Num'] == -1) & \n",
    "                                (charger_df['EV DC Fast Count'] != -1), 1,0)\n",
    "\n",
    "charger_df['EV Level 2, Fast'] = np.where((charger_df['EV Level1 EVSE Num'] == -1) & \n",
    "                               (charger_df['EV Level2 EVSE Num'] != -1) & \n",
    "                                (charger_df['EV DC Fast Count'] != -1), 1,0)\n",
    "\n",
    "charger_df['EV Level 1, Level2 and Fast Chargers'] = np.where((charger_df['EV Level1 EVSE Num'] != -1) & \n",
    "                               (charger_df['EV Level2 EVSE Num'] != -1) & \n",
    "                                (charger_df['EV DC Fast Count'] != -1), 1,0)\n",
    "\n",
    "# After creating these columns, we can sum then up and plot the different types of chargers in BC\n",
    " \n",
    "charger_df_count = charger_df.sum()\n",
    "charger_df_count = pd.DataFrame(charger_df_count)\n",
    "charger_df_count = charger_df_count.iloc[3:]\n",
    "charger_df_count = charger_df_count.reset_index()\n",
    "charger_df_count = charger_df_count.rename(columns={\"index\": \"EV Charger Type\", 0: 'Count'})\n",
    "\n",
    "fig = px.bar(charger_df_count, x='EV Charger Type', y='Count',height=600, text='Count',\n",
    "            title=\"EV Charger Counts by Various types\")\n",
    "fig.update_traces(textfont_size=12, textangle=0, textposition=\"outside\", cliponaxis=False)\n",
    "fig.show()"
   ]
  },
  {
   "cell_type": "markdown",
   "id": "ec1afa10-72b2-4fbf-bf53-958f1918258c",
   "metadata": {},
   "source": [
    "### According to this graph the vast majority of EV chargerss in BC are of EV Level 2 EVSE at 1375. The second highest is EV DC Fast Chargers at 366. We then have a series of hybird chargers where there are 36 EV chargers that support EVSE Level 2 and EV DC Fast. Then there is one EV charger that can support all three levels in BC."
   ]
  },
  {
   "cell_type": "markdown",
   "id": "84e71e38-0a0a-4df1-92c7-021729ae0f25",
   "metadata": {},
   "source": [
    "## EV Pricing"
   ]
  },
  {
   "cell_type": "code",
   "execution_count": 149,
   "id": "5aa31033-35d5-4e7d-92fc-82e37c42e7ac",
   "metadata": {},
   "outputs": [
    {
     "data": {
      "text/plain": [
       "NaN                                                                    1385\n",
       "Free                                                                    256\n",
       "$0.44 per minute above 60 kW and $0.22 per minute at or below 60 kW      41\n",
       "$0.21 per minute                                                         33\n",
       "Free; parking fee required                                                9\n",
       "$0.27 per minute                                                          9\n",
       "$3 per hour                                                               7\n",
       "$1.50 per hour                                                            4\n",
       "FREE                                                                      3\n",
       "$1 per hour                                                               2\n",
       "$0.00-$2.00/Hr Variable Parking Fee                                       1\n",
       "$0.2113 per minute                                                        1\n",
       "$0.30 per minute                                                          1\n",
       "L2: Free; DC Fast: $0.27 per minute                                       1\n",
       "DCFC: $0.21 per minute; L2: Free                                          1\n",
       "$0.00-$1.00/Hr Variable Parking Fee                                       1\n",
       "free; parking fee required                                                1\n",
       "$15 per hour                                                              1\n",
       "$1.00 per hour                                                            1\n",
       "$0.2113 (CAD) per minute plus tax                                         1\n",
       "Free for first two hours; $3 per hour thereafter                          1\n",
       "$1.25 per hour                                                            1\n",
       "$1.50-$5.50/Hr Variable Parking Fee                                       1\n",
       "$2.00/Hr Parking Fee                                                      1\n",
       "$0.21 per hour                                                            1\n",
       "Free; donations accepted                                                  1\n",
       "$2 per hour                                                               1\n",
       "Free; $2.0 per hour parking fee                                           1\n",
       "DCFC: $0.21 per minute                                                    1\n",
       "Variable parking fee                                                      1\n",
       "DC fast: $0.35 per kWh; $2 minimum                                        1\n",
       "Variable Fee                                                              1\n",
       "Free; parking fee                                                         1\n",
       "$3.50 per hour for first hour, $4 per hour after                          1\n",
       "Free for guests                                                           1\n",
       "$5 per session                                                            1\n",
       "Charging free, parking fee required                                       1\n",
       "$3 per hour first 4 hours, $6 per hour for any additional hours           1\n",
       "$0.35 per kWh                                                             1\n",
       "0.18 cents per kW                                                         1\n",
       "Name: EV Pricing, dtype: int64"
      ]
     },
     "execution_count": 149,
     "metadata": {},
     "output_type": "execute_result"
    }
   ],
   "source": [
    "df['EV Pricing'].value_counts(dropna=False)"
   ]
  },
  {
   "cell_type": "markdown",
   "id": "c343971b-d721-4a4e-8c5b-b310acaa16bc",
   "metadata": {
    "tags": []
   },
   "source": [
    "### First thing I notice is that there is a not many data entries as the vast majority of pricing is registered as NaN. Second is that the there is not a effective consistency between data entry for pricing types. For example there is entires for FREE all uppercase and Free, titled. Given the high cardinality of the data, I think it would be best to group the values together based on similar category. First, categories with high value counts will be left as is such as Free, 0.44 per minute parking, 0.21 per minute parking, and categories with one occurrence will be binned together with similar high value count categories, ie. (Free for guests will be converted to Free, as they are relatively close in similarity)."
   ]
  },
  {
   "cell_type": "code",
   "execution_count": 150,
   "id": "4a01ed1f-5e57-4854-b0b1-88cf967379d6",
   "metadata": {},
   "outputs": [
    {
     "data": {
      "text/html": [
       "<div>\n",
       "<style scoped>\n",
       "    .dataframe tbody tr th:only-of-type {\n",
       "        vertical-align: middle;\n",
       "    }\n",
       "\n",
       "    .dataframe tbody tr th {\n",
       "        vertical-align: top;\n",
       "    }\n",
       "\n",
       "    .dataframe thead th {\n",
       "        text-align: right;\n",
       "    }\n",
       "</style>\n",
       "<table border=\"1\" class=\"dataframe\">\n",
       "  <thead>\n",
       "    <tr style=\"text-align: right;\">\n",
       "      <th></th>\n",
       "      <th>Station Name</th>\n",
       "      <th>Street Address</th>\n",
       "      <th>Intersection Directions</th>\n",
       "      <th>City</th>\n",
       "      <th>ZIP</th>\n",
       "      <th>Station Phone</th>\n",
       "      <th>Status Code</th>\n",
       "      <th>Expected Date</th>\n",
       "      <th>Groups With Access Code</th>\n",
       "      <th>Access Days Time</th>\n",
       "      <th>Cards Accepted</th>\n",
       "      <th>EV Level1 EVSE Num</th>\n",
       "      <th>EV Level2 EVSE Num</th>\n",
       "      <th>EV DC Fast Count</th>\n",
       "      <th>EV Network</th>\n",
       "      <th>EV Network Web</th>\n",
       "      <th>Geocode Status</th>\n",
       "      <th>Latitude</th>\n",
       "      <th>Longitude</th>\n",
       "      <th>Date Last Confirmed</th>\n",
       "      <th>ID</th>\n",
       "      <th>Updated At</th>\n",
       "      <th>Owner Type Code</th>\n",
       "      <th>Open Date</th>\n",
       "      <th>EV Connector Types</th>\n",
       "      <th>Access Detail Code</th>\n",
       "      <th>Facility Type</th>\n",
       "      <th>EV Pricing</th>\n",
       "      <th>EV On-Site Renewable Source</th>\n",
       "      <th>Restricted Access</th>\n",
       "      <th>Year</th>\n",
       "      <th>Month</th>\n",
       "      <th>Day</th>\n",
       "      <th>Open-Date</th>\n",
       "    </tr>\n",
       "  </thead>\n",
       "  <tbody>\n",
       "    <tr>\n",
       "      <th>0</th>\n",
       "      <td>City of Nanaimo - Underground Parking Lot</td>\n",
       "      <td>101 Gordon St</td>\n",
       "      <td>NaN</td>\n",
       "      <td>Nanaimo</td>\n",
       "      <td>V9R 5J6</td>\n",
       "      <td>250-754-4251</td>\n",
       "      <td>E</td>\n",
       "      <td>NaN</td>\n",
       "      <td>Public</td>\n",
       "      <td>24 hours daily</td>\n",
       "      <td>NaN</td>\n",
       "      <td>NaN</td>\n",
       "      <td>2.0</td>\n",
       "      <td>NaN</td>\n",
       "      <td>Non-Networked</td>\n",
       "      <td>NaN</td>\n",
       "      <td>200-9</td>\n",
       "      <td>49.164770</td>\n",
       "      <td>-123.936147</td>\n",
       "      <td>2020-03-05</td>\n",
       "      <td>83426</td>\n",
       "      <td>2021-06-07 17:08:43 UTC</td>\n",
       "      <td>P</td>\n",
       "      <td>2017-02-15</td>\n",
       "      <td>J1772</td>\n",
       "      <td>NaN</td>\n",
       "      <td>MUNI_GOV</td>\n",
       "      <td>Free</td>\n",
       "      <td>NaN</td>\n",
       "      <td>False</td>\n",
       "      <td>2017</td>\n",
       "      <td>02</td>\n",
       "      <td>15</td>\n",
       "      <td>2017-02</td>\n",
       "    </tr>\n",
       "    <tr>\n",
       "      <th>1</th>\n",
       "      <td>Fulford Community Hall</td>\n",
       "      <td>2591 Fulford-Ganges Rd</td>\n",
       "      <td>NaN</td>\n",
       "      <td>Salt Spring Island</td>\n",
       "      <td>V8K 1Z4</td>\n",
       "      <td>NaN</td>\n",
       "      <td>E</td>\n",
       "      <td>NaN</td>\n",
       "      <td>Public</td>\n",
       "      <td>24 hours daily</td>\n",
       "      <td>NaN</td>\n",
       "      <td>NaN</td>\n",
       "      <td>1.0</td>\n",
       "      <td>NaN</td>\n",
       "      <td>Non-Networked</td>\n",
       "      <td>NaN</td>\n",
       "      <td>GPS</td>\n",
       "      <td>48.772431</td>\n",
       "      <td>-123.465926</td>\n",
       "      <td>2022-08-09</td>\n",
       "      <td>83491</td>\n",
       "      <td>2022-08-09 21:18:29 UTC</td>\n",
       "      <td>P</td>\n",
       "      <td>2020-08-21</td>\n",
       "      <td>J1772</td>\n",
       "      <td>NaN</td>\n",
       "      <td>MUNI_GOV</td>\n",
       "      <td>Free</td>\n",
       "      <td>NaN</td>\n",
       "      <td>False</td>\n",
       "      <td>2020</td>\n",
       "      <td>08</td>\n",
       "      <td>21</td>\n",
       "      <td>2020-08</td>\n",
       "    </tr>\n",
       "    <tr>\n",
       "      <th>2</th>\n",
       "      <td>Poets Cove Resort and Spa</td>\n",
       "      <td>9801 Spalding Rd</td>\n",
       "      <td>NaN</td>\n",
       "      <td>Pender Island</td>\n",
       "      <td>V0N 2M3</td>\n",
       "      <td>250-629-2100</td>\n",
       "      <td>E</td>\n",
       "      <td>NaN</td>\n",
       "      <td>Public</td>\n",
       "      <td>24 hours daily</td>\n",
       "      <td>NaN</td>\n",
       "      <td>NaN</td>\n",
       "      <td>1.0</td>\n",
       "      <td>NaN</td>\n",
       "      <td>Non-Networked</td>\n",
       "      <td>NaN</td>\n",
       "      <td>200-9</td>\n",
       "      <td>48.748128</td>\n",
       "      <td>-123.227170</td>\n",
       "      <td>2022-08-09</td>\n",
       "      <td>83492</td>\n",
       "      <td>2022-08-09 21:18:29 UTC</td>\n",
       "      <td>P</td>\n",
       "      <td>2017-05-17</td>\n",
       "      <td>J1772</td>\n",
       "      <td>NaN</td>\n",
       "      <td>HOTEL</td>\n",
       "      <td>Free</td>\n",
       "      <td>NaN</td>\n",
       "      <td>False</td>\n",
       "      <td>2017</td>\n",
       "      <td>05</td>\n",
       "      <td>17</td>\n",
       "      <td>2017-05</td>\n",
       "    </tr>\n",
       "    <tr>\n",
       "      <th>3</th>\n",
       "      <td>City of Merritt - City Hall</td>\n",
       "      <td>2185 Voght St</td>\n",
       "      <td>Located on the front posts of the building</td>\n",
       "      <td>Merritt</td>\n",
       "      <td>V1K 1R6</td>\n",
       "      <td>250-378-4224</td>\n",
       "      <td>E</td>\n",
       "      <td>NaN</td>\n",
       "      <td>Public</td>\n",
       "      <td>24 hours daily</td>\n",
       "      <td>NaN</td>\n",
       "      <td>NaN</td>\n",
       "      <td>2.0</td>\n",
       "      <td>NaN</td>\n",
       "      <td>Non-Networked</td>\n",
       "      <td>NaN</td>\n",
       "      <td>200-9</td>\n",
       "      <td>50.112488</td>\n",
       "      <td>-120.788241</td>\n",
       "      <td>2022-07-08</td>\n",
       "      <td>83527</td>\n",
       "      <td>2022-07-08 16:02:07 UTC</td>\n",
       "      <td>P</td>\n",
       "      <td>2014-06-15</td>\n",
       "      <td>J1772</td>\n",
       "      <td>NaN</td>\n",
       "      <td>MUNI_GOV</td>\n",
       "      <td>Free</td>\n",
       "      <td>NaN</td>\n",
       "      <td>False</td>\n",
       "      <td>2014</td>\n",
       "      <td>06</td>\n",
       "      <td>15</td>\n",
       "      <td>2014-06</td>\n",
       "    </tr>\n",
       "    <tr>\n",
       "      <th>4</th>\n",
       "      <td>North Shore Kia</td>\n",
       "      <td>855 W 1st St</td>\n",
       "      <td>NaN</td>\n",
       "      <td>North Vancouver</td>\n",
       "      <td>V7P 1A4</td>\n",
       "      <td>NaN</td>\n",
       "      <td>E</td>\n",
       "      <td>NaN</td>\n",
       "      <td>Public - Call ahead</td>\n",
       "      <td>Dealership business hours</td>\n",
       "      <td>NaN</td>\n",
       "      <td>NaN</td>\n",
       "      <td>1.0</td>\n",
       "      <td>NaN</td>\n",
       "      <td>Non-Networked</td>\n",
       "      <td>NaN</td>\n",
       "      <td>GPS</td>\n",
       "      <td>49.317660</td>\n",
       "      <td>-123.096703</td>\n",
       "      <td>2022-04-13</td>\n",
       "      <td>83550</td>\n",
       "      <td>2022-04-26 16:04:15 UTC</td>\n",
       "      <td>P</td>\n",
       "      <td>2021-02-09</td>\n",
       "      <td>J1772</td>\n",
       "      <td>CALL</td>\n",
       "      <td>CAR_DEALER</td>\n",
       "      <td>Free</td>\n",
       "      <td>NaN</td>\n",
       "      <td>False</td>\n",
       "      <td>2021</td>\n",
       "      <td>02</td>\n",
       "      <td>09</td>\n",
       "      <td>2021-02</td>\n",
       "    </tr>\n",
       "    <tr>\n",
       "      <th>...</th>\n",
       "      <td>...</td>\n",
       "      <td>...</td>\n",
       "      <td>...</td>\n",
       "      <td>...</td>\n",
       "      <td>...</td>\n",
       "      <td>...</td>\n",
       "      <td>...</td>\n",
       "      <td>...</td>\n",
       "      <td>...</td>\n",
       "      <td>...</td>\n",
       "      <td>...</td>\n",
       "      <td>...</td>\n",
       "      <td>...</td>\n",
       "      <td>...</td>\n",
       "      <td>...</td>\n",
       "      <td>...</td>\n",
       "      <td>...</td>\n",
       "      <td>...</td>\n",
       "      <td>...</td>\n",
       "      <td>...</td>\n",
       "      <td>...</td>\n",
       "      <td>...</td>\n",
       "      <td>...</td>\n",
       "      <td>...</td>\n",
       "      <td>...</td>\n",
       "      <td>...</td>\n",
       "      <td>...</td>\n",
       "      <td>...</td>\n",
       "      <td>...</td>\n",
       "      <td>...</td>\n",
       "      <td>...</td>\n",
       "      <td>...</td>\n",
       "      <td>...</td>\n",
       "      <td>...</td>\n",
       "    </tr>\n",
       "    <tr>\n",
       "      <th>1661</th>\n",
       "      <td>Fort Rodd Hill -  National Historic Site - Tes...</td>\n",
       "      <td>603 Fort Rodd Hill Road</td>\n",
       "      <td>NaN</td>\n",
       "      <td>Victoria</td>\n",
       "      <td>V9C 2W8</td>\n",
       "      <td>250-478-5849  877-798-3752</td>\n",
       "      <td>E</td>\n",
       "      <td>NaN</td>\n",
       "      <td>Public</td>\n",
       "      <td>NaN</td>\n",
       "      <td>NaN</td>\n",
       "      <td>NaN</td>\n",
       "      <td>4.0</td>\n",
       "      <td>NaN</td>\n",
       "      <td>Tesla Destination</td>\n",
       "      <td>https://www.tesla.com/destination-charging</td>\n",
       "      <td>GPS</td>\n",
       "      <td>48.433730</td>\n",
       "      <td>-123.454080</td>\n",
       "      <td>2022-10-06</td>\n",
       "      <td>251057</td>\n",
       "      <td>2023-01-18 15:15:20 UTC</td>\n",
       "      <td>P</td>\n",
       "      <td>2021-01-16</td>\n",
       "      <td>J1772 TESLA</td>\n",
       "      <td>NaN</td>\n",
       "      <td>NaN</td>\n",
       "      <td>Free</td>\n",
       "      <td>NaN</td>\n",
       "      <td>NaN</td>\n",
       "      <td>2021</td>\n",
       "      <td>01</td>\n",
       "      <td>16</td>\n",
       "      <td>2021-01</td>\n",
       "    </tr>\n",
       "    <tr>\n",
       "      <th>1713</th>\n",
       "      <td>Regional District of Mount Waddington - Sointu...</td>\n",
       "      <td>120 13th Ave</td>\n",
       "      <td>Turn left off of ferry on to 1st Street until ...</td>\n",
       "      <td>Sointula</td>\n",
       "      <td>V0N 3E0</td>\n",
       "      <td>250-956-3301</td>\n",
       "      <td>E</td>\n",
       "      <td>NaN</td>\n",
       "      <td>Public</td>\n",
       "      <td>24 hours daily</td>\n",
       "      <td>NaN</td>\n",
       "      <td>NaN</td>\n",
       "      <td>1.0</td>\n",
       "      <td>NaN</td>\n",
       "      <td>Non-Networked</td>\n",
       "      <td>NaN</td>\n",
       "      <td>200-8</td>\n",
       "      <td>50.628050</td>\n",
       "      <td>-127.017650</td>\n",
       "      <td>2023-03-08</td>\n",
       "      <td>254291</td>\n",
       "      <td>2023-03-08 17:16:33 UTC</td>\n",
       "      <td>LG</td>\n",
       "      <td>2016-01-01</td>\n",
       "      <td>J1772</td>\n",
       "      <td>NaN</td>\n",
       "      <td>FIRE_STATION</td>\n",
       "      <td>Free</td>\n",
       "      <td>NaN</td>\n",
       "      <td>False</td>\n",
       "      <td>2016</td>\n",
       "      <td>01</td>\n",
       "      <td>01</td>\n",
       "      <td>2016-01</td>\n",
       "    </tr>\n",
       "    <tr>\n",
       "      <th>1714</th>\n",
       "      <td>Regional District of Mount Waddington - Coal H...</td>\n",
       "      <td>361 Albert Hole Rd</td>\n",
       "      <td>Upon entering Coal Harbour from Port Hardy, pr...</td>\n",
       "      <td>Coal Harbour</td>\n",
       "      <td>V0N 1K0</td>\n",
       "      <td>250-956-3301</td>\n",
       "      <td>E</td>\n",
       "      <td>NaN</td>\n",
       "      <td>Public</td>\n",
       "      <td>24 hours daily</td>\n",
       "      <td>NaN</td>\n",
       "      <td>NaN</td>\n",
       "      <td>1.0</td>\n",
       "      <td>NaN</td>\n",
       "      <td>Non-Networked</td>\n",
       "      <td>NaN</td>\n",
       "      <td>200-8</td>\n",
       "      <td>50.600590</td>\n",
       "      <td>-127.584350</td>\n",
       "      <td>2023-03-08</td>\n",
       "      <td>254292</td>\n",
       "      <td>2023-03-08 17:16:33 UTC</td>\n",
       "      <td>LG</td>\n",
       "      <td>2016-01-01</td>\n",
       "      <td>J1772</td>\n",
       "      <td>NaN</td>\n",
       "      <td>FIRE_STATION</td>\n",
       "      <td>Free</td>\n",
       "      <td>NaN</td>\n",
       "      <td>False</td>\n",
       "      <td>2016</td>\n",
       "      <td>01</td>\n",
       "      <td>01</td>\n",
       "      <td>2016-01</td>\n",
       "    </tr>\n",
       "    <tr>\n",
       "      <th>1715</th>\n",
       "      <td>Regional District Of Mount Waddington - Office...</td>\n",
       "      <td>2044 McNeill Rd</td>\n",
       "      <td>Off Hwy 19 at Port McNeill Junction and onto C...</td>\n",
       "      <td>Port Mcneill</td>\n",
       "      <td>V0N 2R0</td>\n",
       "      <td>250-956-3301</td>\n",
       "      <td>E</td>\n",
       "      <td>NaN</td>\n",
       "      <td>Public</td>\n",
       "      <td>24 hours daily</td>\n",
       "      <td>NaN</td>\n",
       "      <td>NaN</td>\n",
       "      <td>1.0</td>\n",
       "      <td>NaN</td>\n",
       "      <td>Non-Networked</td>\n",
       "      <td>NaN</td>\n",
       "      <td>200-8</td>\n",
       "      <td>50.584800</td>\n",
       "      <td>-127.079780</td>\n",
       "      <td>2023-03-08</td>\n",
       "      <td>254293</td>\n",
       "      <td>2023-03-08 17:16:33 UTC</td>\n",
       "      <td>LG</td>\n",
       "      <td>2013-03-15</td>\n",
       "      <td>J1772</td>\n",
       "      <td>NaN</td>\n",
       "      <td>OFFICE_BLDG</td>\n",
       "      <td>Free</td>\n",
       "      <td>NaN</td>\n",
       "      <td>False</td>\n",
       "      <td>2013</td>\n",
       "      <td>03</td>\n",
       "      <td>15</td>\n",
       "      <td>2013-03</td>\n",
       "    </tr>\n",
       "    <tr>\n",
       "      <th>1716</th>\n",
       "      <td>Chilton Arena EV Charging Station</td>\n",
       "      <td>2205 Campbell Way</td>\n",
       "      <td>Past Petro Canada .5km at the arena Marquis</td>\n",
       "      <td>Port Mcneill</td>\n",
       "      <td>V0N 2R0</td>\n",
       "      <td>250-956-3522</td>\n",
       "      <td>E</td>\n",
       "      <td>NaN</td>\n",
       "      <td>Public</td>\n",
       "      <td>24 hours daily</td>\n",
       "      <td>CREDIT</td>\n",
       "      <td>NaN</td>\n",
       "      <td>2.0</td>\n",
       "      <td>NaN</td>\n",
       "      <td>Non-Networked</td>\n",
       "      <td>NaN</td>\n",
       "      <td>200-8</td>\n",
       "      <td>50.582660</td>\n",
       "      <td>-127.076810</td>\n",
       "      <td>NaN</td>\n",
       "      <td>254294</td>\n",
       "      <td>2023-02-21 16:42:41 UTC</td>\n",
       "      <td>LG</td>\n",
       "      <td>2017-03-15</td>\n",
       "      <td>J1772</td>\n",
       "      <td>NaN</td>\n",
       "      <td>ARENA</td>\n",
       "      <td>$0.44 per minute above 60 kW and $0.22 per min...</td>\n",
       "      <td>NaN</td>\n",
       "      <td>False</td>\n",
       "      <td>2017</td>\n",
       "      <td>03</td>\n",
       "      <td>15</td>\n",
       "      <td>2017-03</td>\n",
       "    </tr>\n",
       "  </tbody>\n",
       "</table>\n",
       "<p>394 rows × 34 columns</p>\n",
       "</div>"
      ],
      "text/plain": [
       "                                           Station Name  \\\n",
       "0             City of Nanaimo - Underground Parking Lot   \n",
       "1                                Fulford Community Hall   \n",
       "2                             Poets Cove Resort and Spa   \n",
       "3                           City of Merritt - City Hall   \n",
       "4                                       North Shore Kia   \n",
       "...                                                 ...   \n",
       "1661  Fort Rodd Hill -  National Historic Site - Tes...   \n",
       "1713  Regional District of Mount Waddington - Sointu...   \n",
       "1714  Regional District of Mount Waddington - Coal H...   \n",
       "1715  Regional District Of Mount Waddington - Office...   \n",
       "1716                  Chilton Arena EV Charging Station   \n",
       "\n",
       "               Street Address  \\\n",
       "0               101 Gordon St   \n",
       "1      2591 Fulford-Ganges Rd   \n",
       "2            9801 Spalding Rd   \n",
       "3               2185 Voght St   \n",
       "4                855 W 1st St   \n",
       "...                       ...   \n",
       "1661  603 Fort Rodd Hill Road   \n",
       "1713             120 13th Ave   \n",
       "1714       361 Albert Hole Rd   \n",
       "1715          2044 McNeill Rd   \n",
       "1716        2205 Campbell Way   \n",
       "\n",
       "                                Intersection Directions                City  \\\n",
       "0                                                   NaN             Nanaimo   \n",
       "1                                                   NaN  Salt Spring Island   \n",
       "2                                                   NaN       Pender Island   \n",
       "3            Located on the front posts of the building             Merritt   \n",
       "4                                                   NaN     North Vancouver   \n",
       "...                                                 ...                 ...   \n",
       "1661                                                NaN            Victoria   \n",
       "1713  Turn left off of ferry on to 1st Street until ...            Sointula   \n",
       "1714  Upon entering Coal Harbour from Port Hardy, pr...        Coal Harbour   \n",
       "1715  Off Hwy 19 at Port McNeill Junction and onto C...        Port Mcneill   \n",
       "1716        Past Petro Canada .5km at the arena Marquis        Port Mcneill   \n",
       "\n",
       "          ZIP               Station Phone Status Code Expected Date  \\\n",
       "0     V9R 5J6                250-754-4251           E           NaN   \n",
       "1     V8K 1Z4                         NaN           E           NaN   \n",
       "2     V0N 2M3                250-629-2100           E           NaN   \n",
       "3     V1K 1R6                250-378-4224           E           NaN   \n",
       "4     V7P 1A4                         NaN           E           NaN   \n",
       "...       ...                         ...         ...           ...   \n",
       "1661  V9C 2W8  250-478-5849  877-798-3752           E           NaN   \n",
       "1713  V0N 3E0                250-956-3301           E           NaN   \n",
       "1714  V0N 1K0                250-956-3301           E           NaN   \n",
       "1715  V0N 2R0                250-956-3301           E           NaN   \n",
       "1716  V0N 2R0                250-956-3522           E           NaN   \n",
       "\n",
       "     Groups With Access Code           Access Days Time Cards Accepted  \\\n",
       "0                     Public             24 hours daily            NaN   \n",
       "1                     Public             24 hours daily            NaN   \n",
       "2                     Public             24 hours daily            NaN   \n",
       "3                     Public             24 hours daily            NaN   \n",
       "4        Public - Call ahead  Dealership business hours            NaN   \n",
       "...                      ...                        ...            ...   \n",
       "1661                  Public                        NaN            NaN   \n",
       "1713                  Public             24 hours daily            NaN   \n",
       "1714                  Public             24 hours daily            NaN   \n",
       "1715                  Public             24 hours daily            NaN   \n",
       "1716                  Public             24 hours daily         CREDIT   \n",
       "\n",
       "      EV Level1 EVSE Num  EV Level2 EVSE Num  EV DC Fast Count  \\\n",
       "0                    NaN                 2.0               NaN   \n",
       "1                    NaN                 1.0               NaN   \n",
       "2                    NaN                 1.0               NaN   \n",
       "3                    NaN                 2.0               NaN   \n",
       "4                    NaN                 1.0               NaN   \n",
       "...                  ...                 ...               ...   \n",
       "1661                 NaN                 4.0               NaN   \n",
       "1713                 NaN                 1.0               NaN   \n",
       "1714                 NaN                 1.0               NaN   \n",
       "1715                 NaN                 1.0               NaN   \n",
       "1716                 NaN                 2.0               NaN   \n",
       "\n",
       "             EV Network                              EV Network Web  \\\n",
       "0         Non-Networked                                         NaN   \n",
       "1         Non-Networked                                         NaN   \n",
       "2         Non-Networked                                         NaN   \n",
       "3         Non-Networked                                         NaN   \n",
       "4         Non-Networked                                         NaN   \n",
       "...                 ...                                         ...   \n",
       "1661  Tesla Destination  https://www.tesla.com/destination-charging   \n",
       "1713      Non-Networked                                         NaN   \n",
       "1714      Non-Networked                                         NaN   \n",
       "1715      Non-Networked                                         NaN   \n",
       "1716      Non-Networked                                         NaN   \n",
       "\n",
       "     Geocode Status   Latitude   Longitude Date Last Confirmed      ID  \\\n",
       "0             200-9  49.164770 -123.936147          2020-03-05   83426   \n",
       "1               GPS  48.772431 -123.465926          2022-08-09   83491   \n",
       "2             200-9  48.748128 -123.227170          2022-08-09   83492   \n",
       "3             200-9  50.112488 -120.788241          2022-07-08   83527   \n",
       "4               GPS  49.317660 -123.096703          2022-04-13   83550   \n",
       "...             ...        ...         ...                 ...     ...   \n",
       "1661            GPS  48.433730 -123.454080          2022-10-06  251057   \n",
       "1713          200-8  50.628050 -127.017650          2023-03-08  254291   \n",
       "1714          200-8  50.600590 -127.584350          2023-03-08  254292   \n",
       "1715          200-8  50.584800 -127.079780          2023-03-08  254293   \n",
       "1716          200-8  50.582660 -127.076810                 NaN  254294   \n",
       "\n",
       "                   Updated At Owner Type Code   Open Date EV Connector Types  \\\n",
       "0     2021-06-07 17:08:43 UTC               P  2017-02-15              J1772   \n",
       "1     2022-08-09 21:18:29 UTC               P  2020-08-21              J1772   \n",
       "2     2022-08-09 21:18:29 UTC               P  2017-05-17              J1772   \n",
       "3     2022-07-08 16:02:07 UTC               P  2014-06-15              J1772   \n",
       "4     2022-04-26 16:04:15 UTC               P  2021-02-09              J1772   \n",
       "...                       ...             ...         ...                ...   \n",
       "1661  2023-01-18 15:15:20 UTC               P  2021-01-16        J1772 TESLA   \n",
       "1713  2023-03-08 17:16:33 UTC              LG  2016-01-01              J1772   \n",
       "1714  2023-03-08 17:16:33 UTC              LG  2016-01-01              J1772   \n",
       "1715  2023-03-08 17:16:33 UTC              LG  2013-03-15              J1772   \n",
       "1716  2023-02-21 16:42:41 UTC              LG  2017-03-15              J1772   \n",
       "\n",
       "     Access Detail Code Facility Type  \\\n",
       "0                   NaN      MUNI_GOV   \n",
       "1                   NaN      MUNI_GOV   \n",
       "2                   NaN         HOTEL   \n",
       "3                   NaN      MUNI_GOV   \n",
       "4                  CALL    CAR_DEALER   \n",
       "...                 ...           ...   \n",
       "1661                NaN           NaN   \n",
       "1713                NaN  FIRE_STATION   \n",
       "1714                NaN  FIRE_STATION   \n",
       "1715                NaN   OFFICE_BLDG   \n",
       "1716                NaN         ARENA   \n",
       "\n",
       "                                             EV Pricing  \\\n",
       "0                                                  Free   \n",
       "1                                                  Free   \n",
       "2                                                  Free   \n",
       "3                                                  Free   \n",
       "4                                                  Free   \n",
       "...                                                 ...   \n",
       "1661                                               Free   \n",
       "1713                                               Free   \n",
       "1714                                               Free   \n",
       "1715                                               Free   \n",
       "1716  $0.44 per minute above 60 kW and $0.22 per min...   \n",
       "\n",
       "     EV On-Site Renewable Source Restricted Access  Year Month Day Open-Date  \n",
       "0                            NaN             False  2017    02  15   2017-02  \n",
       "1                            NaN             False  2020    08  21   2020-08  \n",
       "2                            NaN             False  2017    05  17   2017-05  \n",
       "3                            NaN             False  2014    06  15   2014-06  \n",
       "4                            NaN             False  2021    02  09   2021-02  \n",
       "...                          ...               ...   ...   ...  ..       ...  \n",
       "1661                         NaN               NaN  2021    01  16   2021-01  \n",
       "1713                         NaN             False  2016    01  01   2016-01  \n",
       "1714                         NaN             False  2016    01  01   2016-01  \n",
       "1715                         NaN             False  2013    03  15   2013-03  \n",
       "1716                         NaN             False  2017    03  15   2017-03  \n",
       "\n",
       "[394 rows x 34 columns]"
      ]
     },
     "execution_count": 150,
     "metadata": {},
     "output_type": "execute_result"
    }
   ],
   "source": [
    "df_pricing"
   ]
  },
  {
   "cell_type": "code",
   "execution_count": 151,
   "id": "124c7c3a-60b3-4a04-bc96-9825790f9ae2",
   "metadata": {},
   "outputs": [
    {
     "name": "stderr",
     "output_type": "stream",
     "text": [
      "/var/folders/dq/3qj0hnk53pb8rjp2l_k7zby80000gn/T/ipykernel_98090/2080937377.py:7: SettingWithCopyWarning:\n",
      "\n",
      "\n",
      "A value is trying to be set on a copy of a slice from a DataFrame.\n",
      "Try using .loc[row_indexer,col_indexer] = value instead\n",
      "\n",
      "See the caveats in the documentation: https://pandas.pydata.org/pandas-docs/stable/user_guide/indexing.html#returning-a-view-versus-a-copy\n",
      "\n",
      "/var/folders/dq/3qj0hnk53pb8rjp2l_k7zby80000gn/T/ipykernel_98090/2080937377.py:11: SettingWithCopyWarning:\n",
      "\n",
      "\n",
      "A value is trying to be set on a copy of a slice from a DataFrame.\n",
      "Try using .loc[row_indexer,col_indexer] = value instead\n",
      "\n",
      "See the caveats in the documentation: https://pandas.pydata.org/pandas-docs/stable/user_guide/indexing.html#returning-a-view-versus-a-copy\n",
      "\n",
      "/var/folders/dq/3qj0hnk53pb8rjp2l_k7zby80000gn/T/ipykernel_98090/2080937377.py:15: SettingWithCopyWarning:\n",
      "\n",
      "\n",
      "A value is trying to be set on a copy of a slice from a DataFrame.\n",
      "Try using .loc[row_indexer,col_indexer] = value instead\n",
      "\n",
      "See the caveats in the documentation: https://pandas.pydata.org/pandas-docs/stable/user_guide/indexing.html#returning-a-view-versus-a-copy\n",
      "\n",
      "/var/folders/dq/3qj0hnk53pb8rjp2l_k7zby80000gn/T/ipykernel_98090/2080937377.py:22: SettingWithCopyWarning:\n",
      "\n",
      "\n",
      "A value is trying to be set on a copy of a slice from a DataFrame.\n",
      "Try using .loc[row_indexer,col_indexer] = value instead\n",
      "\n",
      "See the caveats in the documentation: https://pandas.pydata.org/pandas-docs/stable/user_guide/indexing.html#returning-a-view-versus-a-copy\n",
      "\n",
      "/var/folders/dq/3qj0hnk53pb8rjp2l_k7zby80000gn/T/ipykernel_98090/2080937377.py:26: SettingWithCopyWarning:\n",
      "\n",
      "\n",
      "A value is trying to be set on a copy of a slice from a DataFrame.\n",
      "Try using .loc[row_indexer,col_indexer] = value instead\n",
      "\n",
      "See the caveats in the documentation: https://pandas.pydata.org/pandas-docs/stable/user_guide/indexing.html#returning-a-view-versus-a-copy\n",
      "\n",
      "/var/folders/dq/3qj0hnk53pb8rjp2l_k7zby80000gn/T/ipykernel_98090/2080937377.py:32: SettingWithCopyWarning:\n",
      "\n",
      "\n",
      "A value is trying to be set on a copy of a slice from a DataFrame.\n",
      "Try using .loc[row_indexer,col_indexer] = value instead\n",
      "\n",
      "See the caveats in the documentation: https://pandas.pydata.org/pandas-docs/stable/user_guide/indexing.html#returning-a-view-versus-a-copy\n",
      "\n",
      "/opt/anaconda3/lib/python3.8/site-packages/pandas/core/indexing.py:1817: SettingWithCopyWarning:\n",
      "\n",
      "\n",
      "A value is trying to be set on a copy of a slice from a DataFrame.\n",
      "Try using .loc[row_indexer,col_indexer] = value instead\n",
      "\n",
      "See the caveats in the documentation: https://pandas.pydata.org/pandas-docs/stable/user_guide/indexing.html#returning-a-view-versus-a-copy\n",
      "\n"
     ]
    },
    {
     "data": {
      "text/plain": [
       "Free                                                                   261\n",
       "$0.44 per minute above 60 kW and $0.22 per minute at or below 60 kW     43\n",
       "$0.21 per minute                                                        37\n",
       "Free; parking fee required                                              19\n",
       "$0.27 per minute                                                        12\n",
       "$3 per hour                                                             11\n",
       "$1.50 per hour                                                          11\n",
       "Name: EV Pricing, dtype: int64"
      ]
     },
     "execution_count": 151,
     "metadata": {},
     "output_type": "execute_result"
    }
   ],
   "source": [
    "# Some small data cleaning to improve consistency and bin similar EV stations by category.\n",
    "\n",
    "# Removing rows with missing price data\n",
    "df_pricing = df.dropna(subset=['EV Pricing'])\n",
    "\n",
    "# Replacing rows with aspects of Free to general category free\n",
    "df_pricing['EV Pricing'] = df_pricing['EV Pricing'].replace(['FREE',\n",
    "                                             'Free; donations accepted','Free for guests'], 'Free')\n",
    "\n",
    "# Replacing rows with aspects of per minute kwh with general category $0.44/$0.22 per minute\n",
    "df_pricing['EV Pricing'] = df_pricing['EV Pricing'].replace(['$0.35 per kWh',\n",
    "                                                             '0.18 cents per kW'], '$0.44 per minute above 60 kW and $0.22 per minute at or below 60 kW')\n",
    "\n",
    "# Replacing rows close to or related to general category of $0.21 per minute. \n",
    "df_pricing['EV Pricing'] = df_pricing['EV Pricing'].replace(['$0.2113 per minute',\n",
    "                                             'DCFC: $0.21 per minute; L2: Free',\n",
    "                                            '$0.2113 (CAD) per minute plus tax',\n",
    "                                            'DCFC: $0.21 per minute'\n",
    "                                            ], '$0.21 per minute')\n",
    "\n",
    "# Replacing rows close to $0.27 per minute\n",
    "df_pricing['EV Pricing'] = df_pricing['EV Pricing'].replace(['$0.30 per minute','$15 per hour',\n",
    "                                             'L2: Free; DC Fast: $0.27 per minute','Free for guests'], '$0.27 per minute')\n",
    "\n",
    "# Replacing rows close to $3 per hour\n",
    "df_pricing['EV Pricing'] = df_pricing['EV Pricing'].replace(['$3 per hour first 4 hours, $6 per hour for any additional hours',\n",
    "                                             '$3.50 per hour for first hour, $4 per hour after',\n",
    "                                            'Free for first two hours; $3 per hour thereafter',\n",
    "                                            '$5 per session'], '$3 per hour')\n",
    "\n",
    "# Replacing rows close to $1.50 per hour\n",
    "df_pricing['EV Pricing'] = df_pricing['EV Pricing'].replace(['$1 per hour',\n",
    "                                             '$1.00 per hour','$1.25 per hour','$2 per hour',\n",
    "                                            'DC fast: $0.35 per kWh; $2 minimum','$0.21 per hour'], '$1.50 per hour')\n",
    "\n",
    "# Converting rows with the term Fee or fee in them to Free, with parking required\n",
    "df_pricing.loc[df_pricing['EV Pricing'].str.contains('Fee'), 'EV Pricing'] = 'Free; parking fee required'\n",
    "df_pricing.loc[df_pricing['EV Pricing'].str.contains('fee'), 'EV Pricing'] = 'Free; parking fee required'\n",
    "\n",
    "df_pricing['EV Pricing'].value_counts()"
   ]
  },
  {
   "cell_type": "code",
   "execution_count": 152,
   "id": "42230351-2044-47d5-bee2-74df04138d89",
   "metadata": {},
   "outputs": [
    {
     "data": {
      "application/vnd.plotly.v1+json": {
       "config": {
        "plotlyServerURL": "https://plot.ly"
       },
       "data": [
        {
         "domain": {
          "x": [
           0,
           1
          ],
          "y": [
           0,
           1
          ]
         },
         "hovertemplate": "Category=%{label}<br>EV Pricing=%{value}<extra></extra>",
         "labels": [
          "Free",
          "$0.44 per minute above 60 kW and $0.22 per minute at or below 60 kW",
          "$0.21 per minute",
          "Free; parking fee required",
          "$0.27 per minute",
          "$3 per hour",
          "$1.50 per hour"
         ],
         "legendgroup": "",
         "name": "",
         "showlegend": true,
         "type": "pie",
         "values": [
          261,
          43,
          37,
          19,
          12,
          11,
          11
         ]
        }
       ],
       "layout": {
        "autosize": true,
        "legend": {
         "tracegroupgap": 0
        },
        "template": {
         "data": {
          "bar": [
           {
            "error_x": {
             "color": "#2a3f5f"
            },
            "error_y": {
             "color": "#2a3f5f"
            },
            "marker": {
             "line": {
              "color": "#E5ECF6",
              "width": 0.5
             },
             "pattern": {
              "fillmode": "overlay",
              "size": 10,
              "solidity": 0.2
             }
            },
            "type": "bar"
           }
          ],
          "barpolar": [
           {
            "marker": {
             "line": {
              "color": "#E5ECF6",
              "width": 0.5
             },
             "pattern": {
              "fillmode": "overlay",
              "size": 10,
              "solidity": 0.2
             }
            },
            "type": "barpolar"
           }
          ],
          "carpet": [
           {
            "aaxis": {
             "endlinecolor": "#2a3f5f",
             "gridcolor": "white",
             "linecolor": "white",
             "minorgridcolor": "white",
             "startlinecolor": "#2a3f5f"
            },
            "baxis": {
             "endlinecolor": "#2a3f5f",
             "gridcolor": "white",
             "linecolor": "white",
             "minorgridcolor": "white",
             "startlinecolor": "#2a3f5f"
            },
            "type": "carpet"
           }
          ],
          "choropleth": [
           {
            "colorbar": {
             "outlinewidth": 0,
             "ticks": ""
            },
            "type": "choropleth"
           }
          ],
          "contour": [
           {
            "colorbar": {
             "outlinewidth": 0,
             "ticks": ""
            },
            "colorscale": [
             [
              0,
              "#0d0887"
             ],
             [
              0.1111111111111111,
              "#46039f"
             ],
             [
              0.2222222222222222,
              "#7201a8"
             ],
             [
              0.3333333333333333,
              "#9c179e"
             ],
             [
              0.4444444444444444,
              "#bd3786"
             ],
             [
              0.5555555555555556,
              "#d8576b"
             ],
             [
              0.6666666666666666,
              "#ed7953"
             ],
             [
              0.7777777777777778,
              "#fb9f3a"
             ],
             [
              0.8888888888888888,
              "#fdca26"
             ],
             [
              1,
              "#f0f921"
             ]
            ],
            "type": "contour"
           }
          ],
          "contourcarpet": [
           {
            "colorbar": {
             "outlinewidth": 0,
             "ticks": ""
            },
            "type": "contourcarpet"
           }
          ],
          "heatmap": [
           {
            "colorbar": {
             "outlinewidth": 0,
             "ticks": ""
            },
            "colorscale": [
             [
              0,
              "#0d0887"
             ],
             [
              0.1111111111111111,
              "#46039f"
             ],
             [
              0.2222222222222222,
              "#7201a8"
             ],
             [
              0.3333333333333333,
              "#9c179e"
             ],
             [
              0.4444444444444444,
              "#bd3786"
             ],
             [
              0.5555555555555556,
              "#d8576b"
             ],
             [
              0.6666666666666666,
              "#ed7953"
             ],
             [
              0.7777777777777778,
              "#fb9f3a"
             ],
             [
              0.8888888888888888,
              "#fdca26"
             ],
             [
              1,
              "#f0f921"
             ]
            ],
            "type": "heatmap"
           }
          ],
          "heatmapgl": [
           {
            "colorbar": {
             "outlinewidth": 0,
             "ticks": ""
            },
            "colorscale": [
             [
              0,
              "#0d0887"
             ],
             [
              0.1111111111111111,
              "#46039f"
             ],
             [
              0.2222222222222222,
              "#7201a8"
             ],
             [
              0.3333333333333333,
              "#9c179e"
             ],
             [
              0.4444444444444444,
              "#bd3786"
             ],
             [
              0.5555555555555556,
              "#d8576b"
             ],
             [
              0.6666666666666666,
              "#ed7953"
             ],
             [
              0.7777777777777778,
              "#fb9f3a"
             ],
             [
              0.8888888888888888,
              "#fdca26"
             ],
             [
              1,
              "#f0f921"
             ]
            ],
            "type": "heatmapgl"
           }
          ],
          "histogram": [
           {
            "marker": {
             "pattern": {
              "fillmode": "overlay",
              "size": 10,
              "solidity": 0.2
             }
            },
            "type": "histogram"
           }
          ],
          "histogram2d": [
           {
            "colorbar": {
             "outlinewidth": 0,
             "ticks": ""
            },
            "colorscale": [
             [
              0,
              "#0d0887"
             ],
             [
              0.1111111111111111,
              "#46039f"
             ],
             [
              0.2222222222222222,
              "#7201a8"
             ],
             [
              0.3333333333333333,
              "#9c179e"
             ],
             [
              0.4444444444444444,
              "#bd3786"
             ],
             [
              0.5555555555555556,
              "#d8576b"
             ],
             [
              0.6666666666666666,
              "#ed7953"
             ],
             [
              0.7777777777777778,
              "#fb9f3a"
             ],
             [
              0.8888888888888888,
              "#fdca26"
             ],
             [
              1,
              "#f0f921"
             ]
            ],
            "type": "histogram2d"
           }
          ],
          "histogram2dcontour": [
           {
            "colorbar": {
             "outlinewidth": 0,
             "ticks": ""
            },
            "colorscale": [
             [
              0,
              "#0d0887"
             ],
             [
              0.1111111111111111,
              "#46039f"
             ],
             [
              0.2222222222222222,
              "#7201a8"
             ],
             [
              0.3333333333333333,
              "#9c179e"
             ],
             [
              0.4444444444444444,
              "#bd3786"
             ],
             [
              0.5555555555555556,
              "#d8576b"
             ],
             [
              0.6666666666666666,
              "#ed7953"
             ],
             [
              0.7777777777777778,
              "#fb9f3a"
             ],
             [
              0.8888888888888888,
              "#fdca26"
             ],
             [
              1,
              "#f0f921"
             ]
            ],
            "type": "histogram2dcontour"
           }
          ],
          "mesh3d": [
           {
            "colorbar": {
             "outlinewidth": 0,
             "ticks": ""
            },
            "type": "mesh3d"
           }
          ],
          "parcoords": [
           {
            "line": {
             "colorbar": {
              "outlinewidth": 0,
              "ticks": ""
             }
            },
            "type": "parcoords"
           }
          ],
          "pie": [
           {
            "automargin": true,
            "type": "pie"
           }
          ],
          "scatter": [
           {
            "marker": {
             "colorbar": {
              "outlinewidth": 0,
              "ticks": ""
             }
            },
            "type": "scatter"
           }
          ],
          "scatter3d": [
           {
            "line": {
             "colorbar": {
              "outlinewidth": 0,
              "ticks": ""
             }
            },
            "marker": {
             "colorbar": {
              "outlinewidth": 0,
              "ticks": ""
             }
            },
            "type": "scatter3d"
           }
          ],
          "scattercarpet": [
           {
            "marker": {
             "colorbar": {
              "outlinewidth": 0,
              "ticks": ""
             }
            },
            "type": "scattercarpet"
           }
          ],
          "scattergeo": [
           {
            "marker": {
             "colorbar": {
              "outlinewidth": 0,
              "ticks": ""
             }
            },
            "type": "scattergeo"
           }
          ],
          "scattergl": [
           {
            "marker": {
             "colorbar": {
              "outlinewidth": 0,
              "ticks": ""
             }
            },
            "type": "scattergl"
           }
          ],
          "scattermapbox": [
           {
            "marker": {
             "colorbar": {
              "outlinewidth": 0,
              "ticks": ""
             }
            },
            "type": "scattermapbox"
           }
          ],
          "scatterpolar": [
           {
            "marker": {
             "colorbar": {
              "outlinewidth": 0,
              "ticks": ""
             }
            },
            "type": "scatterpolar"
           }
          ],
          "scatterpolargl": [
           {
            "marker": {
             "colorbar": {
              "outlinewidth": 0,
              "ticks": ""
             }
            },
            "type": "scatterpolargl"
           }
          ],
          "scatterternary": [
           {
            "marker": {
             "colorbar": {
              "outlinewidth": 0,
              "ticks": ""
             }
            },
            "type": "scatterternary"
           }
          ],
          "surface": [
           {
            "colorbar": {
             "outlinewidth": 0,
             "ticks": ""
            },
            "colorscale": [
             [
              0,
              "#0d0887"
             ],
             [
              0.1111111111111111,
              "#46039f"
             ],
             [
              0.2222222222222222,
              "#7201a8"
             ],
             [
              0.3333333333333333,
              "#9c179e"
             ],
             [
              0.4444444444444444,
              "#bd3786"
             ],
             [
              0.5555555555555556,
              "#d8576b"
             ],
             [
              0.6666666666666666,
              "#ed7953"
             ],
             [
              0.7777777777777778,
              "#fb9f3a"
             ],
             [
              0.8888888888888888,
              "#fdca26"
             ],
             [
              1,
              "#f0f921"
             ]
            ],
            "type": "surface"
           }
          ],
          "table": [
           {
            "cells": {
             "fill": {
              "color": "#EBF0F8"
             },
             "line": {
              "color": "white"
             }
            },
            "header": {
             "fill": {
              "color": "#C8D4E3"
             },
             "line": {
              "color": "white"
             }
            },
            "type": "table"
           }
          ]
         },
         "layout": {
          "annotationdefaults": {
           "arrowcolor": "#2a3f5f",
           "arrowhead": 0,
           "arrowwidth": 1
          },
          "autotypenumbers": "strict",
          "coloraxis": {
           "colorbar": {
            "outlinewidth": 0,
            "ticks": ""
           }
          },
          "colorscale": {
           "diverging": [
            [
             0,
             "#8e0152"
            ],
            [
             0.1,
             "#c51b7d"
            ],
            [
             0.2,
             "#de77ae"
            ],
            [
             0.3,
             "#f1b6da"
            ],
            [
             0.4,
             "#fde0ef"
            ],
            [
             0.5,
             "#f7f7f7"
            ],
            [
             0.6,
             "#e6f5d0"
            ],
            [
             0.7,
             "#b8e186"
            ],
            [
             0.8,
             "#7fbc41"
            ],
            [
             0.9,
             "#4d9221"
            ],
            [
             1,
             "#276419"
            ]
           ],
           "sequential": [
            [
             0,
             "#0d0887"
            ],
            [
             0.1111111111111111,
             "#46039f"
            ],
            [
             0.2222222222222222,
             "#7201a8"
            ],
            [
             0.3333333333333333,
             "#9c179e"
            ],
            [
             0.4444444444444444,
             "#bd3786"
            ],
            [
             0.5555555555555556,
             "#d8576b"
            ],
            [
             0.6666666666666666,
             "#ed7953"
            ],
            [
             0.7777777777777778,
             "#fb9f3a"
            ],
            [
             0.8888888888888888,
             "#fdca26"
            ],
            [
             1,
             "#f0f921"
            ]
           ],
           "sequentialminus": [
            [
             0,
             "#0d0887"
            ],
            [
             0.1111111111111111,
             "#46039f"
            ],
            [
             0.2222222222222222,
             "#7201a8"
            ],
            [
             0.3333333333333333,
             "#9c179e"
            ],
            [
             0.4444444444444444,
             "#bd3786"
            ],
            [
             0.5555555555555556,
             "#d8576b"
            ],
            [
             0.6666666666666666,
             "#ed7953"
            ],
            [
             0.7777777777777778,
             "#fb9f3a"
            ],
            [
             0.8888888888888888,
             "#fdca26"
            ],
            [
             1,
             "#f0f921"
            ]
           ]
          },
          "colorway": [
           "#636efa",
           "#EF553B",
           "#00cc96",
           "#ab63fa",
           "#FFA15A",
           "#19d3f3",
           "#FF6692",
           "#B6E880",
           "#FF97FF",
           "#FECB52"
          ],
          "font": {
           "color": "#2a3f5f"
          },
          "geo": {
           "bgcolor": "white",
           "lakecolor": "white",
           "landcolor": "#E5ECF6",
           "showlakes": true,
           "showland": true,
           "subunitcolor": "white"
          },
          "hoverlabel": {
           "align": "left"
          },
          "hovermode": "closest",
          "mapbox": {
           "style": "light"
          },
          "paper_bgcolor": "white",
          "plot_bgcolor": "#E5ECF6",
          "polar": {
           "angularaxis": {
            "gridcolor": "white",
            "linecolor": "white",
            "ticks": ""
           },
           "bgcolor": "#E5ECF6",
           "radialaxis": {
            "gridcolor": "white",
            "linecolor": "white",
            "ticks": ""
           }
          },
          "scene": {
           "xaxis": {
            "backgroundcolor": "#E5ECF6",
            "gridcolor": "white",
            "gridwidth": 2,
            "linecolor": "white",
            "showbackground": true,
            "ticks": "",
            "zerolinecolor": "white"
           },
           "yaxis": {
            "backgroundcolor": "#E5ECF6",
            "gridcolor": "white",
            "gridwidth": 2,
            "linecolor": "white",
            "showbackground": true,
            "ticks": "",
            "zerolinecolor": "white"
           },
           "zaxis": {
            "backgroundcolor": "#E5ECF6",
            "gridcolor": "white",
            "gridwidth": 2,
            "linecolor": "white",
            "showbackground": true,
            "ticks": "",
            "zerolinecolor": "white"
           }
          },
          "shapedefaults": {
           "line": {
            "color": "#2a3f5f"
           }
          },
          "ternary": {
           "aaxis": {
            "gridcolor": "white",
            "linecolor": "white",
            "ticks": ""
           },
           "baxis": {
            "gridcolor": "white",
            "linecolor": "white",
            "ticks": ""
           },
           "bgcolor": "#E5ECF6",
           "caxis": {
            "gridcolor": "white",
            "linecolor": "white",
            "ticks": ""
           }
          },
          "title": {
           "x": 0.05
          },
          "xaxis": {
           "automargin": true,
           "gridcolor": "white",
           "linecolor": "white",
           "ticks": "",
           "title": {
            "standoff": 15
           },
           "zerolinecolor": "white",
           "zerolinewidth": 2
          },
          "yaxis": {
           "automargin": true,
           "gridcolor": "white",
           "linecolor": "white",
           "ticks": "",
           "title": {
            "standoff": 15
           },
           "zerolinecolor": "white",
           "zerolinewidth": 2
          }
         }
        },
        "title": {
         "text": "EV Pricing across BC"
        }
       }
      },
      "image/png": "[encoded data removed]",
      "text/html": [
       "<div>                            <div id=\"7e973d44-708f-44db-ba1d-4e3828c781c7\" class=\"plotly-graph-div\" style=\"height:525px; width:100%;\"></div>            <script type=\"text/javascript\">                require([\"plotly\"], function(Plotly) {                    window.PLOTLYENV=window.PLOTLYENV || {};                                    if (document.getElementById(\"7e973d44-708f-44db-ba1d-4e3828c781c7\")) {                    Plotly.newPlot(                        \"7e973d44-708f-44db-ba1d-4e3828c781c7\",                        [{\"domain\":{\"x\":[0.0,1.0],\"y\":[0.0,1.0]},\"hovertemplate\":\"Category=%{label}<br>EV Pricing=%{value}<extra></extra>\",\"labels\":[\"Free\",\"$0.44 per minute above 60 kW and $0.22 per minute at or below 60 kW\",\"$0.21 per minute\",\"Free; parking fee required\",\"$0.27 per minute\",\"$3 per hour\",\"$1.50 per hour\"],\"legendgroup\":\"\",\"name\":\"\",\"showlegend\":true,\"values\":[261,43,37,19,12,11,11],\"type\":\"pie\"}],                        {\"template\":{\"data\":{\"bar\":[{\"error_x\":{\"color\":\"#2a3f5f\"},\"error_y\":{\"color\":\"#2a3f5f\"},\"marker\":{\"line\":{\"color\":\"#E5ECF6\",\"width\":0.5},\"pattern\":{\"fillmode\":\"overlay\",\"size\":10,\"solidity\":0.2}},\"type\":\"bar\"}],\"barpolar\":[{\"marker\":{\"line\":{\"color\":\"#E5ECF6\",\"width\":0.5},\"pattern\":{\"fillmode\":\"overlay\",\"size\":10,\"solidity\":0.2}},\"type\":\"barpolar\"}],\"carpet\":[{\"aaxis\":{\"endlinecolor\":\"#2a3f5f\",\"gridcolor\":\"white\",\"linecolor\":\"white\",\"minorgridcolor\":\"white\",\"startlinecolor\":\"#2a3f5f\"},\"baxis\":{\"endlinecolor\":\"#2a3f5f\",\"gridcolor\":\"white\",\"linecolor\":\"white\",\"minorgridcolor\":\"white\",\"startlinecolor\":\"#2a3f5f\"},\"type\":\"carpet\"}],\"choropleth\":[{\"colorbar\":{\"outlinewidth\":0,\"ticks\":\"\"},\"type\":\"choropleth\"}],\"contour\":[{\"colorbar\":{\"outlinewidth\":0,\"ticks\":\"\"},\"colorscale\":[[0.0,\"#0d0887\"],[0.1111111111111111,\"#46039f\"],[0.2222222222222222,\"#7201a8\"],[0.3333333333333333,\"#9c179e\"],[0.4444444444444444,\"#bd3786\"],[0.5555555555555556,\"#d8576b\"],[0.6666666666666666,\"#ed7953\"],[0.7777777777777778,\"#fb9f3a\"],[0.8888888888888888,\"#fdca26\"],[1.0,\"#f0f921\"]],\"type\":\"contour\"}],\"contourcarpet\":[{\"colorbar\":{\"outlinewidth\":0,\"ticks\":\"\"},\"type\":\"contourcarpet\"}],\"heatmap\":[{\"colorbar\":{\"outlinewidth\":0,\"ticks\":\"\"},\"colorscale\":[[0.0,\"#0d0887\"],[0.1111111111111111,\"#46039f\"],[0.2222222222222222,\"#7201a8\"],[0.3333333333333333,\"#9c179e\"],[0.4444444444444444,\"#bd3786\"],[0.5555555555555556,\"#d8576b\"],[0.6666666666666666,\"#ed7953\"],[0.7777777777777778,\"#fb9f3a\"],[0.8888888888888888,\"#fdca26\"],[1.0,\"#f0f921\"]],\"type\":\"heatmap\"}],\"heatmapgl\":[{\"colorbar\":{\"outlinewidth\":0,\"ticks\":\"\"},\"colorscale\":[[0.0,\"#0d0887\"],[0.1111111111111111,\"#46039f\"],[0.2222222222222222,\"#7201a8\"],[0.3333333333333333,\"#9c179e\"],[0.4444444444444444,\"#bd3786\"],[0.5555555555555556,\"#d8576b\"],[0.6666666666666666,\"#ed7953\"],[0.7777777777777778,\"#fb9f3a\"],[0.8888888888888888,\"#fdca26\"],[1.0,\"#f0f921\"]],\"type\":\"heatmapgl\"}],\"histogram\":[{\"marker\":{\"pattern\":{\"fillmode\":\"overlay\",\"size\":10,\"solidity\":0.2}},\"type\":\"histogram\"}],\"histogram2d\":[{\"colorbar\":{\"outlinewidth\":0,\"ticks\":\"\"},\"colorscale\":[[0.0,\"#0d0887\"],[0.1111111111111111,\"#46039f\"],[0.2222222222222222,\"#7201a8\"],[0.3333333333333333,\"#9c179e\"],[0.4444444444444444,\"#bd3786\"],[0.5555555555555556,\"#d8576b\"],[0.6666666666666666,\"#ed7953\"],[0.7777777777777778,\"#fb9f3a\"],[0.8888888888888888,\"#fdca26\"],[1.0,\"#f0f921\"]],\"type\":\"histogram2d\"}],\"histogram2dcontour\":[{\"colorbar\":{\"outlinewidth\":0,\"ticks\":\"\"},\"colorscale\":[[0.0,\"#0d0887\"],[0.1111111111111111,\"#46039f\"],[0.2222222222222222,\"#7201a8\"],[0.3333333333333333,\"#9c179e\"],[0.4444444444444444,\"#bd3786\"],[0.5555555555555556,\"#d8576b\"],[0.6666666666666666,\"#ed7953\"],[0.7777777777777778,\"#fb9f3a\"],[0.8888888888888888,\"#fdca26\"],[1.0,\"#f0f921\"]],\"type\":\"histogram2dcontour\"}],\"mesh3d\":[{\"colorbar\":{\"outlinewidth\":0,\"ticks\":\"\"},\"type\":\"mesh3d\"}],\"parcoords\":[{\"line\":{\"colorbar\":{\"outlinewidth\":0,\"ticks\":\"\"}},\"type\":\"parcoords\"}],\"pie\":[{\"automargin\":true,\"type\":\"pie\"}],\"scatter\":[{\"marker\":{\"colorbar\":{\"outlinewidth\":0,\"ticks\":\"\"}},\"type\":\"scatter\"}],\"scatter3d\":[{\"line\":{\"colorbar\":{\"outlinewidth\":0,\"ticks\":\"\"}},\"marker\":{\"colorbar\":{\"outlinewidth\":0,\"ticks\":\"\"}},\"type\":\"scatter3d\"}],\"scattercarpet\":[{\"marker\":{\"colorbar\":{\"outlinewidth\":0,\"ticks\":\"\"}},\"type\":\"scattercarpet\"}],\"scattergeo\":[{\"marker\":{\"colorbar\":{\"outlinewidth\":0,\"ticks\":\"\"}},\"type\":\"scattergeo\"}],\"scattergl\":[{\"marker\":{\"colorbar\":{\"outlinewidth\":0,\"ticks\":\"\"}},\"type\":\"scattergl\"}],\"scattermapbox\":[{\"marker\":{\"colorbar\":{\"outlinewidth\":0,\"ticks\":\"\"}},\"type\":\"scattermapbox\"}],\"scatterpolar\":[{\"marker\":{\"colorbar\":{\"outlinewidth\":0,\"ticks\":\"\"}},\"type\":\"scatterpolar\"}],\"scatterpolargl\":[{\"marker\":{\"colorbar\":{\"outlinewidth\":0,\"ticks\":\"\"}},\"type\":\"scatterpolargl\"}],\"scatterternary\":[{\"marker\":{\"colorbar\":{\"outlinewidth\":0,\"ticks\":\"\"}},\"type\":\"scatterternary\"}],\"surface\":[{\"colorbar\":{\"outlinewidth\":0,\"ticks\":\"\"},\"colorscale\":[[0.0,\"#0d0887\"],[0.1111111111111111,\"#46039f\"],[0.2222222222222222,\"#7201a8\"],[0.3333333333333333,\"#9c179e\"],[0.4444444444444444,\"#bd3786\"],[0.5555555555555556,\"#d8576b\"],[0.6666666666666666,\"#ed7953\"],[0.7777777777777778,\"#fb9f3a\"],[0.8888888888888888,\"#fdca26\"],[1.0,\"#f0f921\"]],\"type\":\"surface\"}],\"table\":[{\"cells\":{\"fill\":{\"color\":\"#EBF0F8\"},\"line\":{\"color\":\"white\"}},\"header\":{\"fill\":{\"color\":\"#C8D4E3\"},\"line\":{\"color\":\"white\"}},\"type\":\"table\"}]},\"layout\":{\"annotationdefaults\":{\"arrowcolor\":\"#2a3f5f\",\"arrowhead\":0,\"arrowwidth\":1},\"autotypenumbers\":\"strict\",\"coloraxis\":{\"colorbar\":{\"outlinewidth\":0,\"ticks\":\"\"}},\"colorscale\":{\"diverging\":[[0,\"#8e0152\"],[0.1,\"#c51b7d\"],[0.2,\"#de77ae\"],[0.3,\"#f1b6da\"],[0.4,\"#fde0ef\"],[0.5,\"#f7f7f7\"],[0.6,\"#e6f5d0\"],[0.7,\"#b8e186\"],[0.8,\"#7fbc41\"],[0.9,\"#4d9221\"],[1,\"#276419\"]],\"sequential\":[[0.0,\"#0d0887\"],[0.1111111111111111,\"#46039f\"],[0.2222222222222222,\"#7201a8\"],[0.3333333333333333,\"#9c179e\"],[0.4444444444444444,\"#bd3786\"],[0.5555555555555556,\"#d8576b\"],[0.6666666666666666,\"#ed7953\"],[0.7777777777777778,\"#fb9f3a\"],[0.8888888888888888,\"#fdca26\"],[1.0,\"#f0f921\"]],\"sequentialminus\":[[0.0,\"#0d0887\"],[0.1111111111111111,\"#46039f\"],[0.2222222222222222,\"#7201a8\"],[0.3333333333333333,\"#9c179e\"],[0.4444444444444444,\"#bd3786\"],[0.5555555555555556,\"#d8576b\"],[0.6666666666666666,\"#ed7953\"],[0.7777777777777778,\"#fb9f3a\"],[0.8888888888888888,\"#fdca26\"],[1.0,\"#f0f921\"]]},\"colorway\":[\"#636efa\",\"#EF553B\",\"#00cc96\",\"#ab63fa\",\"#FFA15A\",\"#19d3f3\",\"#FF6692\",\"#B6E880\",\"#FF97FF\",\"#FECB52\"],\"font\":{\"color\":\"#2a3f5f\"},\"geo\":{\"bgcolor\":\"white\",\"lakecolor\":\"white\",\"landcolor\":\"#E5ECF6\",\"showlakes\":true,\"showland\":true,\"subunitcolor\":\"white\"},\"hoverlabel\":{\"align\":\"left\"},\"hovermode\":\"closest\",\"mapbox\":{\"style\":\"light\"},\"paper_bgcolor\":\"white\",\"plot_bgcolor\":\"#E5ECF6\",\"polar\":{\"angularaxis\":{\"gridcolor\":\"white\",\"linecolor\":\"white\",\"ticks\":\"\"},\"bgcolor\":\"#E5ECF6\",\"radialaxis\":{\"gridcolor\":\"white\",\"linecolor\":\"white\",\"ticks\":\"\"}},\"scene\":{\"xaxis\":{\"backgroundcolor\":\"#E5ECF6\",\"gridcolor\":\"white\",\"gridwidth\":2,\"linecolor\":\"white\",\"showbackground\":true,\"ticks\":\"\",\"zerolinecolor\":\"white\"},\"yaxis\":{\"backgroundcolor\":\"#E5ECF6\",\"gridcolor\":\"white\",\"gridwidth\":2,\"linecolor\":\"white\",\"showbackground\":true,\"ticks\":\"\",\"zerolinecolor\":\"white\"},\"zaxis\":{\"backgroundcolor\":\"#E5ECF6\",\"gridcolor\":\"white\",\"gridwidth\":2,\"linecolor\":\"white\",\"showbackground\":true,\"ticks\":\"\",\"zerolinecolor\":\"white\"}},\"shapedefaults\":{\"line\":{\"color\":\"#2a3f5f\"}},\"ternary\":{\"aaxis\":{\"gridcolor\":\"white\",\"linecolor\":\"white\",\"ticks\":\"\"},\"baxis\":{\"gridcolor\":\"white\",\"linecolor\":\"white\",\"ticks\":\"\"},\"bgcolor\":\"#E5ECF6\",\"caxis\":{\"gridcolor\":\"white\",\"linecolor\":\"white\",\"ticks\":\"\"}},\"title\":{\"x\":0.05},\"xaxis\":{\"automargin\":true,\"gridcolor\":\"white\",\"linecolor\":\"white\",\"ticks\":\"\",\"title\":{\"standoff\":15},\"zerolinecolor\":\"white\",\"zerolinewidth\":2},\"yaxis\":{\"automargin\":true,\"gridcolor\":\"white\",\"linecolor\":\"white\",\"ticks\":\"\",\"title\":{\"standoff\":15},\"zerolinecolor\":\"white\",\"zerolinewidth\":2}}},\"legend\":{\"tracegroupgap\":0},\"title\":{\"text\":\"EV Pricing across BC\"}},                        {\"responsive\": true}                    ).then(function(){\n",
       "                            \n",
       "var gd = document.getElementById('7e973d44-708f-44db-ba1d-4e3828c781c7');\n",
       "var x = new MutationObserver(function (mutations, observer) {{\n",
       "        var display = window.getComputedStyle(gd).display;\n",
       "        if (!display || display === 'none') {{\n",
       "            console.log([gd, 'removed!']);\n",
       "            Plotly.purge(gd);\n",
       "            observer.disconnect();\n",
       "        }}\n",
       "}});\n",
       "\n",
       "// Listen for the removal of the full notebook cells\n",
       "var notebookContainer = gd.closest('#notebook-container');\n",
       "if (notebookContainer) {{\n",
       "    x.observe(notebookContainer, {childList: true});\n",
       "}}\n",
       "\n",
       "// Listen for the clearing of the current output cell\n",
       "var outputEl = gd.closest('.output');\n",
       "if (outputEl) {{\n",
       "    x.observe(outputEl, {childList: true});\n",
       "}}\n",
       "\n",
       "                        })                };                });            </script>        </div>"
      ]
     },
     "metadata": {},
     "output_type": "display_data"
    }
   ],
   "source": [
    "# Using plotly.express\n",
    "price_df = df_pricing['EV Pricing'].value_counts().to_frame()\n",
    "price_df = price_df.reset_index()\n",
    "price_df = price_df.rename(columns={\"index\": \"Category\"})\n",
    "\n",
    "# Using plotly.express\n",
    "fig = px.pie(price_df, values='EV Pricing', names='Category',title = 'EV Station Pricing across BC')\n",
    "fig.show()"
   ]
  },
  {
   "cell_type": "markdown",
   "id": "695ba0af-4048-41b5-ae8c-2317b73321f9",
   "metadata": {},
   "source": [
    "### After binning values to reduce cardinality, we see that nearly two-thirds of the cost of EV charging stations in BC are free. The remaining charging stations include conditions on the amount charged to consumers, such as 21 cents per minute, or free but with parking fees required."
   ]
  },
  {
   "cell_type": "markdown",
   "id": "fc45261a-55fd-4330-a5ba-6275963148f7",
   "metadata": {},
   "source": [
    "### As most of the EV stations are free, an analysis detailing which BC cities pay more for EV charging may not be as helpful for the overall BC EV network analysis as differences may be neglible."
   ]
  },
  {
   "cell_type": "markdown",
   "id": "70ca853a-74f1-4453-b48c-dc5beb4a53c4",
   "metadata": {},
   "source": [
    "## Additional Questions"
   ]
  },
  {
   "cell_type": "markdown",
   "id": "92b6be32-9493-4577-bcf4-7e4c418aa510",
   "metadata": {},
   "source": [
    "### After analysing this dataset, I would have preferred to examine the distances between EV charging stations and determine if a resident in Surrey, for example, had a harder time accessing an EV station compared to a resident of Vancouver. I attempted to map the location of EV vehicles, but I was not able to quickly collect the geospatial data from the BC public government. While a map may have been interesting, determining which BC residents may have to travel longer distances to access a public EV charging station was something I would have liked to answer. \n",
    "\n",
    "### One concern could be the centralization of EV charging stations in BC's major cities like Vancouver while smaller towns have far fewer the number of EV charging stations. This lack of distribution could hinder the adoption of electric vehicles in BC if there are not enough publicly EV charging stations available outside of big cities.\n",
    "\n",
    "### I would recommended greater data retention as some variables are missing which makes a further-indepth analysis difficult. I also found inconsistencies in the way data is entered into the system and I think improving this consistency would be an improvement. "
   ]
  },
  {
   "cell_type": "code",
   "execution_count": null,
   "id": "8b202b06-4548-4a8b-b46e-d889d1650d18",
   "metadata": {},
   "outputs": [],
   "source": []
  }
 ],
 "metadata": {
  "kernelspec": {
   "display_name": "Python 3 (ipykernel)",
   "language": "python",
   "name": "python3"
  },
  "language_info": {
   "codemirror_mode": {
    "name": "ipython",
    "version": 3
   },
   "file_extension": ".py",
   "mimetype": "text/x-python",
   "name": "python",
   "nbconvert_exporter": "python",
   "pygments_lexer": "ipython3",
   "version": "3.8.2"
  }
 },
 "nbformat": 4,
 "nbformat_minor": 5
}
